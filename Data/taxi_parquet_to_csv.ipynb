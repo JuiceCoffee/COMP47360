{
 "cells": [
  {
   "cell_type": "markdown",
   "id": "4b2c5d71",
   "metadata": {},
   "source": [
    "# Taxi data retrieved from the source below\n",
    "- https://www.nyc.gov/site/tlc/about/tlc-trip-record-data.page\n",
    "## Other Sources used\n",
    "- https://mungingdata.com/python/writing-parquet-pandas-pyspark-koalas/\n",
    "- https://stackoverflow.com/questions/68755940/pyspark-read-multiple-csv-files-and-annotate-them-with-the-source"
   ]
  },
  {
   "cell_type": "code",
   "execution_count": null,
   "id": "31d1d228",
   "metadata": {},
   "outputs": [],
   "source": []
  },
  {
   "cell_type": "code",
   "execution_count": 2,
   "id": "1b657c88",
   "metadata": {},
   "outputs": [],
   "source": [
    "from pyspark.sql import SparkSession\n",
    "import pandas as pd"
   ]
  },
  {
   "cell_type": "code",
   "execution_count": null,
   "id": "32bbbe11",
   "metadata": {},
   "outputs": [],
   "source": []
  },
  {
   "cell_type": "code",
   "execution_count": 8,
   "id": "e9b8dbfc",
   "metadata": {},
   "outputs": [],
   "source": [
    "# reading and converting parquet files to csv\n",
    "\n",
    "# feb 2022\n",
    "taxi2 = pd.read_parquet(\"yellow_taxi_trips/yellow_tripdata_2022-02.parquet\")\n",
    "taxi2.to_csv(\"yellow_taxi_feb.csv\", index = False)\n",
    "\n",
    "# mar 2022\n",
    "taxi3 = pd.read_parquet(\"yellow_taxi_trips/yellow_tripdata_2022-03.parquet\")\n",
    "taxi3.to_csv(\"yellow_taxi_mar.csv\", index = False)\n",
    "\n",
    "# apr 2022\n",
    "taxi4 = pd.read_parquet(\"yellow_taxi_trips/yellow_tripdata_2022-04.parquet\")\n",
    "taxi4.to_csv(\"yellow_taxi_apr.csv\", index = False)\n",
    "\n",
    "# may 2022\n",
    "taxi5 = pd.read_parquet(\"yellow_taxi_trips/yellow_tripdata_2022-05.parquet\")\n",
    "taxi5.to_csv(\"yellow_taxi_may.csv\", index = False)\n",
    "\n",
    "# june 2022\n",
    "taxi6 = pd.read_parquet(\"yellow_taxi_trips/yellow_tripdata_2022-06.parquet\")\n",
    "taxi6.to_csv(\"yellow_taxi_june.csv\", index = False)\n",
    "\n",
    "# july 2022\n",
    "taxi7 = pd.read_parquet(\"yellow_taxi_trips/yellow_tripdata_2022-07.parquet\")\n",
    "taxi7.to_csv(\"yellow_taxi_july.csv\", index = False)\n",
    "\n",
    "# aug 2022\n",
    "taxi8 = pd.read_parquet(\"yellow_taxi_trips/yellow_tripdata_2022-08.parquet\")\n",
    "taxi8.to_csv(\"yellow_taxi_aug.csv\", index = False)\n",
    "\n",
    "# sep 2022\n",
    "taxi9 = pd.read_parquet(\"yellow_taxi_trips/yellow_tripdata_2022-09.parquet\")\n",
    "taxi9.to_csv(\"yellow_taxi_sep.csv\", index = False)\n",
    "\n",
    "# oct 2022\n",
    "taxi10 = pd.read_parquet(\"yellow_taxi_trips/yellow_tripdata_2022-10.parquet\")\n",
    "taxi10.to_csv(\"yellow_taxi_oct.csv\", index = False)\n",
    "\n",
    "# nov 2022\n",
    "taxi11 = pd.read_parquet(\"yellow_taxi_trips/yellow_tripdata_2022-11.parquet\")\n",
    "taxi11.to_csv(\"yellow_taxi_nov.csv\", index = False)\n",
    "\n",
    "# dec 2022\n",
    "taxi12 = pd.read_parquet(\"yellow_taxi_trips/yellow_tripdata_2022-12.parquet\")\n",
    "taxi12.to_csv(\"yellow_taxi_dec.csv\", index = False)\n",
    "\n",
    "\n",
    "# jan 2023\n",
    "taxi231 = pd.read_parquet(\"yellow_taxi_trips/yellow_tripdata_2023-01.parquet\")\n",
    "taxi231.to_csv(\"yellow_taxi_jan23.csv\", index = False)\n",
    "\n",
    "#feb 2023\n",
    "taxi232 = pd.read_parquet(\"yellow_taxi_trips/yellow_tripdata_2023-02.parquet\")\n",
    "taxi232.to_csv(\"yellow_taxi_feb23.csv\", index = False)\n",
    "\n",
    "# mar 2023\n",
    "taxi233 = pd.read_parquet(\"yellow_taxi_trips/yellow_tripdata_2023-03.parquet\")\n",
    "taxi233.to_csv(\"yellow_taxi_mar23.csv\", index = False)\n",
    "\n",
    "\n",
    "\n"
   ]
  },
  {
   "cell_type": "code",
   "execution_count": 9,
   "id": "01430923",
   "metadata": {},
   "outputs": [
    {
     "name": "stderr",
     "output_type": "stream",
     "text": [
      "23/07/25 19:16:15 WARN Utils: Your hostname, MacBook-Air-3.local resolves to a loopback address: 127.0.0.1; using 192.168.0.227 instead (on interface en0)\n",
      "23/07/25 19:16:15 WARN Utils: Set SPARK_LOCAL_IP if you need to bind to another address\n",
      "Setting default log level to \"WARN\".\n",
      "To adjust logging level use sc.setLogLevel(newLevel). For SparkR, use setLogLevel(newLevel).\n",
      "23/07/25 19:16:16 WARN NativeCodeLoader: Unable to load native-hadoop library for your platform... using builtin-java classes where applicable\n",
      "                                                                                \r"
     ]
    }
   ],
   "source": [
    "# the csv files created above have been added to a folder \n",
    "# creating a spark session\n",
    "spark = SparkSession.builder.getOrCreate()\n",
    "# reading all the csv files in the folder\n",
    "df = spark.read.csv(\"all_yellow_taxi/*.csv\", header = True, inferSchema = True)\n"
   ]
  },
  {
   "cell_type": "code",
   "execution_count": null,
   "id": "871c3991",
   "metadata": {},
   "outputs": [
    {
     "name": "stderr",
     "output_type": "stream",
     "text": [
      "[Stage 2:>                                                          (0 + 1) / 1]\r"
     ]
    }
   ],
   "source": [
    "# saving all the csv files as one large csv file\n",
    "df.coalesce(1).write.csv(\"yellow_taxi_data\", header = True)"
   ]
  },
  {
   "cell_type": "code",
   "execution_count": null,
   "id": "4aee23da",
   "metadata": {},
   "outputs": [],
   "source": []
  },
  {
   "cell_type": "code",
   "execution_count": null,
   "id": "80a63fa3",
   "metadata": {},
   "outputs": [],
   "source": []
  },
  {
   "cell_type": "code",
   "execution_count": null,
   "id": "9515d758",
   "metadata": {},
   "outputs": [],
   "source": []
  },
  {
   "cell_type": "code",
   "execution_count": null,
   "id": "3f763a7d",
   "metadata": {},
   "outputs": [],
   "source": []
  },
  {
   "cell_type": "code",
   "execution_count": null,
   "id": "a49aeccf",
   "metadata": {},
   "outputs": [],
   "source": []
  },
  {
   "cell_type": "code",
   "execution_count": null,
   "id": "03b16018",
   "metadata": {},
   "outputs": [],
   "source": []
  },
  {
   "cell_type": "code",
   "execution_count": null,
   "id": "4f8aa591",
   "metadata": {},
   "outputs": [],
   "source": []
  },
  {
   "cell_type": "code",
   "execution_count": null,
   "id": "6baf1a9e",
   "metadata": {},
   "outputs": [],
   "source": []
  },
  {
   "cell_type": "code",
   "execution_count": null,
   "id": "bf4e34a9",
   "metadata": {},
   "outputs": [],
   "source": []
  },
  {
   "cell_type": "code",
   "execution_count": null,
   "id": "b9c47441",
   "metadata": {},
   "outputs": [],
   "source": []
  },
  {
   "cell_type": "code",
   "execution_count": null,
   "id": "890936ef",
   "metadata": {},
   "outputs": [],
   "source": []
  },
  {
   "cell_type": "code",
   "execution_count": null,
   "id": "047669ef",
   "metadata": {},
   "outputs": [],
   "source": []
  }
 ],
 "metadata": {
  "kernelspec": {
   "display_name": "Python 3 (ipykernel)",
   "language": "python",
   "name": "python3"
  },
  "language_info": {
   "codemirror_mode": {
    "name": "ipython",
    "version": 3
   },
   "file_extension": ".py",
   "mimetype": "text/x-python",
   "name": "python",
   "nbconvert_exporter": "python",
   "pygments_lexer": "ipython3",
   "version": "3.9.13"
  }
 },
 "nbformat": 4,
 "nbformat_minor": 5
}
