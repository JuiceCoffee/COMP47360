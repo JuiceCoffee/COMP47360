{
 "cells": [
  {
   "cell_type": "markdown",
   "id": "67df06d9",
   "metadata": {},
   "source": [
    "# 日期时间数据的变换\n",
    "\n",
    "\n",

    "## 1 导入所需的模块"

   ]
  },
  {
   "cell_type": "code",

   "execution_count": 35,

   "id": "41ae5367",
   "metadata": {},
   "outputs": [],
   "source": [
    "# 导入pandas模块\n",
    "import pandas as pd\n",
    "\n",
    "# 导入对日期和时间做变换所需的模块\n",
    "from datetime import datetime\n",
    "\n",
    "# 导入识别日期是否是纽约节假日所需的模块\n",

    "import holidays\n",
    "\n",
    "import pickle\n",
    "import numpy as np"

   ]
  },
  {
   "cell_type": "markdown",
   "id": "f6c52aab",
   "metadata": {},
   "source": [

    "# 2 把选定的日期和时间数值变换成datetime对象"

   ]
  },
  {
   "cell_type": "code",

   "execution_count": 36,

   "id": "e33bc906",
   "metadata": {},
   "outputs": [
    {
     "name": "stdout",
     "output_type": "stream",
     "text": [
      "date_time is: 2023-08-23 16:26:00 \n",
      "\n",
      "object type is: <class 'datetime.datetime'>\n"
     ]
    }
   ],
   "source": [
    "year = 2023 # 设定年\n",
    "month = 8 # 设定月\n",
    "day = 23 # 设定日\n",
    "hour = 16 # 设定时\n",
    "minute = 26 # 设定分\n",
    "\n",
    "# 把设定的日期和时间变换成datetime对象\n",
    "date_time = datetime(year, month, day, hour, minute)\n",
    "\n",
    "\n",
    "# 显示变换结果\n",
    "print('date_time is:', date_time, '\\n')\n",
    "print('object type is:', type(date_time))"
   ]
  },
  {
   "cell_type": "markdown",
   "id": "7ed0aa93",
   "metadata": {},
   "source": [

    "# 3 从datetime对象中提取weekday和holiday变量"

   ]
  },
  {
   "cell_type": "code",

   "execution_count": 37,

   "id": "fd7ca840",
   "metadata": {},
   "outputs": [
    {
     "name": "stdout",
     "output_type": "stream",
     "text": [
      "             datetime\n",
      "0 2023-08-23 16:26:00\n"
     ]
    }
   ],
   "source": [
    "# 将date_time值存入一个pandas数据框\n",
    "df = pd.DataFrame({'datetime': [date_time]})\n",
    "\n",
    "# 得到一个只有一列和一行的数据框\n",
    "print(df)"
   ]
  },
  {
   "cell_type": "code",

   "execution_count": 38,

   "id": "82bf2f04",
   "metadata": {},
   "outputs": [
    {
     "name": "stdout",
     "output_type": "stream",
     "text": [
      "             datetime    weekday\n",
      "0 2023-08-23 16:26:00  Wednesday\n"
     ]
    }
   ],
   "source": [
    "# 提取weekday值，表示这一天是星期几\n",
    "df['weekday'] = df['datetime'].dt.strftime('%A')\n",
    "\n",
    "\n",
    "# 显示 变换结果\n",
    "print(df)"
   ]
  },
  {
   "cell_type": "code",

   "execution_count": 39,

   "id": "93e92917",
   "metadata": {},
   "outputs": [
    {
     "name": "stdout",
     "output_type": "stream",
     "text": [
      "             datetime    weekday  holiday\n",
      "0 2023-08-23 16:26:00  Wednesday    False\n"
     ]
    }
   ],
   "source": [
    "# 创建一个节假日实例，并指定是针对纽约州\n",
    "ny_holidays = holidays.US(state='NY')\n",
    "\n",
    "# 判断一个日期是否是节假日\n",
    "df['holiday'] = df['datetime'].apply(lambda x: x in ny_holidays)\n",
    "\n",
    "# 显示 变换结果\n",
    "print(df)"
   ]
  },
  {

   "cell_type": "markdown",
   "id": "9b3a67fb",
   "metadata": {},
   "source": [
    "# 4 从datetime对象中提取timeWindow变量"
   ]
  },
  {
   "cell_type": "code",
   "execution_count": 40,
   "id": "cce2b173",
   "metadata": {},
   "outputs": [
    {
     "name": "stdout",
     "output_type": "stream",
     "text": [
      "             datetime    weekday  holiday timeWindow\n",
      "0 2023-08-23 16:26:00  Wednesday    False         16\n"
     ]
    }
   ],
   "source": [
    "# 继续使用前面的df做例子\n",
    "df['timeWindow'] = df['datetime'].dt.strftime('%H')\n",
    "\n",
    "print(df)"
   ]
  },
  {
   "cell_type": "markdown",
   "id": "45319482",
   "metadata": {},
   "source": [
    "# 5 设定拥挤度的标准"
   ]
  },
  {
   "cell_type": "code",
   "execution_count": 49,
   "id": "d4ade83c",
   "metadata": {},
   "outputs": [
    {
     "name": "stdout",
     "output_type": "stream",
     "text": [
      "<class 'list'>\n",
      "2388834\n"
     ]
    }
   ],
   "source": [
    "# 加载模型数据\n",
    "path = 'C:/Users/Administrator/practicumProject2/'\n",
    "with open(path + 'busyness_POI_40_40.pickle', 'rb') as file:\n",
    "    busyness = pickle.load(file)\n",
    "\n",
    "    \n",
    "print(type(busyness))\n",
    "print(len(busyness))"
   ]
  },
  {
   "cell_type": "code",
   "execution_count": 43,
   "id": "13c08555",
   "metadata": {},
   "outputs": [
    {
     "name": "stdout",
     "output_type": "stream",
     "text": [
      "最低30%分位点： -0.7973314179984983\n",
      "最高30%分位点： 0.36497361865659717\n"
     ]
    }
   ],
   "source": [
    "# 取分位点，比如最低30%分位点，就是30%分位点\n",
    "percentile_30 = np.percentile(busyness, 30) \n",
    "print('最低30%分位点：',percentile_30)\n",
    "\n",
    "# 取分位点，比如最高30%分位点，就是70%分位点\n",
    "percentile_70 = np.percentile(busyness, 100-30) \n",
    "print('最高30%分位点：',percentile_70)"
   ]
  },
  {
   "cell_type": "markdown",
   "id": "6d629346",
   "metadata": {},
   "source": [
    "然后你就可以写逻辑条件：\n",
    "\n",
    "if x < percentile_30:\n",
    "    显示不拥挤的绿色\n",
    "\n",
    "if x > percentile_70:\n",
    "    显示拥挤的红色\n",
    "\n",
    "\n",
    "\n",
    "你也可以取多个分位点，比如取十个分位点，显示十个拥挤梯度，代码如下："
   ]
  },
  {
   "cell_type": "code",
   "execution_count": 48,
   "id": "afe5ce28",
   "metadata": {},
   "outputs": [
    {
     "name": "stdout",
     "output_type": "stream",
     "text": [
      "percentile_10 is:  -1.070624939703595\n",
      "percentile_20 is:  -0.9695354551147937\n",
      "percentile_30 is:  -0.7973314179984983\n",
      "percentile_40 is:  -0.5387508788899107\n",
      "percentile_50 is:  -0.28961762639632294\n",
      "percentile_60 is:  0.021596873552746376\n",
      "percentile_70 is:  0.36497361865659717\n",
      "percentile_80 is:  0.7493537954923936\n",
      "percentile_90 is:  1.4328275557235677\n"
     ]
    }
   ],
   "source": [
    "percentage = [10, 20, 30, 40, 50, 60, 70, 80, 90]\n",
    "percentile = []\n",
    "for k in percentage:\n",
    "    percentile.append(np.percentile(busyness, k))\n",
    "    print('percentile_{} is: '.format(k),percentile[-1])\n",
    "\n"
   ]
  },
  {
   "cell_type": "code",
   "execution_count": null,
   "id": "9304936b",

   "metadata": {},
   "outputs": [],
   "source": []
  }
 ],
 "metadata": {
  "kernelspec": {
   "display_name": "Python 3 (ipykernel)",
   "language": "python",
   "name": "python3"
  },
  "language_info": {
   "codemirror_mode": {
    "name": "ipython",
    "version": 3
   },
   "file_extension": ".py",
   "mimetype": "text/x-python",
   "name": "python",
   "nbconvert_exporter": "python",
   "pygments_lexer": "ipython3",
   "version": "3.10.9"
  }
 },
 "nbformat": 4,
 "nbformat_minor": 5
}
