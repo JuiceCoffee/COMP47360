{
 "cells": [
  {
   "cell_type": "markdown",
   "id": "67df06d9",
   "metadata": {},
   "source": [
    "# 日期时间数据的变换\n",
    "\n",
    "\n",
    "## 导入所需的模块"
   ]
  },
  {
   "cell_type": "code",
   "execution_count": 17,
   "id": "41ae5367",
   "metadata": {},
   "outputs": [],
   "source": [
    "# 导入pandas模块\n",
    "import pandas as pd\n",
    "\n",
    "# 导入对日期和时间做变换所需的模块\n",
    "from datetime import datetime\n",
    "\n",
    "# 导入识别日期是否是纽约节假日所需的模块\n",
    "import holidays"
   ]
  },
  {
   "cell_type": "markdown",
   "id": "f6c52aab",
   "metadata": {},
   "source": [
    "# 把选定的日期和时间数值变换成datetime对象"
   ]
  },
  {
   "cell_type": "code",
   "execution_count": 9,
   "id": "e33bc906",
   "metadata": {},
   "outputs": [
    {
     "name": "stdout",
     "output_type": "stream",
     "text": [
      "date_time is: 2023-08-23 16:26:00 \n",
      "\n",
      "object type is: <class 'datetime.datetime'>\n"
     ]
    }
   ],
   "source": [
    "year = 2023 # 设定年\n",
    "month = 8 # 设定月\n",
    "day = 23 # 设定日\n",
    "hour = 16 # 设定时\n",
    "minute = 26 # 设定分\n",
    "\n",
    "# 把设定的日期和时间变换成datetime对象\n",
    "date_time = datetime(year, month, day, hour, minute)\n",
    "\n",
    "\n",
    "# 显示变换结果\n",
    "print('date_time is:', date_time, '\\n')\n",
    "print('object type is:', type(date_time))"
   ]
  },
  {
   "cell_type": "markdown",
   "id": "7ed0aa93",
   "metadata": {},
   "source": [
    "# 从datetime对象中提取weekday和holiday变量"
   ]
  },
  {
   "cell_type": "code",
   "execution_count": 19,
   "id": "fd7ca840",
   "metadata": {},
   "outputs": [
    {
     "name": "stdout",
     "output_type": "stream",
     "text": [
      "             datetime\n",
      "0 2023-08-23 16:26:00\n"
     ]
    }
   ],
   "source": [
    "# 将date_time值存入一个pandas数据框\n",
    "df = pd.DataFrame({'datetime': [date_time]})\n",
    "\n",
    "# 得到一个只有一列和一行的数据框\n",
    "print(df)"
   ]
  },
  {
   "cell_type": "code",
   "execution_count": 20,
   "id": "82bf2f04",
   "metadata": {},
   "outputs": [
    {
     "name": "stdout",
     "output_type": "stream",
     "text": [
      "             datetime    weekday\n",
      "0 2023-08-23 16:26:00  Wednesday\n"
     ]
    }
   ],
   "source": [
    "# 提取weekday值，表示这一天是星期几\n",
    "df['weekday'] = df['datetime'].dt.strftime('%A')\n",
    "\n",
    "\n",
    "# 显示 变换结果\n",
    "print(df)"
   ]
  },
  {
   "cell_type": "code",
   "execution_count": 21,
   "id": "93e92917",
   "metadata": {},
   "outputs": [
    {
     "name": "stdout",
     "output_type": "stream",
     "text": [
      "             datetime    weekday  holiday\n",
      "0 2023-08-23 16:26:00  Wednesday    False\n"
     ]
    }
   ],
   "source": [
    "# 创建一个节假日实例，并指定是针对纽约州\n",
    "ny_holidays = holidays.US(state='NY')\n",
    "\n",
    "# 判断一个日期是否是节假日\n",
    "df['holiday'] = df['datetime'].apply(lambda x: x in ny_holidays)\n",
    "\n",
    "# 显示 变换结果\n",
    "print(df)"
   ]
  },
  {
   "cell_type": "code",
   "execution_count": null,
   "id": "80d9f5e6",
   "metadata": {},
   "outputs": [],
   "source": []
  }
 ],
 "metadata": {
  "kernelspec": {
   "display_name": "Python 3 (ipykernel)",
   "language": "python",
   "name": "python3"
  },
  "language_info": {
   "codemirror_mode": {
    "name": "ipython",
    "version": 3
   },
   "file_extension": ".py",
   "mimetype": "text/x-python",
   "name": "python",
   "nbconvert_exporter": "python",
   "pygments_lexer": "ipython3",
   "version": "3.10.9"
  }
 },
 "nbformat": 4,
 "nbformat_minor": 5
}
