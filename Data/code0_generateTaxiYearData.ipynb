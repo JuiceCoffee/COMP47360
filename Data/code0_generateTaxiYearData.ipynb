{
 "cells": [
  {
   "cell_type": "markdown",
   "id": "5fe4514f",
   "metadata": {},
   "source": [
    "The New York government website only provides monthly data sets for download. Therefore, this code file merges them into a yearly one for later use and performs data cleaning as well.\n",
    "\n",
    "At last, there are two yearly data sets, one consisting of data for 2022 and the other representing data for 2023.\n",
    "\n",
    "The data set for 2022 covers the whole year, while the one for 2023 only covers until the end of April."
   ]
  },
  {
   "cell_type": "code",
   "execution_count": 63,
   "id": "693d8128",
   "metadata": {},
   "outputs": [],
   "source": [
    "# pip install pyarrow\n",
    "# pip install fastparquet\n",
    "import pandas as pd\n",
    "import pickle\n",
    "from collections import Counter\n",
    "import matplotlib.pyplot as plt"
   ]
  },
  {
   "cell_type": "markdown",
   "id": "6efc1e3b",
   "metadata": {},
   "source": [
    "Read the file name list of the data files in the folder for a given year."
   ]
  },
  {
   "cell_type": "code",
   "execution_count": 64,
   "id": "245ff04d",
   "metadata": {},
   "outputs": [],
   "source": [
    "# set the year of the data to read\n",
    "year = 2022\n",
    "\n",
    "# set the path of the data folder\n",
    "path = 'C:/Users/Administrator/practicumProject2/yellow_tripdata_{}/'.format(year)\n",
    "\n",
    "# read file list\n",
    "with open(path+'fileList.txt', 'r') as file:\n",
    "    lines = file.readlines()\n",
    "fileList = [t.strip() for t in lines ]"
   ]
  },
  {
   "cell_type": "markdown",
   "id": "72199b59",
   "metadata": {},
   "source": [
    "Read the data in each file according to the file name list, and merge them into a single data frame."
   ]
  },
  {
   "cell_type": "code",
   "execution_count": 65,
   "id": "209c8de6",
   "metadata": {},
   "outputs": [
    {
     "name": "stdout",
     "output_type": "stream",
     "text": [
      "The progress of the loop:\n",
      "[1, 12]\n",
      "[2, 12]\n",
      "[3, 12]\n",
      "[4, 12]\n",
      "[5, 12]\n",
      "[6, 12]\n",
      "[7, 12]\n",
      "[8, 12]\n",
      "[9, 12]\n",
      "[10, 12]\n",
      "[11, 12]\n",
      "\n",
      "The shape of the data frame:  (39656098, 5) \n",
      "\n",
      "The type of each column: \n",
      "tpep_pickup_datetime     datetime64[ns]\n",
      "tpep_dropoff_datetime    datetime64[ns]\n",
      "passenger_count                 float64\n",
      "PULocationID                      int64\n",
      "DOLocationID                      int64\n",
      "dtype: object\n"
     ]
    }
   ],
   "source": [
    "# select the columns to read\n",
    "columnsUsed = ['tpep_pickup_datetime', 'tpep_dropoff_datetime', 'passenger_count', 'PULocationID', 'DOLocationID']\n",
    "\n",
    "# read the first file\n",
    "df = pd.read_parquet(path+fileList[0], columns = columnsUsed)\n",
    "\n",
    "# rea the remained files by loop\n",
    "print('The progress of the loop:')\n",
    "for k in range(1, len(fileList)):\n",
    "    print([k, len(fileList)])\n",
    "    temp = pd.read_parquet(path+fileList[k], columns = columnsUsed)\n",
    "    df = pd.concat([df, temp], ignore_index = True)\n",
    "\n",
    "    \n",
    "print('\\nThe shape of the data frame: ', df.shape, '\\n')\n",
    "print('The type of each column: ')\n",
    "print(df.dtypes)"
   ]
  },
  {
   "cell_type": "markdown",
   "id": "6d7b1741",
   "metadata": {},
   "source": [
    "Show all the unique values of the year in the date-time columns to check for any abnormal values. If any are found, correct the abnormalities."
   ]
  },
  {
   "cell_type": "code",
   "execution_count": 66,
   "id": "9f5d4c87",
   "metadata": {},
   "outputs": [
    {
     "name": "stdout",
     "output_type": "stream",
     "text": [
      "All the unique values of year in \"tpep_pickup_datetime\":\n",
      "{2021, 2022, 2023, 2001, 2002, 2003, 2008, 2009, 2012}\n",
      "\n",
      "\n",
      "All the unique values of year in \"tpep_dropoff_datetime\":\n",
      "{2021, 2022, 2023, 2001, 2002, 2003, 2008, 2009, 2012}\n"
     ]
    }
   ],
   "source": [
    "# Display all the unique values in the data set\n",
    "years = [x.year for x in df['tpep_pickup_datetime']]\n",
    "print('All the unique values of year in \"tpep_pickup_datetime\":')\n",
    "print(set(years))\n",
    "print('\\n')\n",
    "\n",
    "years = [x.year for x in df['tpep_dropoff_datetime']]\n",
    "print('All the unique values of year in \"tpep_dropoff_datetime\":')\n",
    "print(set(years))"
   ]
  },
  {
   "cell_type": "code",
   "execution_count": 67,
   "id": "eb45bb38",
   "metadata": {},
   "outputs": [],
   "source": [
    "# correct the mistakenly labeled number in 'tpep_pickup_datetime'\n",
    "df['tpep_pickup_datetime'] = df['tpep_pickup_datetime'].apply(lambda x: x.replace(year=2022) if x.year != 2022 else x)\n",
    "\n",
    "# correct the mistakenly labeled number in 'tpep_dropoff_datetime'\n",
    "df['tpep_dropoff_datetime'] = df['tpep_dropoff_datetime'].apply(lambda x: x.replace(year=2022) if x.year != 2022 else x)"
   ]
  },
  {
   "cell_type": "markdown",
   "id": "a4d5384d",
   "metadata": {},
   "source": [
    "Redisplay all the unique values of year to verify the correction effect."
   ]
  },
  {
   "cell_type": "code",
   "execution_count": 68,
   "id": "3367802f",
   "metadata": {},
   "outputs": [
    {
     "name": "stdout",
     "output_type": "stream",
     "text": [
      "All the unique values of year in \"tpep_pickup_datetime\":\n",
      "{2022}\n",
      "\n",
      "\n",
      "All the unique values of year in \"tpep_dropoff_datetime\":\n",
      "{2022}\n"
     ]
    }
   ],
   "source": [
    "# Display all the unique values in the data set\n",
    "years = [x.year for x in df['tpep_pickup_datetime']]\n",
    "print('All the unique values of year in \"tpep_pickup_datetime\":')\n",
    "print(set(years))\n",
    "print('\\n')\n",
    "\n",
    "years = [x.year for x in df['tpep_dropoff_datetime']]\n",
    "print('All the unique values of year in \"tpep_dropoff_datetime\":')\n",
    "print(set(years))"
   ]
  },
  {
   "cell_type": "markdown",
   "id": "e3f085d5",
   "metadata": {},
   "source": [
    "Show all the unique values in the'passenger_count' column to check for any abnormal values. If any are found, correct the abnormalities."
   ]
  },
  {
   "cell_type": "code",
   "execution_count": 69,
   "id": "594039b6",
   "metadata": {},
   "outputs": [
    {
     "name": "stdout",
     "output_type": "stream",
     "text": [
      "The number of unique values in \"passenger_count\" is 1368313 \n",
      "\n",
      "Display the first 100 values:\n",
      " [0.0, 1.0, 2.0, 3.0, 4.0, 5.0, 6.0, 7.0, 8.0, 9.0, nan, nan, nan, nan, nan, nan, nan, nan, nan, nan, nan, nan, nan, nan, nan, nan, nan, nan, nan, nan, nan, nan, nan, nan, nan, nan, nan, nan, nan, nan, nan, nan, nan, nan, nan, nan, nan, nan, nan, nan, nan, nan, nan, nan, nan, nan, nan, nan, nan, nan, nan, nan, nan, nan, nan, nan, nan, nan, nan, nan, nan, nan, nan, nan, nan, nan, nan, nan, nan, nan, nan, nan, nan, nan, nan, nan, nan, nan, nan, nan, nan, nan, nan, nan, nan, nan, nan, nan, nan, nan]\n"
     ]
    }
   ],
   "source": [
    "# Display all the unique values in the data set\n",
    "passenger_counts = list(set(df['passenger_count']))\n",
    "print('The number of unique values in \"passenger_count\" is', len(passenger_counts), '\\n')\n",
    "print('Display the first 100 values:\\n', passenger_counts[0:100])"
   ]
  },
  {
   "cell_type": "markdown",
   "id": "fb8659a6",
   "metadata": {},
   "source": [
    "Generate the distribution of various values of \"passenger_count\"."
   ]
  },
  {
   "cell_type": "code",
   "execution_count": 70,
   "id": "710f9d8b",
   "metadata": {},
   "outputs": [
    {
     "data": {
      "image/png": "[encoded data removed]",
      "text/plain": [
       "<Figure size 1000x600 with 1 Axes>"
      ]
     },
     "metadata": {},
     "output_type": "display_data"
    }
   ],
   "source": [
    "# drop all nan rows\n",
    "df_no_NA = df.dropna()\n",
    "\n",
    "# Count the number of each non-nan value\n",
    "value_counts = Counter(list(df_no_NA['passenger_count']))\n",
    "\n",
    "# take out all values and their weights\n",
    "values = list(value_counts.keys())\n",
    "weights = list(value_counts.values())\n",
    "weights = [x/len(df) for x in weights]\n",
    "\n",
    "# Add the percentage of nan value\n",
    "values.append('nan')\n",
    "values = [str(x) for x in values]\n",
    "weights.append((len(passenger_counts) - 10) / len(df))\n",
    "\n",
    "# draw the distribution of the values in column 'passenger_count'\n",
    "plt.figure(figsize=(10, 6))\n",
    "plt.bar(values, weights)\n",
    "plt.xlabel('Passenger Count')\n",
    "plt.ylabel('Percentage')\n",
    "plt.title('Percentage of Each Numeric Value in \"passenger_count\"')\n",
    "plt.xticks(rotation=45)\n",
    "plt.grid(axis='y', linestyle='--', alpha=0.7)\n",
    "plt.show()"
   ]
  },
  {
   "cell_type": "markdown",
   "id": "35d891d4",
   "metadata": {},
   "source": [
    "According to the above histogram, we replace the NaN values with 1.0, the most frequent value, to minimize the information loss."
   ]
  },
  {
   "cell_type": "code",
   "execution_count": 71,
   "id": "1f9a06df",
   "metadata": {},
   "outputs": [
    {
     "name": "stdout",
     "output_type": "stream",
     "text": [
      "tpep_pickup_datetime     datetime64[ns]\n",
      "tpep_dropoff_datetime    datetime64[ns]\n",
      "passenger_count                   int32\n",
      "PULocationID                      int32\n",
      "DOLocationID                      int32\n",
      "dtype: object\n"
     ]
    }
   ],
   "source": [
    "# replace the na value with 1.0\n",
    "df['passenger_count'].fillna(1.0, inplace=True)\n",
    "\n",
    "# conver the float to int to save memory\n",
    "df['passenger_count'] = df['passenger_count'].astype('int')\n",
    "\n",
    "# set the type of ids as short integer to save memory\n",
    "df['PULocationID'] = df['PULocationID'].astype('int')\n",
    "df['DOLocationID'] = df['DOLocationID'].astype('int')\n",
    "\n",
    "print(df.dtypes)"
   ]
  },
  {
   "cell_type": "code",
   "execution_count": 72,
   "id": "a4dd091b",
   "metadata": {},
   "outputs": [],
   "source": [
    "# save the file to disk\n",
    "with open('C:/Users/Administrator/practicumProject2/yellow_taxi_tripdata_{}.pickle'.format(year), 'wb') as file:\n",
    "    pickle.dump(df, file)"
   ]
  },
  {
   "cell_type": "code",
   "execution_count": null,
   "id": "405cf711",
   "metadata": {},
   "outputs": [],
   "source": []
  }
 ],
 "metadata": {
  "kernelspec": {
   "display_name": "Python 3 (ipykernel)",
   "language": "python",
   "name": "python3"
  },
  "language_info": {
   "codemirror_mode": {
    "name": "ipython",
    "version": 3
   },
   "file_extension": ".py",
   "mimetype": "text/x-python",
   "name": "python",
   "nbconvert_exporter": "python",
   "pygments_lexer": "ipython3",
   "version": "3.10.9"
  }
 },
 "nbformat": 4,
 "nbformat_minor": 5
}
