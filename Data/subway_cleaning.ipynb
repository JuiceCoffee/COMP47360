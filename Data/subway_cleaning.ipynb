{
 "cells": [
  {
   "cell_type": "code",
   "execution_count": 60,
   "id": "4155022b",
   "metadata": {},
   "outputs": [],
   "source": [
    "import pyspark.sql\n",
    "from pyspark.sql.functions import col, count, isnan, to_timestamp, mean, max, min, lit, when\n",
    "import matplotlib.pyplot as plt\n",
    "from pyspark.sql import SparkSession"
   ]
  },
  {
   "cell_type": "markdown",
   "id": "6e1874a5",
   "metadata": {},
   "source": [
    "# Sources \n",
    "- https://mungingdata.com/python/writing-parquet-pandas-pyspark-koalas/\n",
    "- https://sparkbyexamples.com/pyspark/pyspark-dataframe-shape/\n",
    "- https://sparkbyexamples.com/pyspark/pyspark-drop-column-from-dataframe/\n",
    "- https://www.programmingfunda.com/how-to-count-null-and-nan-values-in-each-column-in-pyspark-dataframe/\n",
    "- https://stackoverflow.com/questions/59969378/how-do-i-calculate-the-percentage-of-none-or-nan-values-in-pyspark\n",
    "- https://sparkbyexamples.com/spark/show-top-n-rows-in-spark-pyspark/?expand_article=1\n",
    "- https://www.geeksforgeeks.org/pyspark-count-distinct-from-dataframe/"
   ]
  },
  {
   "cell_type": "code",
   "execution_count": null,
   "id": "8a89958e",
   "metadata": {},
   "outputs": [],
   "source": []
  },
  {
   "cell_type": "code",
   "execution_count": 61,
   "id": "ff1ba6dc",
   "metadata": {},
   "outputs": [],
   "source": [
    "# creating spark sessions\n",
    "spark = SparkSession.builder.getOrCreate()"
   ]
  },
  {
   "cell_type": "code",
   "execution_count": 62,
   "id": "e978b918",
   "metadata": {},
   "outputs": [
    {
     "name": "stderr",
     "output_type": "stream",
     "text": [
      "                                                                                \r"
     ]
    }
   ],
   "source": [
    "# reading subway data\n",
    "df = spark.read.csv(\"MTA_Subway_Hourly_Ridership__Beginning_February_2022.csv\", header=True, inferSchema=True)\n",
    "\n"
   ]
  },
  {
   "cell_type": "code",
   "execution_count": 63,
   "id": "c3188d87",
   "metadata": {},
   "outputs": [
    {
     "name": "stdout",
     "output_type": "stream",
     "text": [
      "+--------------------+------------------+----------------+-------+------+--------------+---------+---------+---------+---------+--------------------+------------------------+------------------+--------+\n",
      "|   transit_timestamp|station_complex_id| station_complex|borough|routes|payment_method|ridership|transfers| latitude|longitude|        Georeference|NYS Municipal Boundaries|New York Zip Codes|Counties|\n",
      "+--------------------+------------------+----------------+-------+------+--------------+---------+---------+---------+---------+--------------------+------------------------+------------------+--------+\n",
      "|03/03/2022 10:00:...|              N535|Carroll St (F,G)|     BK|   F,G|           all|        1|        0|  40.6803|-73.99505|POINT (-73.99505 ...|                     894|               814|    2090|\n",
      "|02/06/2022 10:00:...|             N408A|   Nassau Av (G)|     BK|     G|           all|       78|        0|40.724636|-73.95128|POINT (-73.95128 ...|                     894|               901|    2090|\n",
      "|02/06/2022 11:00:...|             N408A|   Nassau Av (G)|     BK|     G|           all|       82|        0|40.724636|-73.95128|POINT (-73.95128 ...|                     894|               901|    2090|\n",
      "|07/02/2022 11:00:...|             N408A|   Nassau Av (G)|     BK|     G|           all|       87|        0|40.724636|-73.95128|POINT (-73.95128 ...|                     894|               901|    2090|\n",
      "|07/03/2022 04:00:...|             N408A|   Nassau Av (G)|     BK|     G|           all|       16|        0|40.724636|-73.95128|POINT (-73.95128 ...|                     894|               901|    2090|\n",
      "+--------------------+------------------+----------------+-------+------+--------------+---------+---------+---------+---------+--------------------+------------------------+------------------+--------+\n",
      "only showing top 5 rows\n",
      "\n"
     ]
    }
   ],
   "source": [
    "# first 5 rows \n",
    "df.show(n = 5)"
   ]
  },
  {
   "cell_type": "code",
   "execution_count": 64,
   "id": "17e05feb",
   "metadata": {},
   "outputs": [
    {
     "name": "stderr",
     "output_type": "stream",
     "text": [
      "                                                                                \r"
     ]
    },
    {
     "name": "stdout",
     "output_type": "stream",
     "text": [
      "transit_timestamp has 11951 distinct values\n"
     ]
    },
    {
     "name": "stderr",
     "output_type": "stream",
     "text": [
      "                                                                                \r"
     ]
    },
    {
     "name": "stdout",
     "output_type": "stream",
     "text": [
      "station_complex_id has 423 distinct values\n"
     ]
    },
    {
     "name": "stderr",
     "output_type": "stream",
     "text": [
      "                                                                                \r"
     ]
    },
    {
     "name": "stdout",
     "output_type": "stream",
     "text": [
      "station_complex has 423 distinct values\n"
     ]
    },
    {
     "name": "stderr",
     "output_type": "stream",
     "text": [
      "                                                                                \r"
     ]
    },
    {
     "name": "stdout",
     "output_type": "stream",
     "text": [
      "borough has 4 distinct values\n"
     ]
    },
    {
     "name": "stderr",
     "output_type": "stream",
     "text": [
      "                                                                                \r"
     ]
    },
    {
     "name": "stdout",
     "output_type": "stream",
     "text": [
      "routes has 92 distinct values\n"
     ]
    },
    {
     "name": "stderr",
     "output_type": "stream",
     "text": [
      "                                                                                \r"
     ]
    },
    {
     "name": "stdout",
     "output_type": "stream",
     "text": [
      "payment_method has 1 distinct values\n"
     ]
    },
    {
     "name": "stderr",
     "output_type": "stream",
     "text": [
      "                                                                                \r"
     ]
    },
    {
     "name": "stdout",
     "output_type": "stream",
     "text": [
      "ridership has 10803 distinct values\n"
     ]
    },
    {
     "name": "stderr",
     "output_type": "stream",
     "text": [
      "                                                                                \r"
     ]
    },
    {
     "name": "stdout",
     "output_type": "stream",
     "text": [
      "transfers has 1815 distinct values\n"
     ]
    },
    {
     "name": "stderr",
     "output_type": "stream",
     "text": [
      "                                                                                \r"
     ]
    },
    {
     "name": "stdout",
     "output_type": "stream",
     "text": [
      "latitude has 422 distinct values\n"
     ]
    },
    {
     "name": "stderr",
     "output_type": "stream",
     "text": [
      "                                                                                \r"
     ]
    },
    {
     "name": "stdout",
     "output_type": "stream",
     "text": [
      "longitude has 422 distinct values\n"
     ]
    },
    {
     "name": "stderr",
     "output_type": "stream",
     "text": [
      "                                                                                \r"
     ]
    },
    {
     "name": "stdout",
     "output_type": "stream",
     "text": [
      "Georeference has 423 distinct values\n"
     ]
    },
    {
     "name": "stderr",
     "output_type": "stream",
     "text": [
      "                                                                                \r"
     ]
    },
    {
     "name": "stdout",
     "output_type": "stream",
     "text": [
      "NYS Municipal Boundaries has 4 distinct values\n"
     ]
    },
    {
     "name": "stderr",
     "output_type": "stream",
     "text": [
      "                                                                                \r"
     ]
    },
    {
     "name": "stdout",
     "output_type": "stream",
     "text": [
      "New York Zip Codes has 120 distinct values\n"
     ]
    },
    {
     "name": "stderr",
     "output_type": "stream",
     "text": [
      "[Stage 412:=======>                                                 (1 + 7) / 8]\r"
     ]
    },
    {
     "name": "stdout",
     "output_type": "stream",
     "text": [
      "Counties has 5 distinct values\n"
     ]
    },
    {
     "name": "stderr",
     "output_type": "stream",
     "text": [
      "\r",
      "                                                                                \r"
     ]
    }
   ],
   "source": [
    "# number of in the station complex id column\n",
    "for column in df.columns:\n",
    "    distinct_values = df.select(column).distinct().count()\n",
    "    print(f\"{column} has {distinct_values} distinct values\")"
   ]
  },
  {
   "cell_type": "markdown",
   "id": "34faff4d",
   "metadata": {},
   "source": [
    "### Columns to drop \n",
    "- transfers: irrelevant\n",
    "- station_complex: redundant, use station_complex_id instead since they're are both identifiers for each station\n",
    "- routes - irrelevant: multiple values for some rows, may be complicated to create dummies\n",
    "- payment method - irrelevant\n",
    "- counties - irrelevant and redundat - can use borough instead since the values are more meaningful e.g. M represents Manhattan\n",
    "- NYS Municipal Boundaries - irrelevant  \n",
    "- Zip codes - irrelevant, incomplete as one of the some rows are null, subway complex ID can be used to represent this instead"
   ]
  },
  {
   "cell_type": "code",
   "execution_count": 65,
   "id": "4a768496",
   "metadata": {},
   "outputs": [],
   "source": [
    "# dropping columns\n",
    "irrelevant_columns = [\"routes\", \"payment_method\", \"transfers\", \"NYS Municipal Boundaries\", \"New York Zip Codes\", \"Counties\", \"station_complex\"]\n",
    "df = df.drop(*irrelevant_columns)"
   ]
  },
  {
   "cell_type": "code",
   "execution_count": 66,
   "id": "a7d1be0a",
   "metadata": {},
   "outputs": [
    {
     "name": "stdout",
     "output_type": "stream",
     "text": [
      "+--------------------+------------------+-------+---------+---------+---------+--------------------+\n",
      "|   transit_timestamp|station_complex_id|borough|ridership| latitude|longitude|        Georeference|\n",
      "+--------------------+------------------+-------+---------+---------+---------+--------------------+\n",
      "|03/03/2022 10:00:...|              N535|     BK|        1|  40.6803|-73.99505|POINT (-73.99505 ...|\n",
      "|02/06/2022 10:00:...|             N408A|     BK|       78|40.724636|-73.95128|POINT (-73.95128 ...|\n",
      "|02/06/2022 11:00:...|             N408A|     BK|       82|40.724636|-73.95128|POINT (-73.95128 ...|\n",
      "|07/02/2022 11:00:...|             N408A|     BK|       87|40.724636|-73.95128|POINT (-73.95128 ...|\n",
      "|07/03/2022 04:00:...|             N408A|     BK|       16|40.724636|-73.95128|POINT (-73.95128 ...|\n",
      "+--------------------+------------------+-------+---------+---------+---------+--------------------+\n",
      "only showing top 5 rows\n",
      "\n"
     ]
    }
   ],
   "source": [
    "# first 5 rows \n",
    "df.show(n = 5)"
   ]
  },
  {
   "cell_type": "code",
   "execution_count": 67,
   "id": "455f082a",
   "metadata": {},
   "outputs": [
    {
     "name": "stdout",
     "output_type": "stream",
     "text": [
      "There are 4956086 rows and 7 columns in this data frame\n"
     ]
    },
    {
     "name": "stderr",
     "output_type": "stream",
     "text": [
      "\r",
      "[Stage 419:>                                                        (0 + 8) / 8]\r",
      "\r",
      "                                                                                \r"
     ]
    }
   ],
   "source": [
    "# data frame shape \n",
    "rows = df.count()\n",
    "columns = len(df.columns)\n",
    "print(f\"There are {rows} rows and {columns} columns in this data frame\")"
   ]
  },
  {
   "cell_type": "code",
   "execution_count": 68,
   "id": "40170d19",
   "metadata": {},
   "outputs": [
    {
     "name": "stderr",
     "output_type": "stream",
     "text": [
      "\r",
      "[Stage 422:>                                                        (0 + 8) / 8]\r"
     ]
    },
    {
     "name": "stdout",
     "output_type": "stream",
     "text": [
      "+-------+\n",
      "|borough|\n",
      "+-------+\n",
      "|      Q|\n",
      "|     BX|\n",
      "|      M|\n",
      "|     BK|\n",
      "+-------+\n",
      "\n"
     ]
    },
    {
     "name": "stderr",
     "output_type": "stream",
     "text": [
      "\r",
      "[Stage 422:=======>                                                 (1 + 7) / 8]\r",
      "\r",
      "                                                                                \r"
     ]
    }
   ],
   "source": [
    "# distinct boroughs\n",
    "df.select(\"borough\").distinct().show()"
   ]
  },
  {
   "cell_type": "code",
   "execution_count": 69,
   "id": "14c6e5a5",
   "metadata": {},
   "outputs": [],
   "source": [
    "## Filtering for stations in Manhattan\n",
    "df = df.filter(col(\"borough\") == \"M\")"
   ]
  },
  {
   "cell_type": "code",
   "execution_count": 70,
   "id": "c4eadb1d",
   "metadata": {},
   "outputs": [
    {
     "name": "stderr",
     "output_type": "stream",
     "text": [
      "\r",
      "[Stage 425:>                                                        (0 + 8) / 8]\r"
     ]
    },
    {
     "name": "stdout",
     "output_type": "stream",
     "text": [
      "There are 1418979 rows and 7 columns in this data frame\n"
     ]
    },
    {
     "name": "stderr",
     "output_type": "stream",
     "text": [
      "\r",
      "                                                                                \r"
     ]
    }
   ],
   "source": [
    "# shape of filtered data frame\n",
    "rows = df.count()\n",
    "columns = len(df.columns)\n",
    "print(f\"There are {rows} rows and {columns} columns in this data frame\")"
   ]
  },
  {
   "cell_type": "code",
   "execution_count": 71,
   "id": "207c971a",
   "metadata": {},
   "outputs": [
    {
     "name": "stdout",
     "output_type": "stream",
     "text": [
      "+--------------------+------------------+-------+---------+---------+----------+--------------------+\n",
      "|   transit_timestamp|station_complex_id|borough|ridership| latitude| longitude|        Georeference|\n",
      "+--------------------+------------------+-------+---------+---------+----------+--------------------+\n",
      "|02/05/2023 10:00:...|              R252|      M|       56|  40.7906| -73.94748|POINT (-73.94748 ...|\n",
      "|09/17/2022 11:00:...|              R252|      M|      333|  40.7906| -73.94748|POINT (-73.94748 ...|\n",
      "|05/14/2022 10:00:...|              R170|      M|      239|40.799446|-73.968376|POINT (-73.968376...|\n",
      "|05/03/2022 10:00:...|              H007|      M|      470|40.730953| -73.98163|POINT (-73.98163 ...|\n",
      "|01/28/2023 06:00:...|              H007|      M|     1450|40.730953| -73.98163|POINT (-73.98163 ...|\n",
      "+--------------------+------------------+-------+---------+---------+----------+--------------------+\n",
      "only showing top 5 rows\n",
      "\n"
     ]
    }
   ],
   "source": [
    "# first 5 rows of filtered data frame\n",
    "df.show( n = 5)"
   ]
  },
  {
   "cell_type": "code",
   "execution_count": 72,
   "id": "ade3f1de",
   "metadata": {},
   "outputs": [
    {
     "name": "stderr",
     "output_type": "stream",
     "text": [
      "[Stage 429:===================================>                     (5 + 3) / 8]\r"
     ]
    },
    {
     "name": "stdout",
     "output_type": "stream",
     "text": [
      "+-----------------+------------------+-------+---------+--------+---------+------------+\n",
      "|transit_timestamp|station_complex_id|borough|ridership|latitude|longitude|Georeference|\n",
      "+-----------------+------------------+-------+---------+--------+---------+------------+\n",
      "|                0|                 0|      0|        0|       0|        0|           0|\n",
      "+-----------------+------------------+-------+---------+--------+---------+------------+\n",
      "\n"
     ]
    },
    {
     "name": "stderr",
     "output_type": "stream",
     "text": [
      "\r",
      "                                                                                \r"
     ]
    }
   ],
   "source": [
    "# number of null rows in each column\n",
    "df.select([count(when(col(column_name).isNull(), column_name)).alias(column_name) for column_name in df.columns]).show()\n"
   ]
  },
  {
   "cell_type": "markdown",
   "id": "35dced76",
   "metadata": {},
   "source": [
    "- There are no null rows in this data frame"
   ]
  },
  {
   "cell_type": "code",
   "execution_count": null,
   "id": "607b49ee",
   "metadata": {},
   "outputs": [],
   "source": []
  },
  {
   "cell_type": "markdown",
   "id": "1a5bf5bf",
   "metadata": {},
   "source": [
    "# Analysing Columns\n",
    "## Sources\n",
    "- https://sparkbyexamples.com/spark/pyspark-to_timestamp-convert-string-to-timestamp-type/\n",
    "- https://stackoverflow.com/questions/62602720/string-to-date-migration-from-spark-2-0-to-3-0-gives-fail-to-recognize-eee-mmm\n",
    "- https://sparkbyexamples.com/pyspark/pyspark-max-different-methods-explained/?expand_article=1&expand_article=1"
   ]
  },
  {
   "cell_type": "markdown",
   "id": "96d5f842",
   "metadata": {},
   "source": [
    "## Timestamp"
   ]
  },
  {
   "cell_type": "code",
   "execution_count": null,
   "id": "4a2f10da",
   "metadata": {},
   "outputs": [],
   "source": []
  },
  {
   "cell_type": "code",
   "execution_count": 73,
   "id": "9f3076a7",
   "metadata": {},
   "outputs": [],
   "source": [
    "# setting parser to legacy mode so code works like it did befor spark upgrade\n",
    "spark.conf.set(\"spark.sql.leagacy.timeParserPolicy\", \"LEGACY\")\n",
    "# converting timestamp column to timestamp data types\n",
    "df= df.withColumn(\"transit_timestamp\", to_timestamp(col(\"transit_timestamp\"), \"MM/dd/yyyy hh:mm:ss a\"))\n",
    "\n"
   ]
  },
  {
   "cell_type": "code",
   "execution_count": 45,
   "id": "455b6e59",
   "metadata": {},
   "outputs": [
    {
     "data": {
      "text/plain": [
       "[('transit_timestamp', 'timestamp'),\n",
       " ('station_complex_id', 'string'),\n",
       " ('borough', 'string'),\n",
       " ('ridership', 'int'),\n",
       " ('latitude', 'double'),\n",
       " ('longitude', 'double'),\n",
       " ('Georeference', 'string')]"
      ]
     },
     "execution_count": 45,
     "metadata": {},
     "output_type": "execute_result"
    }
   ],
   "source": [
    "df.dtypes"
   ]
  },
  {
   "cell_type": "code",
   "execution_count": 48,
   "id": "7d5e33d6",
   "metadata": {},
   "outputs": [
    {
     "name": "stderr",
     "output_type": "stream",
     "text": [
      "[Stage 307:==========================================>              (6 + 2) / 8]\r"
     ]
    },
    {
     "name": "stdout",
     "output_type": "stream",
     "text": [
      "+---------------------+---------------------+\n",
      "|max transit timestamp|min transit timestamp|\n",
      "+---------------------+---------------------+\n",
      "|  2023-06-14 00:00:00|  2022-02-01 00:00:00|\n",
      "+---------------------+---------------------+\n",
      "\n"
     ]
    },
    {
     "name": "stderr",
     "output_type": "stream",
     "text": [
      "\r",
      "                                                                                \r"
     ]
    }
   ],
   "source": [
    "# timestamp range\n",
    "timestamp_range = df.select(max(\"transit_timestamp\").alias(\"max transit timestamp\"), \n",
    "                                min(\"transit_timestamp\").alias(\"min transit timestamp\")\n",
    "                                  ).show()"
   ]
  },
  {
   "cell_type": "markdown",
   "id": "1e91efe2",
   "metadata": {},
   "source": [
    "- Some rows are outside the permitted timestamp range"
   ]
  },
  {
   "cell_type": "code",
   "execution_count": 46,
   "id": "d72b5d9a",
   "metadata": {},
   "outputs": [],
   "source": [
    "# correct timestamp range\n",
    "start_timestamp = \"2022-02-01 00:00:00\"\n",
    "end_timestamp = \"2023-03-10 23:59:59\""
   ]
  },
  {
   "cell_type": "code",
   "execution_count": 49,
   "id": "dae55ac9",
   "metadata": {},
   "outputs": [
    {
     "name": "stderr",
     "output_type": "stream",
     "text": [
      "[Stage 310:=================================================>       (7 + 1) / 8]\r"
     ]
    },
    {
     "name": "stdout",
     "output_type": "stream",
     "text": [
      " There are 1148138 within the permittted range\n"
     ]
    },
    {
     "name": "stderr",
     "output_type": "stream",
     "text": [
      "\r",
      "                                                                                \r"
     ]
    }
   ],
   "source": [
    "correct_timestamp = df.filter(\n",
    "    (col(\"transit_timestamp\") >= start_timestamp) & (col(\"transit_timestamp\") <= end_timestamp)\n",
    "\n",
    ")\n",
    "correct_timestamp_rows = correct_timestamp.count()\n",
    "print(f\" There are {correct_timestamp_rows} within the permittted range\")"
   ]
  },
  {
   "cell_type": "code",
   "execution_count": 50,
   "id": "63a4166b",
   "metadata": {},
   "outputs": [
    {
     "name": "stderr",
     "output_type": "stream",
     "text": [
      "\r",
      "[Stage 313:>                                                        (0 + 8) / 8]\r"
     ]
    },
    {
     "name": "stdout",
     "output_type": "stream",
     "text": [
      "The percentage of rows with the permitted timestamp range is 80.91296629477955%\n"
     ]
    },
    {
     "name": "stderr",
     "output_type": "stream",
     "text": [
      "\r",
      "                                                                                \r"
     ]
    }
   ],
   "source": [
    "# total rows \n",
    "rows = df.count()\n",
    "# percentage of rows within the permitted timestamp range\n",
    "correct_timestamp_percent = (correct_timestamp_rows/rows) * 100\n",
    "print(f\"The percentage of rows with the permitted timestamp range is {correct_timestamp_percent}%\")"
   ]
  },
  {
   "cell_type": "markdown",
   "id": "0825b87a",
   "metadata": {},
   "source": [
    "- Over 80% of the rows are within the permitted timestamp range"
   ]
  },
  {
   "cell_type": "code",
   "execution_count": null,
   "id": "b559ee3a",
   "metadata": {},
   "outputs": [],
   "source": []
  },
  {
   "cell_type": "markdown",
   "id": "3dfa71a4",
   "metadata": {},
   "source": [
    "### Cutting off rows outside permitted timestamp so that the data aligns with that datetime columns of the taxi data"
   ]
  },
  {
   "cell_type": "code",
   "execution_count": null,
   "id": "69e13ae5",
   "metadata": {},
   "outputs": [],
   "source": []
  },
  {
   "cell_type": "code",
   "execution_count": 51,
   "id": "75996b76",
   "metadata": {},
   "outputs": [],
   "source": [
    "df = df.filter(\n",
    "    (col(\"transit_timestamp\") >= start_timestamp) & (col(\"transit_timestamp\") <= end_timestamp)\n",
    "\n",
    ")"
   ]
  },
  {
   "cell_type": "code",
   "execution_count": 52,
   "id": "ee785842",
   "metadata": {},
   "outputs": [
    {
     "name": "stderr",
     "output_type": "stream",
     "text": [
      "[Stage 316:==========================================>              (6 + 2) / 8]\r"
     ]
    },
    {
     "name": "stdout",
     "output_type": "stream",
     "text": [
      "There are 1148138 rows and 7 columns in this data frame\n"
     ]
    },
    {
     "name": "stderr",
     "output_type": "stream",
     "text": [
      "\r",
      "[Stage 316:=================================================>       (7 + 1) / 8]\r",
      "\r",
      "                                                                                \r"
     ]
    }
   ],
   "source": [
    "# shape of filtered data frame \n",
    "rows = df.count()\n",
    "columns = len(df.columns)\n",
    "print(f\"There are {rows} rows and {columns} columns in this data frame\")"
   ]
  },
  {
   "cell_type": "code",
   "execution_count": 53,
   "id": "ae37d737",
   "metadata": {},
   "outputs": [
    {
     "name": "stderr",
     "output_type": "stream",
     "text": [
      "[Stage 319:=================================================>       (7 + 1) / 8]\r"
     ]
    },
    {
     "name": "stdout",
     "output_type": "stream",
     "text": [
      "+---------------------+---------------------+\n",
      "|max transit timestamp|min transit timestamp|\n",
      "+---------------------+---------------------+\n",
      "|  2023-03-10 23:00:00|  2022-02-01 00:00:00|\n",
      "+---------------------+---------------------+\n",
      "\n"
     ]
    },
    {
     "name": "stderr",
     "output_type": "stream",
     "text": [
      "\r",
      "                                                                                \r"
     ]
    }
   ],
   "source": [
    "# timestamp range\n",
    "timestamp_range = df.select(max(\"transit_timestamp\").alias(\"max transit timestamp\"), \n",
    "                                min(\"transit_timestamp\").alias(\"min transit timestamp\")\n",
    "                                  ).show()"
   ]
  },
  {
   "cell_type": "code",
   "execution_count": 54,
   "id": "65216553",
   "metadata": {},
   "outputs": [
    {
     "name": "stdout",
     "output_type": "stream",
     "text": [
      "+-------------------+------------------+-------+---------+---------+----------+--------------------+\n",
      "|  transit_timestamp|station_complex_id|borough|ridership| latitude| longitude|        Georeference|\n",
      "+-------------------+------------------+-------+---------+---------+----------+--------------------+\n",
      "|2023-02-05 22:00:00|              R252|      M|       56|  40.7906| -73.94748|POINT (-73.94748 ...|\n",
      "|2022-09-17 11:00:00|              R252|      M|      333|  40.7906| -73.94748|POINT (-73.94748 ...|\n",
      "|2022-05-14 22:00:00|              R170|      M|      239|40.799446|-73.968376|POINT (-73.968376...|\n",
      "|2022-05-03 22:00:00|              H007|      M|      470|40.730953| -73.98163|POINT (-73.98163 ...|\n",
      "|2023-01-28 18:00:00|              H007|      M|     1450|40.730953| -73.98163|POINT (-73.98163 ...|\n",
      "+-------------------+------------------+-------+---------+---------+----------+--------------------+\n",
      "only showing top 5 rows\n",
      "\n"
     ]
    }
   ],
   "source": [
    "# first 5 rows of filtered data frame\n",
    "df.show(n = 5)"
   ]
  },
  {
   "cell_type": "code",
   "execution_count": null,
   "id": "81a22e18",
   "metadata": {},
   "outputs": [],
   "source": []
  },
  {
   "cell_type": "code",
   "execution_count": null,
   "id": "39287925",
   "metadata": {},
   "outputs": [],
   "source": []
  },
  {
   "cell_type": "markdown",
   "id": "707cf063",
   "metadata": {},
   "source": [
    "## Ridership"
   ]
  },
  {
   "cell_type": "code",
   "execution_count": null,
   "id": "5ec529d3",
   "metadata": {},
   "outputs": [],
   "source": []
  },
  {
   "cell_type": "code",
   "execution_count": 55,
   "id": "5ce14826",
   "metadata": {},
   "outputs": [
    {
     "name": "stderr",
     "output_type": "stream",
     "text": [
      "[Stage 323:==========================================>              (6 + 2) / 8]\r"
     ]
    },
    {
     "name": "stdout",
     "output_type": "stream",
     "text": [
      "+-------------+-------------+\n",
      "|max ridership|min ridership|\n",
      "+-------------+-------------+\n",
      "|        22687|            1|\n",
      "+-------------+-------------+\n",
      "\n"
     ]
    },
    {
     "name": "stderr",
     "output_type": "stream",
     "text": [
      "\r",
      "[Stage 323:=================================================>       (7 + 1) / 8]\r",
      "\r",
      "                                                                                \r"
     ]
    }
   ],
   "source": [
    "# ridership range\n",
    "ridership_range = timestamp = df.select(max(\"ridership\").alias(\"max ridership\"), \n",
    "                                min(\"ridership\").alias(\"min ridership\")\n",
    "                                  ).show()"
   ]
  },
  {
   "cell_type": "markdown",
   "id": "abbad7f7",
   "metadata": {},
   "source": [
    "- As show above minimum ridership is within the permitted range. The maximum is complex to caluculate as each station has multiple routes which operate multiple times within one hour. However a maxium ridership of 24,840 is acceptable as the NYC subway has millions of daily riders\n",
    "- soucrce given below\n",
    "- https://new.mta.info/agency/new-york-city-transit/subway-bus-ridership-2021"
   ]
  },
  {
   "cell_type": "code",
   "execution_count": null,
   "id": "89db3348",
   "metadata": {},
   "outputs": [],
   "source": []
  },
  {
   "cell_type": "code",
   "execution_count": 56,
   "id": "4896d137",
   "metadata": {},
   "outputs": [
    {
     "name": "stderr",
     "output_type": "stream",
     "text": [
      "[Stage 326:==========================================>              (6 + 2) / 8]\r"
     ]
    },
    {
     "name": "stdout",
     "output_type": "stream",
     "text": [
      "There are 1148138 rows and 7 columns in this data frame\n"
     ]
    },
    {
     "name": "stderr",
     "output_type": "stream",
     "text": [
      "\r",
      "                                                                                \r"
     ]
    }
   ],
   "source": [
    "# final data frame shape\n",
    "rows = df.count()\n",
    "columns = len(df.columns)\n",
    "print(f\"There are {rows} rows and {columns} columns in this data frame\")"
   ]
  },
  {
   "cell_type": "code",
   "execution_count": 58,
   "id": "6d2f093e",
   "metadata": {},
   "outputs": [
    {
     "name": "stderr",
     "output_type": "stream",
     "text": [
      "                                                                                \r"
     ]
    }
   ],
   "source": [
    "# saving as a csv file \n",
    "df.coalesce(1).write.csv(\"cleaned_subway.csv\", header = True)"
   ]
  },
  {
   "cell_type": "code",
   "execution_count": 59,
   "id": "996afadf",
   "metadata": {},
   "outputs": [
    {
     "name": "stderr",
     "output_type": "stream",
     "text": [
      "                                                                                \r"
     ]
    }
   ],
   "source": [
    "# saving as a parquet file \n",
    "df.coalesce(1).write.parquet(\"cleaned_subway.parquet\")"
   ]
  },
  {
   "cell_type": "code",
   "execution_count": null,
   "id": "ee66e245",
   "metadata": {},
   "outputs": [],
   "source": []
  },
  {
   "cell_type": "code",
   "execution_count": null,
   "id": "da95fb25",
   "metadata": {},
   "outputs": [],
   "source": []
  },
  {
   "cell_type": "code",
   "execution_count": null,
   "id": "4e4fb73b",
   "metadata": {},
   "outputs": [],
   "source": []
  },
  {
   "cell_type": "code",
   "execution_count": null,
   "id": "7999b490",
   "metadata": {},
   "outputs": [],
   "source": []
  }
 ],
 "metadata": {
  "kernelspec": {
   "display_name": "Python 3 (ipykernel)",
   "language": "python",
   "name": "python3"
  },
  "language_info": {
   "codemirror_mode": {
    "name": "ipython",
    "version": 3
   },
   "file_extension": ".py",
   "mimetype": "text/x-python",
   "name": "python",
   "nbconvert_exporter": "python",
   "pygments_lexer": "ipython3",
   "version": "3.9.13"
  }
 },
 "nbformat": 4,
 "nbformat_minor": 5
}
