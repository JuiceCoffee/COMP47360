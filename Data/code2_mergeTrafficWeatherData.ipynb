{
 "cells": [
  {
   "cell_type": "code",
   "execution_count": 29,
   "id": "d05e1f20",
   "metadata": {},
   "outputs": [],
   "source": [
    "import pandas as pd\n",
    "import pickle\n",
    "from datetime import datetime\n",
    "import holidays\n",
    "\n",
    "path = 'C:/Users/Administrator/practicumProject2/'"
   ]
  },
  {
   "cell_type": "markdown",
   "id": "dc991e55",
   "metadata": {},
   "source": [
    "# Merge taxi data and poi-taxi zone table into a data frame indexed by (poi, time window)\n",
    "\n",
    "Fisrtly, load the POI-Zone table and taxi data."
   ]
  },
  {
   "cell_type": "code",
   "execution_count": 30,
   "id": "cd88c5fe",
   "metadata": {},
   "outputs": [
    {
     "name": "stdout",
     "output_type": "stream",
     "text": [
      "poi_id         int32\n",
      "latitude     float64\n",
      "zone_id        int32\n",
      "longitude    float64\n",
      "dtype: object\n"
     ]
    }
   ],
   "source": [
    "# load poi_zone table\n",
    "with open(path+'poi_zone.pickle', 'rb') as file:\n",
    "    poi_zone = pickle.load(file)\n",
    "\n",
    "print(poi_zone.dtypes)"
   ]
  },
  {
   "cell_type": "markdown",
   "id": "83ca6652",
   "metadata": {},
   "source": [
    "Load each year's taxi data, and merge them into a data frame"
   ]
  },
  {
   "cell_type": "code",
   "execution_count": 31,
   "id": "81bdcacb",
   "metadata": {},
   "outputs": [
    {
     "name": "stdout",
     "output_type": "stream",
     "text": [
      "The shape of zone_time_taxi2022: (578160, 4) \n",
      "\n",
      "The shape of zone_time_taxi2023: (190080, 4) \n",
      "\n",
      "The shape of zone_time_taxi: (768240, 4) \n",
      "\n"
     ]
    }
   ],
   "source": [
    "# load the data of 2022\n",
    "with open(path + 'zone_time_taxi2022.pickle', 'rb') as file:\n",
    "    zone_time_taxi2022 = pickle.load(file)\n",
    "\n",
    "# load the data of 2023\n",
    "with open(path + 'zone_time_taxi2023.pickle', 'rb') as file:\n",
    "    zone_time_taxi2023 = pickle.load(file)\n",
    "\n",
    "# merge all the yearly data\n",
    "zone_time_taxi = pd.concat([zone_time_taxi2022, zone_time_taxi2023], axis=0)\n",
    "\n",
    "\n",
    "print('The shape of zone_time_taxi2022:', zone_time_taxi2022.shape, '\\n')\n",
    "print('The shape of zone_time_taxi2023:', zone_time_taxi2023.shape, '\\n')\n",
    "print('The shape of zone_time_taxi:', zone_time_taxi.shape, '\\n')"
   ]
  },
  {
   "cell_type": "markdown",
   "id": "07aaf3cc",
   "metadata": {},
   "source": [
    "Attach POI to taxi data and clean the data. Thus we obtain the taxi-busyness table indexed by (POI, time window) "
   ]
  },
  {
   "cell_type": "code",
   "execution_count": 32,
   "id": "98e9eb41",
   "metadata": {},
   "outputs": [
    {
     "name": "stdout",
     "output_type": "stream",
     "text": [
      "The data shape is (2642280, 3) \n",
      "\n",
      "The information of data:\n",
      "poi_id                 int32\n",
      "timeWindow    datetime64[ns]\n",
      "taxi_all               int32\n",
      "dtype: object\n"
     ]
    }
   ],
   "source": [
    "# sum the pickup and dropoff\n",
    "zone_time_taxi['taxi_all'] = zone_time_taxi['numPu'] + zone_time_taxi['numDo']\n",
    "\n",
    "# merge taxi data and POI-Zone table by column 'zone_id'.\n",
    "poi_time_taxi = pd.merge(poi_zone, zone_time_taxi, on = 'zone_id', how = 'left')\n",
    "\n",
    "# take out the useful columns\n",
    "poi_time_taxi = poi_time_taxi[['poi_id', 'timeWindow', 'taxi_all']]\n",
    "\n",
    "# drop the rows containing missing value\n",
    "poi_time_taxi = poi_time_taxi.dropna()\n",
    "\n",
    "# set the type of column 'numAll' as 'int'\n",
    "poi_time_taxi['taxi_all'] = poi_time_taxi['taxi_all'].astype('int')  \n",
    "\n",
    "\n",
    "print('The data shape is', poi_time_taxi.shape, '\\n')\n",
    "\n",
    "print('The information of data:')\n",
    "print(poi_time_taxi.dtypes)"
   ]
  },
  {
   "cell_type": "markdown",
   "id": "aef9ac96",
   "metadata": {},
   "source": [
    "# Merge subway data and poi-subway station table into a data frame indexed by (poi, time window)\n",
    "\n",
    "Fisrtly, load the POI-Station table and subway data."
   ]
  },
  {
   "cell_type": "code",
   "execution_count": 33,
   "id": "276ad10b",
   "metadata": {},
   "outputs": [
    {
     "name": "stdout",
     "output_type": "stream",
     "text": [
      "The data shape is (325366, 3) \n",
      "\n",
      "The information of data:\n",
      "station_id            object\n",
      "timeWindow    datetime64[ns]\n",
      "riderNum               int32\n",
      "dtype: object\n"
     ]
    }
   ],
   "source": [
    "# load the poi_station table\n",
    "poi_station = pd.read_excel(path + 'poi_station.xlsx', usecols=['poi_id', 'station_id'])\n",
    "\n",
    "# load the station_time_subway data\n",
    "with open(path + 'station_time_subway.pickle', 'rb') as file:\n",
    "    station_time_subway = pickle.load(file)\n",
    "\n",
    "\n",
    "print('The data shape is', station_time_subway.shape, '\\n')\n",
    "\n",
    "print('The information of data:')\n",
    "print(station_time_subway.dtypes)"
   ]
  },
  {
   "cell_type": "markdown",
   "id": "760b1b18",
   "metadata": {},
   "source": [
    "Attach POI to subway data and clean the data. Thus we obtain the subway-busyness table indexed by (POI, time window)"
   ]
  },
  {
   "cell_type": "code",
   "execution_count": 34,
   "id": "d9140977",
   "metadata": {
    "scrolled": true
   },
   "outputs": [
    {
     "name": "stdout",
     "output_type": "stream",
     "text": [
      "The data shape is (2642280, 3) \n",
      "\n",
      "The information of data:\n",
      "poi_id                 int64\n",
      "station_id            object\n",
      "timeWindow    datetime64[ns]\n",
      "riderNum               int32\n",
      "dtype: object\n"
     ]
    }
   ],
   "source": [
    "# attach POI to subway data\n",
    "poi_time_subway = pd.merge(poi_station, station_time_subway, on = 'station_id', how = 'left')\n",
    "\n",
    "print('The data shape is', poi_time_taxi.shape, '\\n')\n",
    "\n",
    "print('The information of data:')\n",
    "print(poi_time_subway.dtypes)"
   ]
  },
  {
   "cell_type": "code",
   "execution_count": 35,
   "id": "973741f8",
   "metadata": {},
   "outputs": [
    {
     "name": "stdout",
     "output_type": "stream",
     "text": [
      "The data shape is (2367998, 3) \n",
      "\n",
      "The information of data:\n",
      "poi_id                 int32\n",
      "timeWindow    datetime64[ns]\n",
      "riderNum               int32\n",
      "dtype: object\n"
     ]
    }
   ],
   "source": [
    "# drop the rows containing NA\n",
    "poi_time_subway = poi_time_subway.dropna()\n",
    "\n",
    "poi_time_subway['poi_id'] = poi_time_subway['poi_id'].astype('int')\n",
    "\n",
    "# save the usefule colums\n",
    "poi_time_subway = poi_time_subway[['poi_id', 'timeWindow', 'riderNum']]\n",
    "\n",
    "print('The data shape is', poi_time_subway.shape, '\\n')\n",
    "\n",
    "print('The information of data:')\n",
    "print(poi_time_subway.dtypes)"
   ]
  },
  {
   "cell_type": "markdown",
   "id": "3761152b",
   "metadata": {},
   "source": [
    "# Merge the taxi data and subway data"
   ]
  },
  {
   "cell_type": "code",
   "execution_count": 36,
   "id": "3cbcc1f2",
   "metadata": {},
   "outputs": [
    {
     "name": "stdout",
     "output_type": "stream",
     "text": [
      "The row number before dropping the duplicates: (2642280, 3)\n",
      "The row number after dropping the duplicates: (2636486, 3) \n",
      "\n",
      "The row number before dropping the duplicates: (2367998, 3)\n",
      "The row number after dropping the duplicates: (2367880, 3) \n",
      "\n",
      "The merged data shape before dropping duplicates: (2388834, 4)\n",
      "The merged data shape after dropping duplicates: (2388834, 4) \n",
      "\n",
      "The merged data columns:\n",
      "poi_id                 int32\n",
      "timeWindow    datetime64[ns]\n",
      "taxi_all               int32\n",
      "riderNum               int32\n",
      "dtype: object\n"
     ]
    }
   ],
   "source": [
    "# drop the duplicated rows\n",
    "print('The row number before dropping the duplicates:', poi_time_taxi.shape)\n",
    "poi_time_taxi = poi_time_taxi.drop_duplicates()\n",
    "print('The row number after dropping the duplicates:', poi_time_taxi.shape, '\\n')\n",
    "poi_time_taxi = poi_time_taxi.reset_index(drop=True)\n",
    "\n",
    "\n",
    "# drop the duplicated rows\n",
    "print('The row number before dropping the duplicates:', poi_time_subway.shape)\n",
    "poi_time_subway = poi_time_subway.drop_duplicates()\n",
    "print('The row number after dropping the duplicates:', poi_time_subway.shape, '\\n')\n",
    "poi_time_subway = poi_time_subway.reset_index(drop=True)\n",
    "\n",
    "# merge the taxi trip data and bike count data\n",
    "temp = pd.merge(poi_time_taxi, poi_time_subway, on=['poi_id', 'timeWindow'], how='inner')\n",
    "print('The merged data shape before dropping duplicates:', temp.shape)\n",
    "temp = temp.drop_duplicates()\n",
    "print('The merged data shape after dropping duplicates:', temp.shape, '\\n')\n",
    "temp = temp.reset_index(drop=True)\n",
    "\n",
    "\n",
    "\n",
    "print('The merged data columns:')\n",
    "print(temp.dtypes)"
   ]
  },
  {
   "cell_type": "markdown",
   "id": "ee03989d",
   "metadata": {},
   "source": [
    "# Meerge traffic data with weather data"
   ]
  },
  {
   "cell_type": "code",
   "execution_count": 37,
   "id": "a5c1b053",
   "metadata": {},
   "outputs": [
    {
     "name": "stdout",
     "output_type": "stream",
     "text": [
      "The columns in weather data:\n",
      "datetime         datetime64[ns]\n",
      "temperature             float64\n",
      "precipitation           float64\n",
      "weatherCode               int64\n",
      "windSpeed               float64\n",
      "dtype: object\n"
     ]
    }
   ],
   "source": [
    "# load weather data\n",
    "time_weather = pd.read_excel(path + 'weather.xlsx')\n",
    "\n",
    "print('The columns in weather data:')\n",
    "print(time_weather.dtypes)"
   ]
  },
  {
   "cell_type": "code",
   "execution_count": 38,
   "id": "4cc21739",
   "metadata": {},
   "outputs": [
    {
     "name": "stdout",
     "output_type": "stream",
     "text": [
      "The columns in weather data:\n",
      "timeWindow       datetime64[ns]\n",
      "temperature             float64\n",
      "precipitation           float64\n",
      "weatherCode               int32\n",
      "windSpeed               float64\n",
      "dtype: object\n"
     ]
    }
   ],
   "source": [
    "# convert the type of column 'weatherCode' to 'int'\n",
    "time_weather['weatherCode'] = time_weather['weatherCode'].astype('int')\n",
    "\n",
    "# rename the time column\n",
    "time_weather.rename(columns={'datetime': 'timeWindow'}, inplace=True)\n",
    "\n",
    "print('The columns in weather data:')\n",
    "print(time_weather.dtypes)"
   ]
  },
  {
   "cell_type": "code",
   "execution_count": 39,
   "id": "d64a9bc0",
   "metadata": {},
   "outputs": [
    {
     "name": "stdout",
     "output_type": "stream",
     "text": [
      "poi_id                 int32\n",
      "timeWindow    datetime64[ns]\n",
      "taxi_all               int32\n",
      "riderNum               int32\n",
      "dtype: object\n"
     ]
    }
   ],
   "source": [
    "print(temp.dtypes)"
   ]
  },
  {
   "cell_type": "code",
   "execution_count": 40,
   "id": "6bf39006",
   "metadata": {},
   "outputs": [
    {
     "name": "stdout",
     "output_type": "stream",
     "text": [
      "The shape: (2388834, 8) \n",
      "\n",
      "The columns:\n",
      "poi_id                    int32\n",
      "timeWindow       datetime64[ns]\n",
      "taxi_all                  int32\n",
      "riderNum                  int32\n",
      "temperature             float64\n",
      "precipitation           float64\n",
      "weatherCode               int32\n",
      "windSpeed               float64\n",
      "dtype: object\n"
     ]
    }
   ],
   "source": [
    "# merge weather data with traffic data\n",
    "temp = pd.merge(temp, time_weather, on=['timeWindow'], how ='left')\n",
    "\n",
    "# drop the rows containing NA and duplicated rows\n",
    "temp = temp.dropna()\n",
    "temp = temp.drop_duplicates()\n",
    "\n",
    "\n",
    "# reset index of the data framee\n",
    "temp = temp.reset_index(drop=True)\n",
    "\n",
    "print('The shape:', temp.shape, '\\n')\n",
    "print('The columns:')\n",
    "print(temp.dtypes)"
   ]
  },
  {
   "cell_type": "markdown",
   "id": "dfaa1763",
   "metadata": {},
   "source": [
    "# Create calendar-related features\n",
    "\n",
    "We will construct 'weekday' and 'holiday', and label the time window"
   ]
  },
  {
   "cell_type": "code",
   "execution_count": 41,
   "id": "7f64c472",
   "metadata": {},
   "outputs": [
    {
     "name": "stdout",
     "output_type": "stream",
     "text": [
      "poi_id             int32\n",
      "timeWindow        object\n",
      "taxi_all           int32\n",
      "riderNum           int32\n",
      "temperature      float64\n",
      "precipitation    float64\n",
      "weatherCode        int32\n",
      "windSpeed        float64\n",
      "weekday           object\n",
      "holiday             bool\n",
      "dtype: object \n",
      "\n",
      "<bound method NDFrame.head of          poi_id timeWindow  taxi_all  riderNum  temperature  precipitation  \\\n",
      "0             1         00        18        62        -10.7            0.0   \n",
      "1             1         01        13        14        -11.6            0.0   \n",
      "2             1         02         8        19        -12.5            0.0   \n",
      "3             1         03         1         7        -12.0            0.0   \n",
      "4             1         04         6        13        -12.7            0.0   \n",
      "...         ...        ...       ...       ...          ...            ...   \n",
      "2388829     229         19         0        37         14.5            5.6   \n",
      "2388830     229         20         0        39         14.5            4.1   \n",
      "2388831     229         21         0        29         14.8            5.9   \n",
      "2388832     229         22         0        24         15.0            2.8   \n",
      "2388833     229         23         0        19         14.9            0.3   \n",
      "\n",
      "         weatherCode  windSpeed  weekday  holiday  \n",
      "0                  1       12.0  Tuesday    False  \n",
      "1                  1       12.4  Tuesday    False  \n",
      "2                  0       12.2  Tuesday    False  \n",
      "3                  0        9.8  Tuesday    False  \n",
      "4                  0        9.7  Tuesday    False  \n",
      "...              ...        ...      ...      ...  \n",
      "2388829           63       11.9   Sunday    False  \n",
      "2388830           63       10.5   Sunday    False  \n",
      "2388831           63       13.0   Sunday    False  \n",
      "2388832           63       13.2   Sunday    False  \n",
      "2388833           51       11.9   Sunday    False  \n",
      "\n",
      "[2388834 rows x 10 columns]>\n"
     ]
    }
   ],
   "source": [
    "# construct weekday column\n",
    "temp['weekday'] = temp['timeWindow'].dt.strftime('%A')\n",
    "\n",
    "# construct holiday column\n",
    "ny_holidays = holidays.US(state='NY')\n",
    "temp['holiday'] = temp['timeWindow'].apply(lambda x: x in ny_holidays)\n",
    "\n",
    "# lael the time window\n",
    "temp['timeWindow'] = temp['timeWindow'].dt.strftime('%H')\n",
    "\n",
    "\n",
    "print(temp.dtypes, '\\n')\n",
    "\n",
    "print(temp.head)"
   ]
  },
  {
   "cell_type": "code",
   "execution_count": 42,
   "id": "19943b9a",
   "metadata": {},
   "outputs": [],
   "source": [
    "# save the data frame to disck\n",
    "with open(path + 'trafficWeatherData.pickle', 'wb') as file:\n",
    "    pickle.dump(temp, file)\n",
    "\n"
   ]
  },
  {
   "cell_type": "code",
   "execution_count": null,
   "id": "0b5c9b30",
   "metadata": {},
   "outputs": [],
   "source": []
  }
 ],
 "metadata": {
  "kernelspec": {
   "display_name": "Python 3 (ipykernel)",
   "language": "python",
   "name": "python3"
  },
  "language_info": {
   "codemirror_mode": {
    "name": "ipython",
    "version": 3
   },
   "file_extension": ".py",
   "mimetype": "text/x-python",
   "name": "python",
   "nbconvert_exporter": "python",
   "pygments_lexer": "ipython3",
   "version": "3.10.9"
  }
 },
 "nbformat": 4,
 "nbformat_minor": 5
}
