{
 "cells": [
  {
   "cell_type": "code",
   "execution_count": 70,
   "id": "521b3756",
   "metadata": {},
   "outputs": [],
   "source": [
    "from pyspark.sql import SparkSession\n",
    "from pyspark.sql.functions import col, count, sum, isnan, to_timestamp, mean, max, min, expr, when,lit\n",
    "import matplotlib.pyplot as plt\n",
    "import pandas as pd\n"
   ]
  },
  {
   "cell_type": "code",
   "execution_count": null,
   "id": "5f7cc1c5",
   "metadata": {},
   "outputs": [],
   "source": []
  },
  {
   "cell_type": "markdown",
   "id": "19860faa",
   "metadata": {},
   "source": [
    "# Sources \n",
    "- https://mungingdata.com/python/writing-parquet-pandas-pyspark-koalas/\n",
    "- https://sparkbyexamples.com/pyspark/pyspark-dataframe-shape/\n",
    "- https://sparkbyexamples.com/pyspark/pyspark-drop-column-from-dataframe/\n",
    "- https://www.programmingfunda.com/how-to-count-null-and-nan-values-in-each-column-in-pyspark-dataframe/\n",
    "- https://stackoverflow.com/questions/59969378/how-do-i-calculate-the-percentage-of-none-or-nan-values-in-pyspark\n",
    "- https://sparkbyexamples.com/spark/show-top-n-rows-in-spark-pyspark/?expand_article=1"
   ]
  },
  {
   "cell_type": "code",
   "execution_count": 3,
   "id": "c88e91ed",
   "metadata": {},
   "outputs": [
    {
     "name": "stderr",
     "output_type": "stream",
     "text": [
      "23/07/26 11:58:13 WARN Utils: Your hostname, MacBook-Air-3.local resolves to a loopback address: 127.0.0.1; using 192.168.0.227 instead (on interface en0)\n",
      "23/07/26 11:58:13 WARN Utils: Set SPARK_LOCAL_IP if you need to bind to another address\n",
      "Setting default log level to \"WARN\".\n",
      "To adjust logging level use sc.setLogLevel(newLevel). For SparkR, use setLogLevel(newLevel).\n",
      "23/07/26 11:58:13 WARN NativeCodeLoader: Unable to load native-hadoop library for your platform... using builtin-java classes where applicable\n",
      "23/07/26 11:58:14 WARN Utils: Service 'SparkUI' could not bind on port 4040. Attempting port 4041.\n",
      "                                                                                \r"
     ]
    }
   ],
   "source": [
    "# creating spark session\n",
    "spark = SparkSession.builder.getOrCreate()\n",
    "# reading taxi data \n",
    "df = spark.read.csv(\"yellow_taxi_data.csv\", header = True, inferSchema = True)"
   ]
  },
  {
   "cell_type": "code",
   "execution_count": 4,
   "id": "ef5cecd9",
   "metadata": {},
   "outputs": [
    {
     "name": "stdout",
     "output_type": "stream",
     "text": [
      "+--------+--------------------+---------------------+---------------+-------------+----------+------------------+------------+------------+------------+-----------+-----+-------+----------+------------+---------------------+------------+--------------------+-----------+\n",
      "|VendorID|tpep_pickup_datetime|tpep_dropoff_datetime|passenger_count|trip_distance|RatecodeID|store_and_fwd_flag|PULocationID|DOLocationID|payment_type|fare_amount|extra|mta_tax|tip_amount|tolls_amount|improvement_surcharge|total_amount|congestion_surcharge|airport_fee|\n",
      "+--------+--------------------+---------------------+---------------+-------------+----------+------------------+------------+------------+------------+-----------+-----+-------+----------+------------+---------------------+------------+--------------------+-----------+\n",
      "|       1| 2022-04-01 00:21:13|  2022-04-01 00:58:33|            1.0|         10.3|       1.0|                 N|         163|          62|           1|       33.5|  3.0|    0.5|      7.45|         0.0|                  0.3|       44.75|                 2.5|        0.0|\n",
      "|       1| 2022-04-01 00:07:47|  2022-04-01 00:19:12|            0.0|          2.0|       1.0|                 N|         142|         141|           1|       10.0|  3.0|    0.5|       4.1|         0.0|                  0.3|        17.9|                 2.5|        0.0|\n",
      "|       1| 2022-04-01 00:14:52|  2022-04-01 00:23:43|            1.0|          1.0|       1.0|                 N|          79|         148|           1|        7.0|  3.0|    0.5|      2.15|         0.0|                  0.3|       12.95|                 2.5|        0.0|\n",
      "|       1| 2022-04-01 00:30:02|  2022-04-01 00:45:06|            1.0|          2.6|       1.0|                 N|          79|          13|           1|       12.0|  3.0|    0.5|       4.7|         0.0|                  0.3|        20.5|                 2.5|        0.0|\n",
      "|       2| 2022-04-01 00:48:40|  2022-04-01 01:03:34|            1.0|         2.79|       1.0|                 N|         238|         116|           4|      -12.5| -0.5|   -0.5|       0.0|         0.0|                 -0.3|       -13.8|                 0.0|        0.0|\n",
      "+--------+--------------------+---------------------+---------------+-------------+----------+------------------+------------+------------+------------+-----------+-----+-------+----------+------------+---------------------+------------+--------------------+-----------+\n",
      "only showing top 5 rows\n",
      "\n"
     ]
    }
   ],
   "source": [
    "# first 5 rows \n",
    "df.show(n = 5)"
   ]
  },
  {
   "cell_type": "code",
   "execution_count": 5,
   "id": "11dd3efc",
   "metadata": {},
   "outputs": [
    {
     "name": "stderr",
     "output_type": "stream",
     "text": [
      "[Stage 3:==================================================>      (33 + 4) / 37]\r"
     ]
    },
    {
     "name": "stdout",
     "output_type": "stream",
     "text": [
      "There are 19 columns and 46576654 rows in this data frame\n"
     ]
    },
    {
     "name": "stderr",
     "output_type": "stream",
     "text": [
      "\r",
      "                                                                                \r"
     ]
    }
   ],
   "source": [
    "# shape of data frame\n",
    "columns = len(df.columns)\n",
    "rows = df.count()\n",
    "print(f\"There are {columns} columns and {rows} rows in this data frame\")"
   ]
  },
  {
   "cell_type": "code",
   "execution_count": 6,
   "id": "3fb23e0e",
   "metadata": {},
   "outputs": [],
   "source": [
    "# dropping irrelevant columns \n",
    "irrelevant_columns = [\"VendorID\", \"RatecodeID\", \"store_and_fwd_flag\", \"payment_type\", \"fare_amount\", \"extra\",\n",
    "                      \"mta_tax\", \"tip_amount\", \"tolls_amount\", \"improvement_surcharge\", \"total_amount\",\n",
    "                     \"congestion_surcharge\", \"airport_fee\"]\n",
    "\n",
    "df = df.drop(*irrelevant_columns)"
   ]
  },
  {
   "cell_type": "code",
   "execution_count": 7,
   "id": "7d6fe2c6",
   "metadata": {},
   "outputs": [
    {
     "name": "stderr",
     "output_type": "stream",
     "text": [
      "[Stage 6:==================================================>      (33 + 4) / 37]\r"
     ]
    },
    {
     "name": "stdout",
     "output_type": "stream",
     "text": [
      "There are 6 columns and 46576654 rows in this data frame\n"
     ]
    },
    {
     "name": "stderr",
     "output_type": "stream",
     "text": [
      "\r",
      "                                                                                \r"
     ]
    }
   ],
   "source": [
    "# new data frame shape\n",
    "columns = len(df.columns)\n",
    "rows = df.count()\n",
    "print(f\"There are {columns} columns and {rows} rows in this data frame\")"
   ]
  },
  {
   "cell_type": "code",
   "execution_count": 8,
   "id": "384f0de5",
   "metadata": {},
   "outputs": [
    {
     "name": "stdout",
     "output_type": "stream",
     "text": [
      "+--------------------+---------------------+---------------+-------------+------------+------------+\n",
      "|tpep_pickup_datetime|tpep_dropoff_datetime|passenger_count|trip_distance|PULocationID|DOLocationID|\n",
      "+--------------------+---------------------+---------------+-------------+------------+------------+\n",
      "| 2022-04-01 00:21:13|  2022-04-01 00:58:33|            1.0|         10.3|         163|          62|\n",
      "| 2022-04-01 00:07:47|  2022-04-01 00:19:12|            0.0|          2.0|         142|         141|\n",
      "| 2022-04-01 00:14:52|  2022-04-01 00:23:43|            1.0|          1.0|          79|         148|\n",
      "| 2022-04-01 00:30:02|  2022-04-01 00:45:06|            1.0|          2.6|          79|          13|\n",
      "| 2022-04-01 00:48:40|  2022-04-01 01:03:34|            1.0|         2.79|         238|         116|\n",
      "+--------------------+---------------------+---------------+-------------+------------+------------+\n",
      "only showing top 5 rows\n",
      "\n"
     ]
    }
   ],
   "source": [
    "# first 5 rows \n",
    "df.show(n = 5)"
   ]
  },
  {
   "cell_type": "code",
   "execution_count": 9,
   "id": "e2976004",
   "metadata": {},
   "outputs": [
    {
     "name": "stderr",
     "output_type": "stream",
     "text": [
      "[Stage 10:=================================================>      (33 + 4) / 37]\r"
     ]
    },
    {
     "name": "stdout",
     "output_type": "stream",
     "text": [
      "+--------------------+---------------------+---------------+-------------+------------+------------+\n",
      "|tpep_pickup_datetime|tpep_dropoff_datetime|passenger_count|trip_distance|PULocationID|DOLocationID|\n",
      "+--------------------+---------------------+---------------+-------------+------------+------------+\n",
      "|                   0|                    0|        1532979|            0|           0|           0|\n",
      "+--------------------+---------------------+---------------+-------------+------------+------------+\n",
      "\n"
     ]
    },
    {
     "name": "stderr",
     "output_type": "stream",
     "text": [
      "\r",
      "                                                                                \r"
     ]
    }
   ],
   "source": [
    "# number of null rows in each column\n",
    "df.select([count(when(col(column_name).isNull(), column_name)).alias(column_name) for column_name in df.columns]).show()\n",
    "\n"
   ]
  },
  {
   "cell_type": "code",
   "execution_count": 10,
   "id": "7e3ed7d1",
   "metadata": {},
   "outputs": [
    {
     "name": "stderr",
     "output_type": "stream",
     "text": [
      "[Stage 13:=================================================>      (33 + 4) / 37]\r"
     ]
    },
    {
     "name": "stdout",
     "output_type": "stream",
     "text": [
      "+--------------------+---------------------+-------------------+-------------+------------+------------+\n",
      "|tpep_pickup_datetime|tpep_dropoff_datetime|    passenger_count|trip_distance|PULocationID|DOLocationID|\n",
      "+--------------------+---------------------+-------------------+-------------+------------+------------+\n",
      "|                 0.0|                  0.0|0.03291303407067412|          0.0|         0.0|         0.0|\n",
      "+--------------------+---------------------+-------------------+-------------+------------+------------+\n",
      "\n"
     ]
    },
    {
     "name": "stderr",
     "output_type": "stream",
     "text": [
      "\r",
      "                                                                                \r"
     ]
    }
   ],
   "source": [
    "# percentage of missing rows in each column\n",
    "null_percent = df.select([(count(when(col(c).isNull(), c))/count(lit(1))).alias(c) for c in df.columns])\n",
    "null_percent.show()"
   ]
  },
  {
   "cell_type": "markdown",
   "id": "192751b5",
   "metadata": {},
   "source": [
    "- Only the passenger_count column has missing rows "
   ]
  },
  {
   "cell_type": "code",
   "execution_count": null,
   "id": "a9cf07eb",
   "metadata": {},
   "outputs": [],
   "source": []
  },
  {
   "cell_type": "markdown",
   "id": "16e460bd",
   "metadata": {},
   "source": [
    "# Analysing Each Column\n",
    "## Sources\n",
    "- https://sparkbyexamples.com/pyspark/pyspark-count-distinct-from-dataframe/#:~:text=In%20PySpark%2C%20you%20can%20use,count%20of%20records%20on%20DataFrame.\n",
    "- https://data.cityofnewyork.us/Transportation/NYC-Taxi-Zones/d3c5-ddgc\n",
    "- https://sparkbyexamples.com/pyspark/pyspark-isin-and-in-operator/\n",
    "- https://sparkbyexamples.com/spark/spark-and-or-not-operators/\n",
    "- https://stackoverflow.com/questions/39383557/show-distinct-column-values-in-pyspark-dataframe\n",
    "- https://www.nyc.gov/site/tlc/passengers/passenger-frequently-asked-questions.page\n",
    "- https://sparkbyexamples.com/pyspark/pyspark-groupby-explained-with-example/?expand_article=1#\n",
    "- https://notebook.community/GoogleCloudDataproc/cloud-dataproc/notebooks/python/3.1.%20Spark%20DataFrame%20&%20Pandas%20Plotting%20-%20Python\n",
    "- https://docs.kanaries.net/tutorials/PySpark/pyspark-dataframe-column-list\n",
    "- https://www.geeksforgeeks.org/box-plot-in-python-using-matplotlib/\n",
    "- https://sparkbyexamples.com/pyspark/pyspark-max-different-methods-explained/?expand_article=1\n",
    "- https://sparkbyexamples.com/spark/pyspark-to_timestamp-convert-string-to-timestamp-type/"
   ]
  },
  {
   "cell_type": "markdown",
   "id": "319cf533",
   "metadata": {},
   "source": [
    "## Pickup  and Dropoff Locations"
   ]
  },
  {
   "cell_type": "code",
   "execution_count": null,
   "id": "6c5079df",
   "metadata": {},
   "outputs": [],
   "source": []
  },
  {
   "cell_type": "code",
   "execution_count": 11,
   "id": "bfa5a317",
   "metadata": {},
   "outputs": [
    {
     "name": "stderr",
     "output_type": "stream",
     "text": [
      "[Stage 16:=================================================>      (33 + 4) / 37]\r"
     ]
    },
    {
     "name": "stdout",
     "output_type": "stream",
     "text": [
      "There are 262 unique pickup locations\n"
     ]
    },
    {
     "name": "stderr",
     "output_type": "stream",
     "text": [
      "\r",
      "                                                                                \r"
     ]
    }
   ],
   "source": [
    "# number of unique pickup locations\n",
    "pickup_locations = \"PULocationID\" \n",
    "num_unique_pickups = df.select(pickup_locations).distinct().count()\n",
    "print(f\"There are {num_unique_pickups} unique pickup locations\")"
   ]
  },
  {
   "cell_type": "code",
   "execution_count": 12,
   "id": "6900a986",
   "metadata": {},
   "outputs": [
    {
     "name": "stderr",
     "output_type": "stream",
     "text": [
      "[Stage 22:=================================================>      (33 + 4) / 37]\r"
     ]
    },
    {
     "name": "stdout",
     "output_type": "stream",
     "text": [
      "There are 262 unique dropoff locations\n"
     ]
    },
    {
     "name": "stderr",
     "output_type": "stream",
     "text": [
      "\r",
      "                                                                                \r"
     ]
    }
   ],
   "source": [
    "# number of unique dropoff locations \n",
    "dropoff_locations = \"DOLocationID\" \n",
    "num_unique_dropoffs = df.select(dropoff_locations).distinct().count()\n",
    "print(f\"There are {num_unique_dropoffs} unique dropoff locations\")"
   ]
  },
  {
   "cell_type": "markdown",
   "id": "137580a8",
   "metadata": {},
   "source": [
    "- The number of unique pickup and drop off locations do not exceed the permitted number which is 263 according to taxi zones csv file retrieved from NYC open. "
   ]
  },
  {
   "cell_type": "code",
   "execution_count": null,
   "id": "05899f7c",
   "metadata": {},
   "outputs": [],
   "source": []
  },
  {
   "cell_type": "markdown",
   "id": "7de8ef01",
   "metadata": {},
   "source": [
    "### Manhattan Zones"
   ]
  },
  {
   "cell_type": "code",
   "execution_count": null,
   "id": "11ab77d1",
   "metadata": {},
   "outputs": [],
   "source": []
  },
  {
   "cell_type": "code",
   "execution_count": 13,
   "id": "f1cf6e4b",
   "metadata": {},
   "outputs": [],
   "source": [
    "# list of manhattan taxi zones retrieved from taxi zones csv file\n",
    "manhattan = [4,24,12,13,41,45,42,43,48,50,68,79,74,75,87,88,90,125,100,103,107,113,114,116,120,127,128,151,140,137\n",
    "             ,141,142,152,143,144,148,153,158,161,162,163,164,170,166,186,194,202,209,211,224,229,230,231,239,232\n",
    "             ,233,234,236,237,238,243,244,246,249,261,262,263]"
   ]
  },
  {
   "cell_type": "code",
   "execution_count": 14,
   "id": "1f46216d",
   "metadata": {},
   "outputs": [
    {
     "name": "stdout",
     "output_type": "stream",
     "text": [
      "67\n"
     ]
    }
   ],
   "source": [
    "# number of zones in Manhattan\n",
    "print(len(manhattan))"
   ]
  },
  {
   "cell_type": "code",
   "execution_count": 15,
   "id": "ee56b772",
   "metadata": {},
   "outputs": [],
   "source": [
    "# number of pickups in Manhattan\n",
    "manhattan_pu = df.filter(col(\"PULocationID\").isin(manhattan))"
   ]
  },
  {
   "cell_type": "code",
   "execution_count": 16,
   "id": "57f0d607",
   "metadata": {},
   "outputs": [
    {
     "name": "stderr",
     "output_type": "stream",
     "text": [
      "[Stage 28:=================================================>      (33 + 4) / 37]\r"
     ]
    },
    {
     "name": "stdout",
     "output_type": "stream",
     "text": [
      "There are 6 columns and 41388431 rows in this data frame\n"
     ]
    },
    {
     "name": "stderr",
     "output_type": "stream",
     "text": [
      "\r",
      "                                                                                \r"
     ]
    }
   ],
   "source": [
    "# shape of manhattan pickup data frame\n",
    "manhattan_pu_columns = len(manhattan_pu.columns)\n",
    "manhattan_pu_rows = manhattan_pu.count()\n",
    "print(f\"There are {manhattan_pu_columns} columns and {manhattan_pu_rows} rows in this data frame\")"
   ]
  },
  {
   "cell_type": "code",
   "execution_count": null,
   "id": "58046a4b",
   "metadata": {},
   "outputs": [],
   "source": []
  },
  {
   "cell_type": "code",
   "execution_count": 17,
   "id": "07e54450",
   "metadata": {},
   "outputs": [],
   "source": [
    "# number of dropoffs in Manhattan\n",
    "manhattan_do = df.filter(col(\"DOLocationID\").isin(manhattan))"
   ]
  },
  {
   "cell_type": "code",
   "execution_count": 18,
   "id": "b7ba3aa1",
   "metadata": {},
   "outputs": [
    {
     "name": "stderr",
     "output_type": "stream",
     "text": [
      "[Stage 31:=================================================>      (33 + 4) / 37]\r"
     ]
    },
    {
     "name": "stdout",
     "output_type": "stream",
     "text": [
      "There are 6 columns and 41141402 rows in this data frame\n"
     ]
    },
    {
     "name": "stderr",
     "output_type": "stream",
     "text": [
      "\r",
      "                                                                                \r"
     ]
    }
   ],
   "source": [
    "# shape of manhattan dropoff data frame\n",
    "manhattan_do_columns = len(manhattan_do.columns)\n",
    "manhattan_do_rows = manhattan_do.count()\n",
    "print(f\"There are {manhattan_do_columns} columns and {manhattan_do_rows} rows in this data frame\")"
   ]
  },
  {
   "cell_type": "markdown",
   "id": "ff8ca54d",
   "metadata": {},
   "source": [
    "- There are more more pickups in Manhattan than dropoffs, however dropoffs may be a better indicator of busyness because it represents people that are currently in Manhattan while pickups represent people that are leaving Manhattan"
   ]
  },
  {
   "cell_type": "markdown",
   "id": "4860a34f",
   "metadata": {},
   "source": [
    "### Filtering to get rows with pickups or dropoffs in Manhattan"
   ]
  },
  {
   "cell_type": "code",
   "execution_count": null,
   "id": "85957dac",
   "metadata": {},
   "outputs": [],
   "source": []
  },
  {
   "cell_type": "code",
   "execution_count": 19,
   "id": "a029910d",
   "metadata": {},
   "outputs": [],
   "source": [
    "manhattan_df = df.filter(col(\"PULocationID\").isin(manhattan) | col(\"DOLocationID\").isin(manhattan))"
   ]
  },
  {
   "cell_type": "code",
   "execution_count": 20,
   "id": "c7b4e9a1",
   "metadata": {},
   "outputs": [
    {
     "name": "stderr",
     "output_type": "stream",
     "text": [
      "[Stage 34:===================================================>    (34 + 3) / 37]\r"
     ]
    },
    {
     "name": "stdout",
     "output_type": "stream",
     "text": [
      "There are 6 columns and 44132589 rows in this data frame\n"
     ]
    },
    {
     "name": "stderr",
     "output_type": "stream",
     "text": [
      "\r",
      "                                                                                \r"
     ]
    }
   ],
   "source": [
    "# shape of filtered data frame\n",
    "manhattan_columns = len(manhattan_df.columns)\n",
    "manhattan_rows = manhattan_df.count()\n",
    "print(f\"There are {manhattan_columns} columns and {manhattan_rows} rows in this data frame\")"
   ]
  },
  {
   "cell_type": "code",
   "execution_count": 21,
   "id": "a2210496",
   "metadata": {},
   "outputs": [
    {
     "name": "stdout",
     "output_type": "stream",
     "text": [
      "+--------------------+---------------------+---------------+-------------+------------+------------+\n",
      "|tpep_pickup_datetime|tpep_dropoff_datetime|passenger_count|trip_distance|PULocationID|DOLocationID|\n",
      "+--------------------+---------------------+---------------+-------------+------------+------------+\n",
      "| 2022-04-01 00:21:13|  2022-04-01 00:58:33|            1.0|         10.3|         163|          62|\n",
      "| 2022-04-01 00:07:47|  2022-04-01 00:19:12|            0.0|          2.0|         142|         141|\n",
      "| 2022-04-01 00:14:52|  2022-04-01 00:23:43|            1.0|          1.0|          79|         148|\n",
      "| 2022-04-01 00:30:02|  2022-04-01 00:45:06|            1.0|          2.6|          79|          13|\n",
      "| 2022-04-01 00:48:40|  2022-04-01 01:03:34|            1.0|         2.79|         238|         116|\n",
      "+--------------------+---------------------+---------------+-------------+------------+------------+\n",
      "only showing top 5 rows\n",
      "\n"
     ]
    }
   ],
   "source": [
    "# first 5 rows\n",
    "manhattan_df.show(n = 5)"
   ]
  },
  {
   "cell_type": "code",
   "execution_count": 22,
   "id": "d193eebf",
   "metadata": {},
   "outputs": [
    {
     "name": "stderr",
     "output_type": "stream",
     "text": [
      "                                                                                \r"
     ]
    },
    {
     "name": "stdout",
     "output_type": "stream",
     "text": [
      "+--------------------+---------------------+---------------+-------------+------------+------------+\n",
      "|tpep_pickup_datetime|tpep_dropoff_datetime|passenger_count|trip_distance|PULocationID|DOLocationID|\n",
      "+--------------------+---------------------+---------------+-------------+------------+------------+\n",
      "|                   0|                    0|        1443046|            0|           0|           0|\n",
      "+--------------------+---------------------+---------------+-------------+------------+------------+\n",
      "\n"
     ]
    }
   ],
   "source": [
    "# number of null rows in manhattan dataframe \n",
    "manhattan_df.select([count(when(col(column_name).isNull(), column_name)).alias(column_name) \n",
    "                     for column_name in manhattan_df.columns]).show()\n"
   ]
  },
  {
   "cell_type": "code",
   "execution_count": 23,
   "id": "f60cebb8",
   "metadata": {},
   "outputs": [
    {
     "name": "stderr",
     "output_type": "stream",
     "text": [
      "[Stage 41:===================================================>    (34 + 3) / 37]\r"
     ]
    },
    {
     "name": "stdout",
     "output_type": "stream",
     "text": [
      "+--------------------+---------------------+--------------------+-------------+------------+------------+\n",
      "|tpep_pickup_datetime|tpep_dropoff_datetime|     passenger_count|trip_distance|PULocationID|DOLocationID|\n",
      "+--------------------+---------------------+--------------------+-------------+------------+------------+\n",
      "|                 0.0|                  0.0|0.032697968387941166|          0.0|         0.0|         0.0|\n",
      "+--------------------+---------------------+--------------------+-------------+------------+------------+\n",
      "\n"
     ]
    },
    {
     "name": "stderr",
     "output_type": "stream",
     "text": [
      "\r",
      "                                                                                \r"
     ]
    }
   ],
   "source": [
    "# percentage of null rows in manhattan dataframe \n",
    "null_percent = manhattan_df.select([(count(when(col(c).isNull(), c))/count(lit(1))).alias(c) for c in manhattan_df.columns])\n",
    "null_percent.show()"
   ]
  },
  {
   "cell_type": "markdown",
   "id": "f98233f1",
   "metadata": {},
   "source": [
    "- The amount of null rows in the passenger_count column has decrease slightly as a result of the filter"
   ]
  },
  {
   "cell_type": "code",
   "execution_count": null,
   "id": "0c84e7a2",
   "metadata": {},
   "outputs": [],
   "source": []
  },
  {
   "cell_type": "markdown",
   "id": "73543ee3",
   "metadata": {},
   "source": [
    "## Passenger Count \n",
    "### Irregular values"
   ]
  },
  {
   "cell_type": "code",
   "execution_count": 24,
   "id": "1195f9b6",
   "metadata": {},
   "outputs": [
    {
     "name": "stderr",
     "output_type": "stream",
     "text": [
      "                                                                                \r"
     ]
    },
    {
     "data": {
      "text/plain": [
       "[Row(passenger_count=8.0),\n",
       " Row(passenger_count=0.0),\n",
       " Row(passenger_count=7.0),\n",
       " Row(passenger_count=1.0),\n",
       " Row(passenger_count=4.0),\n",
       " Row(passenger_count=3.0),\n",
       " Row(passenger_count=2.0),\n",
       " Row(passenger_count=6.0),\n",
       " Row(passenger_count=5.0),\n",
       " Row(passenger_count=9.0),\n",
       " Row(passenger_count=None)]"
      ]
     },
     "execution_count": 24,
     "metadata": {},
     "output_type": "execute_result"
    }
   ],
   "source": [
    "# distinct values in the passenger_count column\n",
    "manhattan_df.select(\"passenger_count\").distinct().collect()"
   ]
  },
  {
   "cell_type": "code",
   "execution_count": 25,
   "id": "194c7e72",
   "metadata": {},
   "outputs": [
    {
     "name": "stderr",
     "output_type": "stream",
     "text": [
      "[Stage 47:=================================================>      (33 + 4) / 37]\r"
     ]
    },
    {
     "name": "stdout",
     "output_type": "stream",
     "text": [
      "+---------------+--------+\n",
      "|passenger_count|   count|\n",
      "+---------------+--------+\n",
      "|            8.0|      73|\n",
      "|            0.0|  824011|\n",
      "|            7.0|     109|\n",
      "|            1.0|31656453|\n",
      "|            4.0|  782595|\n",
      "|            3.0| 1685594|\n",
      "|            2.0| 6521298|\n",
      "|            6.0|  488200|\n",
      "|            5.0|  731188|\n",
      "|            9.0|      22|\n",
      "|           null| 1443046|\n",
      "+---------------+--------+\n",
      "\n"
     ]
    },
    {
     "name": "stderr",
     "output_type": "stream",
     "text": [
      "\r",
      "                                                                                \r"
     ]
    }
   ],
   "source": [
    "# number of instance for each values\n",
    "value_count = manhattan_df.groupBy(\"passenger_count\").count().show()"
   ]
  },
  {
   "cell_type": "code",
   "execution_count": 26,
   "id": "2c386136",
   "metadata": {},
   "outputs": [],
   "source": [
    "# each trip should have at least 1 passengers\n",
    "# according to the nyc.gov website, there should be no more that 6 passengers in a taxi\n",
    "# list of irrelgular values\n",
    "irregular_values =  [0.0, 7.0, 8.0, 9.0]"
   ]
  },
  {
   "cell_type": "code",
   "execution_count": 27,
   "id": "18ba3455",
   "metadata": {},
   "outputs": [
    {
     "name": "stderr",
     "output_type": "stream",
     "text": [
      "                                                                                \r"
     ]
    },
    {
     "name": "stdout",
     "output_type": "stream",
     "text": [
      "The total number of rows with irregular passenger count is 824215\n"
     ]
    },
    {
     "name": "stderr",
     "output_type": "stream",
     "text": [
      "[Stage 53:=================================================>      (33 + 4) / 37]\r"
     ]
    },
    {
     "name": "stdout",
     "output_type": "stream",
     "text": [
      "The percentage of rows with irregular values is 1.8675881444435538%\n"
     ]
    },
    {
     "name": "stderr",
     "output_type": "stream",
     "text": [
      "\r",
      "                                                                                \r"
     ]
    }
   ],
   "source": [
    "# total number of rows with irregular values\n",
    "total_irregular = manhattan_df.filter(col(\"passenger_count\").isin(irregular_values)).count()\n",
    "print(f\"The total number of rows with irregular passenger count is {total_irregular}\")\n",
    "# total number of rows\n",
    "total_rows = manhattan_df.count()\n",
    "# percentage of rows with irregular values\n",
    "irregular_percent = (total_irregular/total_rows) * 100\n",
    "print(f\"The percentage of rows with irregular values is {irregular_percent}%\")"
   ]
  },
  {
   "cell_type": "code",
   "execution_count": null,
   "id": "78e88873",
   "metadata": {},
   "outputs": [],
   "source": []
  },
  {
   "cell_type": "markdown",
   "id": "07ec417f",
   "metadata": {},
   "source": [
    "#### Plotting values"
   ]
  },
  {
   "cell_type": "code",
   "execution_count": null,
   "id": "07b2d7df",
   "metadata": {},
   "outputs": [],
   "source": []
  },
  {
   "cell_type": "code",
   "execution_count": 28,
   "id": "4f9f0d8c",
   "metadata": {},
   "outputs": [
    {
     "name": "stderr",
     "output_type": "stream",
     "text": [
      "\r",
      "[Stage 56:>                                                         (0 + 1) / 1]\r",
      "\r",
      "                                                                                \r"
     ]
    }
   ],
   "source": [
    "# converting the first 400000(almost 10% of the data set) rows in the passenger count column to a pandas data frame\n",
    "passenger_pandas = manhattan_df.select(\"passenger_count\").limit(400000).toPandas()[\"passenger_count\"]"
   ]
  },
  {
   "cell_type": "code",
   "execution_count": 29,
   "id": "96ee444d",
   "metadata": {},
   "outputs": [
    {
     "data": {
      "image/png": "[encoded data removed]",
      "text/plain": [
       "<Figure size 640x480 with 1 Axes>"
      ]
     },
     "metadata": {},
     "output_type": "display_data"
    }
   ],
   "source": [
    "# box plot\n",
    "plt.boxplot(passenger_pandas)\n",
    "# plot title\n",
    "plt.title(\"passenger_count\")\n",
    "# y axis label\n",
    "plt.ylabel(\"number of passengers\")\n",
    "plt.show()"
   ]
  },
  {
   "cell_type": "code",
   "execution_count": 30,
   "id": "dfc972be",
   "metadata": {},
   "outputs": [
    {
     "data": {
      "image/png": "[encoded data removed]",
      "text/plain": [
       "<Figure size 640x480 with 1 Axes>"
      ]
     },
     "metadata": {},
     "output_type": "display_data"
    }
   ],
   "source": [
    "# histogram\n",
    "plt.hist(passenger_pandas)\n",
    "# plot title\n",
    "plt.title(\"passenger_count\")\n",
    "# y axis label\n",
    "plt.ylabel(\"number of passengers\")\n",
    "plt.show()"
   ]
  },
  {
   "cell_type": "code",
   "execution_count": null,
   "id": "dca733fa",
   "metadata": {},
   "outputs": [],
   "source": []
  },
  {
   "cell_type": "code",
   "execution_count": null,
   "id": "19deabce",
   "metadata": {},
   "outputs": [],
   "source": []
  },
  {
   "cell_type": "markdown",
   "id": "4184630d",
   "metadata": {},
   "source": [
    "## Trip Distance"
   ]
  },
  {
   "cell_type": "code",
   "execution_count": null,
   "id": "7b4536b9",
   "metadata": {},
   "outputs": [],
   "source": []
  },
  {
   "cell_type": "code",
   "execution_count": 31,
   "id": "fb33f78b",
   "metadata": {},
   "outputs": [
    {
     "name": "stderr",
     "output_type": "stream",
     "text": [
      "[Stage 57:=================================================>      (33 + 4) / 37]\r"
     ]
    },
    {
     "name": "stdout",
     "output_type": "stream",
     "text": [
      "+------------+------------+-----------------+\n",
      "|max distance|min distance|    mean distance|\n",
      "+------------+------------+-----------------+\n",
      "|   389678.46|         0.0|5.273092328437684|\n",
      "+------------+------------+-----------------+\n",
      "\n"
     ]
    },
    {
     "name": "stderr",
     "output_type": "stream",
     "text": [
      "\r",
      "                                                                                \r"
     ]
    }
   ],
   "source": [
    "# max, min and mean distances \n",
    "distances = manhattan_df.select(max(\"trip_distance\").alias(\"max distance\"), \n",
    "                                min(\"trip_distance\").alias(\"min distance\"),\n",
    "                               mean(\"trip_distance\").alias(\"mean distance\")).show()"
   ]
  },
  {
   "cell_type": "code",
   "execution_count": 32,
   "id": "84acfffe",
   "metadata": {},
   "outputs": [
    {
     "name": "stderr",
     "output_type": "stream",
     "text": [
      "                                                                                \r"
     ]
    }
   ],
   "source": [
    "# converting trip distance column to a pandas data frame using the first 400000 rows\n",
    "distance_pandas = manhattan_df.select(\"trip_distance\").limit(400000).toPandas()[\"trip_distance\"]"
   ]
  },
  {
   "cell_type": "code",
   "execution_count": 33,
   "id": "665b7fb0",
   "metadata": {},
   "outputs": [
    {
     "data": {
      "image/png": "[encoded data removed]",
      "text/plain": [
       "<Figure size 640x480 with 1 Axes>"
      ]
     },
     "metadata": {},
     "output_type": "display_data"
    }
   ],
   "source": [
    "# box plot\n",
    "plt.boxplot(distance_pandas)\n",
    "# plot title\n",
    "plt.title(\"trip_distance\")\n",
    "# y axis label\n",
    "plt.ylabel(\"distance\")\n",
    "plt.show()"
   ]
  },
  {
   "cell_type": "code",
   "execution_count": 34,
   "id": "c9091af5",
   "metadata": {},
   "outputs": [
    {
     "data": {
      "image/png": "[encoded data removed]",
      "text/plain": [
       "<Figure size 640x480 with 1 Axes>"
      ]
     },
     "metadata": {},
     "output_type": "display_data"
    }
   ],
   "source": [
    "# histogram\n",
    "plt.hist(distance_pandas)\n",
    "# plot title\n",
    "plt.title(\"trip_distance\")\n",
    "# y axis label\n",
    "plt.ylabel(\"distance\")\n",
    "plt.show()"
   ]
  },
  {
   "cell_type": "markdown",
   "id": "ba52d975",
   "metadata": {},
   "source": [
    "- Based on the plots, most of the trip distance is within 30 miles "
   ]
  },
  {
   "cell_type": "code",
   "execution_count": null,
   "id": "b88ca2b3",
   "metadata": {},
   "outputs": [],
   "source": []
  },
  {
   "cell_type": "markdown",
   "id": "c8e53763",
   "metadata": {},
   "source": [
    "### Trips over 30 miles"
   ]
  },
  {
   "cell_type": "code",
   "execution_count": null,
   "id": "e090cb95",
   "metadata": {},
   "outputs": [],
   "source": []
  },
  {
   "cell_type": "code",
   "execution_count": 35,
   "id": "4c946806",
   "metadata": {},
   "outputs": [
    {
     "name": "stderr",
     "output_type": "stream",
     "text": [
      "[Stage 61:=================================================>      (33 + 4) / 37]\r"
     ]
    },
    {
     "name": "stdout",
     "output_type": "stream",
     "text": [
      "The number of trips over 30 miles is 9090\n"
     ]
    },
    {
     "name": "stderr",
     "output_type": "stream",
     "text": [
      "\r",
      "[Stage 61:======================================================> (36 + 1) / 37]\r",
      "\r",
      "                                                                                \r"
     ]
    }
   ],
   "source": [
    "# number of trips over 30 miles\n",
    "distance = \"trip_distance\"\n",
    "long_distance = manhattan_df.filter(col(distance) > 30).count()\n",
    "\n",
    "print(f\"The number of trips over 30 miles is {long_distance}\")"
   ]
  },
  {
   "cell_type": "code",
   "execution_count": 36,
   "id": "46de7365",
   "metadata": {},
   "outputs": [
    {
     "name": "stderr",
     "output_type": "stream",
     "text": [
      "[Stage 64:=================================================>      (33 + 4) / 37]\r"
     ]
    },
    {
     "name": "stdout",
     "output_type": "stream",
     "text": [
      "The percentage of trips over 30 miles is 0.020597024117483795%\n"
     ]
    },
    {
     "name": "stderr",
     "output_type": "stream",
     "text": [
      "\r",
      "                                                                                \r"
     ]
    }
   ],
   "source": [
    "# total number of rows\n",
    "total_rows = manhattan_df.count()\n",
    "# percentage of trips over 30 miles \n",
    "long_distance_percent = (long_distance/total_rows) * 100\n",
    "print(f\"The percentage of trips over 30 miles is {long_distance_percent}%\")"
   ]
  },
  {
   "cell_type": "markdown",
   "id": "757d270f",
   "metadata": {},
   "source": [
    "### Trips with a distance of 0.0 miles"
   ]
  },
  {
   "cell_type": "code",
   "execution_count": 37,
   "id": "8bcbcdf5",
   "metadata": {},
   "outputs": [
    {
     "name": "stderr",
     "output_type": "stream",
     "text": [
      "[Stage 67:=================================================>      (33 + 4) / 37]\r"
     ]
    },
    {
     "name": "stdout",
     "output_type": "stream",
     "text": [
      "The number of trips with 0 miles is 428295\n"
     ]
    },
    {
     "name": "stderr",
     "output_type": "stream",
     "text": [
      "\r",
      "                                                                                \r"
     ]
    }
   ],
   "source": [
    "# number of trips with 0 miles\n",
    "zero_miles = manhattan_df.filter(col(distance) == 0.0).count()\n",
    "\n",
    "print(f\"The number of trips with 0 miles is {zero_miles}\")"
   ]
  },
  {
   "cell_type": "code",
   "execution_count": 38,
   "id": "7e18d424",
   "metadata": {},
   "outputs": [
    {
     "name": "stdout",
     "output_type": "stream",
     "text": [
      "The percentage of trips with 0 miles is 0.9704733162153709%\n"
     ]
    }
   ],
   "source": [
    "# percentage of trips with 0 miles \n",
    "zero_miles_percent = (zero_miles/total_rows) * 100\n",
    "print(f\"The percentage of trips with 0 miles is {zero_miles_percent}%\")"
   ]
  },
  {
   "cell_type": "code",
   "execution_count": 39,
   "id": "02f9d067",
   "metadata": {},
   "outputs": [
    {
     "name": "stdout",
     "output_type": "stream",
     "text": [
      "The percentage sum of trips over 30 miles and trips with 0 miles is 0.9910703403328547%\n"
     ]
    }
   ],
   "source": [
    "## the percentage of trips with 0 miles plus the percentage of trips over 30 miles \n",
    "total_zero_long_distance = zero_miles_percent + long_distance_percent\n",
    "print(f\"The percentage sum of trips over 30 miles and trips with 0 miles is {total_zero_long_distance}%\")"
   ]
  },
  {
   "cell_type": "markdown",
   "id": "002313ff",
   "metadata": {},
   "source": [
    "## Dropoff and Pickup Times"
   ]
  },
  {
   "cell_type": "code",
   "execution_count": null,
   "id": "9b7bca53",
   "metadata": {},
   "outputs": [],
   "source": []
  },
  {
   "cell_type": "code",
   "execution_count": 40,
   "id": "3afe0013",
   "metadata": {},
   "outputs": [],
   "source": [
    "# converting time columns to timestamp data type\n",
    "# pickup time\n",
    "manhattan_df = manhattan_df.withColumn(\"tpep_pickup_datetime\", to_timestamp(\"tpep_pickup_datetime\", \"yyyy-MM-dd HH:mm:ss\"))\n",
    "# dropoff time\n",
    "manhattan_df = manhattan_df.withColumn(\"tpep_dropoff_datetime\", to_timestamp(\"tpep_dropoff_datetime\", \"yyyy-MM-dd HH:mm:ss\"))"
   ]
  },
  {
   "cell_type": "code",
   "execution_count": 41,
   "id": "2b97671a",
   "metadata": {},
   "outputs": [
    {
     "data": {
      "text/plain": [
       "[('tpep_pickup_datetime', 'timestamp'),\n",
       " ('tpep_dropoff_datetime', 'timestamp'),\n",
       " ('passenger_count', 'double'),\n",
       " ('trip_distance', 'double'),\n",
       " ('PULocationID', 'int'),\n",
       " ('DOLocationID', 'int')]"
      ]
     },
     "execution_count": 41,
     "metadata": {},
     "output_type": "execute_result"
    }
   ],
   "source": [
    "# data types\n",
    "manhattan_df.dtypes"
   ]
  },
  {
   "cell_type": "code",
   "execution_count": 42,
   "id": "63a8df2b",
   "metadata": {},
   "outputs": [
    {
     "name": "stderr",
     "output_type": "stream",
     "text": [
      "[Stage 70:=================================================>      (33 + 4) / 37]\r"
     ]
    },
    {
     "name": "stdout",
     "output_type": "stream",
     "text": [
      "+-------------------+-------------------+\n",
      "|    max pickup time|    min pickup time|\n",
      "+-------------------+-------------------+\n",
      "|2023-04-18 14:30:05|2001-01-01 00:03:14|\n",
      "+-------------------+-------------------+\n",
      "\n"
     ]
    },
    {
     "name": "stderr",
     "output_type": "stream",
     "text": [
      "\r",
      "                                                                                \r"
     ]
    }
   ],
   "source": [
    "# min and max pickup times\n",
    "pickup_times = manhattan_df.select(max(\"tpep_pickup_datetime\").alias(\"max pickup time\"), \n",
    "                                min(\"tpep_pickup_datetime\").alias(\"min pickup time\")\n",
    "                                  ).show()"
   ]
  },
  {
   "cell_type": "code",
   "execution_count": 43,
   "id": "f1cbe5af",
   "metadata": {},
   "outputs": [
    {
     "name": "stderr",
     "output_type": "stream",
     "text": [
      "[Stage 73:====================================================>   (35 + 2) / 37]\r"
     ]
    },
    {
     "name": "stdout",
     "output_type": "stream",
     "text": [
      "+-------------------+-------------------+\n",
      "|   max dropoff time|   min dropoff time|\n",
      "+-------------------+-------------------+\n",
      "|2023-04-18 23:30:39|2001-01-01 00:34:17|\n",
      "+-------------------+-------------------+\n",
      "\n"
     ]
    },
    {
     "name": "stderr",
     "output_type": "stream",
     "text": [
      "\r",
      "                                                                                \r"
     ]
    }
   ],
   "source": [
    "# min and max dropoff times\n",
    "dropoff_times = manhattan_df.select(max(\"tpep_dropoff_datetime\").alias(\"max dropoff time\"), \n",
    "                                min(\"tpep_dropoff_datetime\").alias(\"min dropoff time\")\n",
    "                                  ).show()"
   ]
  },
  {
   "cell_type": "markdown",
   "id": "c01e56ae",
   "metadata": {},
   "source": [
    "- The minimum and maximum dropoff and pickup timestamp are outside the permitted range. The minimum timestamp should be 2022-02-01 00:00:00 and the maximum timestamp should be 2023-03-10 23:59:59 (last date in the subway data set) "
   ]
  },
  {
   "cell_type": "markdown",
   "id": "bbc8348c",
   "metadata": {},
   "source": [
    "### Permitted timestamp range "
   ]
  },
  {
   "cell_type": "code",
   "execution_count": 44,
   "id": "dbceac4d",
   "metadata": {},
   "outputs": [],
   "source": [
    "# correct timestamp range that matches with the subway data \n",
    "start_date = \"2022-02-01 00:00:00\"\n",
    "end_date = \"2023-03-10 23:59:59\""
   ]
  },
  {
   "cell_type": "code",
   "execution_count": 45,
   "id": "f7dbf0a3",
   "metadata": {},
   "outputs": [
    {
     "data": {
      "text/plain": [
       "[('tpep_pickup_datetime', 'timestamp'),\n",
       " ('tpep_dropoff_datetime', 'timestamp'),\n",
       " ('passenger_count', 'double'),\n",
       " ('trip_distance', 'double'),\n",
       " ('PULocationID', 'int'),\n",
       " ('DOLocationID', 'int')]"
      ]
     },
     "execution_count": 45,
     "metadata": {},
     "output_type": "execute_result"
    }
   ],
   "source": [
    "manhattan_df.dtypes"
   ]
  },
  {
   "cell_type": "code",
   "execution_count": 46,
   "id": "497daf7e",
   "metadata": {},
   "outputs": [
    {
     "name": "stderr",
     "output_type": "stream",
     "text": [
      "[Stage 76:=================================================>      (33 + 4) / 37]\r"
     ]
    },
    {
     "name": "stdout",
     "output_type": "stream",
     "text": [
      "There are 41985057 rows within the permitted timestamp range\n"
     ]
    },
    {
     "name": "stderr",
     "output_type": "stream",
     "text": [
      "\r",
      "                                                                                \r"
     ]
    }
   ],
   "source": [
    "# number of rows within the permitted range \n",
    "correct_timestamp = manhattan_df.filter(\n",
    "    (col(\"tpep_pickup_datetime\") >= start_date) & (col(\"tpep_dropoff_datetime\") <= end_date) & \n",
    "    (col(\"tpep_dropoff_datetime\") >= start_date) & (col(\"tpep_dropoff_datetime\") <= end_date)\n",
    ")\n",
    "\n",
    "correct_rows = correct_timestamp.count()                               \n",
    "print(f\"There are {correct_rows} rows within the permitted timestamp range\")                                        \n",
    "                                        "
   ]
  },
  {
   "cell_type": "code",
   "execution_count": 47,
   "id": "58e83ca8",
   "metadata": {},
   "outputs": [
    {
     "name": "stderr",
     "output_type": "stream",
     "text": [
      "[Stage 79:=================================================>      (33 + 4) / 37]\r"
     ]
    },
    {
     "name": "stdout",
     "output_type": "stream",
     "text": [
      "There are 2147532 rows outside the permitted timestamp range\n"
     ]
    },
    {
     "name": "stderr",
     "output_type": "stream",
     "text": [
      "\r",
      "                                                                                \r"
     ]
    }
   ],
   "source": [
    "# number of rows outsitde the permitted range\n",
    "incorrect_timestamp = manhattan_df.filter(\n",
    "    ~(\n",
    "    (col(\"tpep_pickup_datetime\") >= start_date) & (col(\"tpep_dropoff_datetime\") <= end_date) \n",
    "& (col(\"tpep_dropoff_datetime\") >= start_date) & (col(\"tpep_dropoff_datetime\") <= end_date)\n",
    "    )\n",
    ")\n",
    "\n",
    "incorrect_rows = incorrect_timestamp.count()                               \n",
    "print(f\"There are {incorrect_rows} rows outside the permitted timestamp range\")                                        \n",
    "     "
   ]
  },
  {
   "cell_type": "code",
   "execution_count": 48,
   "id": "47f8eace",
   "metadata": {},
   "outputs": [
    {
     "name": "stdout",
     "output_type": "stream",
     "text": [
      "The percentage of rows outside the permitted timstamp range is 4.866091132790782%\n"
     ]
    }
   ],
   "source": [
    "# percentage of rows outside the permitted range\n",
    "incorrect_date_percent = (incorrect_rows/total_rows) * 100\n",
    "print(f\"The percentage of rows outside the permitted timstamp range is {incorrect_date_percent}%\")"
   ]
  },
  {
   "cell_type": "code",
   "execution_count": null,
   "id": "16d01371",
   "metadata": {},
   "outputs": [],
   "source": []
  },
  {
   "cell_type": "markdown",
   "id": "01f2d02d",
   "metadata": {},
   "source": [
    "# Addressing Data Quality Issues \n",
    "## Sources\n",
    "- https://vitalflux.com/pandas-impute-missing-values-mean-median-mode/amp/\n",
    "- https://sparkbyexamples.com/pyspark/pyspark-replace-column-values/?expand_article=1\n",
    "- https://mungingdata.com/apache-spark/exact-percentile-approx-median/\n",
    "- https://sparkbyexamples.com/pyspark/pyspark-fillna-fill-replace-null-values/?expand_article=1#"
   ]
  },
  {
   "cell_type": "markdown",
   "id": "b84c00d1",
   "metadata": {},
   "source": [
    "## Pickup and Dropoff Times"
   ]
  },
  {
   "cell_type": "markdown",
   "id": "ab1ecbc1",
   "metadata": {},
   "source": [
    "- Rows outside the permitted timestamp range will be removed. They cannot be replaced the mean because it can't be calculated due to the data type. Replacing with the mode or median may introduce bias for a certain day and time which may have an impact on the model since the rows outside of the permitted date and time range make up almost 5% of the data set\n"
   ]
  },
  {
   "cell_type": "code",
   "execution_count": 49,
   "id": "3c0941db",
   "metadata": {},
   "outputs": [],
   "source": [
    "# filtering for rows within the permittted timestamp range\n",
    "manhattan_df =  manhattan_df.filter(\n",
    "    (col(\"tpep_pickup_datetime\") >= start_date) & (col(\"tpep_dropoff_datetime\") <= end_date) & \n",
    "    (col(\"tpep_dropoff_datetime\") >= start_date) & (col(\"tpep_dropoff_datetime\") <= end_date)\n",
    ")\n"
   ]
  },
  {
   "cell_type": "code",
   "execution_count": 50,
   "id": "a6302151",
   "metadata": {},
   "outputs": [
    {
     "name": "stderr",
     "output_type": "stream",
     "text": [
      "[Stage 82:====================================================>   (35 + 2) / 37]\r"
     ]
    },
    {
     "name": "stdout",
     "output_type": "stream",
     "text": [
      "+-------------------+-------------------+-------------------+-------------------+\n",
      "|    max pickup time|    min pickup time|   max dropoff time|   min dropoff time|\n",
      "+-------------------+-------------------+-------------------+-------------------+\n",
      "|2023-03-10 23:59:43|2022-02-01 00:00:00|2023-03-10 23:59:59|2022-02-01 00:01:31|\n",
      "+-------------------+-------------------+-------------------+-------------------+\n",
      "\n"
     ]
    },
    {
     "name": "stderr",
     "output_type": "stream",
     "text": [
      "\r",
      "                                                                                \r"
     ]
    }
   ],
   "source": [
    "# max and mini pickup and dropoff times\n",
    "times = manhattan_df.select(max(\"tpep_pickup_datetime\").alias(\"max pickup time\"),\n",
    "                            min(\"tpep_pickup_datetime\").alias(\"min pickup time\"),\n",
    "                            max(\"tpep_dropoff_datetime\").alias(\"max dropoff time\"), \n",
    "                                min(\"tpep_dropoff_datetime\").alias(\"min dropoff time\")\n",
    "                                  ).show()"
   ]
  },
  {
   "cell_type": "code",
   "execution_count": null,
   "id": "8401ee72",
   "metadata": {},
   "outputs": [],
   "source": []
  },
  {
   "cell_type": "markdown",
   "id": "4109a060",
   "metadata": {},
   "source": [
    "## Trip Distance\n",
    "- The rows with distances over 30 miles and distance of 0 miles will be imputed with the median value\n",
    "- Although these rows make up less than 1% of the data, the imputation will be done to preserve the data.\n",
    "- The median value will be used because the mean may be affected by the outliers present in this column. The data is also skewed so \n",
    "- This imputation will likely not have significant impact on the data"
   ]
  },
  {
   "cell_type": "code",
   "execution_count": null,
   "id": "1dfcb06e",
   "metadata": {},
   "outputs": [],
   "source": []
  },
  {
   "cell_type": "code",
   "execution_count": 51,
   "id": "c6ed9635",
   "metadata": {},
   "outputs": [
    {
     "name": "stderr",
     "output_type": "stream",
     "text": [
      "[Stage 85:=================================================>      (33 + 4) / 37]\r"
     ]
    },
    {
     "name": "stdout",
     "output_type": "stream",
     "text": [
      "1.88\n"
     ]
    },
    {
     "name": "stderr",
     "output_type": "stream",
     "text": [
      "\r",
      "                                                                                \r"
     ]
    }
   ],
   "source": [
    "# median distance\n",
    "median_distance = df.agg(expr(\"percentile(trip_distance, 0.5)\").alias(\"median\")).first()[\"median\"]\n",
    "print(median_distance)"
   ]
  },
  {
   "cell_type": "code",
   "execution_count": 52,
   "id": "8d4306fd",
   "metadata": {},
   "outputs": [],
   "source": [
    "# replacing trips over 30 miles with the median trip distance\n",
    "manhattan_df = manhattan_df.withColumn(\"trip_distance\", when(col(\"trip_distance\")\n",
    "                                                             >= 30, median_distance).otherwise(col(\"trip_distance\")))"
   ]
  },
  {
   "cell_type": "code",
   "execution_count": 53,
   "id": "20c86c9f",
   "metadata": {},
   "outputs": [],
   "source": [
    "# replacing trips with 0 miles with the median trip distance\n",
    "manhattan_df = manhattan_df.withColumn(\"trip_distance\", when(col(\"trip_distance\")\n",
    "                                                             == 0.0, median_distance).otherwise(col(\"trip_distance\")))"
   ]
  },
  {
   "cell_type": "code",
   "execution_count": 54,
   "id": "9e1e86e3",
   "metadata": {},
   "outputs": [
    {
     "name": "stderr",
     "output_type": "stream",
     "text": [
      "[Stage 88:=================================================>      (33 + 4) / 37]\r"
     ]
    },
    {
     "name": "stdout",
     "output_type": "stream",
     "text": [
      "+------------+------------+\n",
      "|max distance|min distance|\n",
      "+------------+------------+\n",
      "|       29.99|        0.01|\n",
      "+------------+------------+\n",
      "\n"
     ]
    },
    {
     "name": "stderr",
     "output_type": "stream",
     "text": [
      "\r",
      "                                                                                \r"
     ]
    }
   ],
   "source": [
    "# min and max distance\n",
    "distances = manhattan_df.select(max(\"trip_distance\").alias(\"max distance\"), \n",
    "                                min(\"trip_distance\").alias(\"min distance\"),\n",
    "                              ).show()"
   ]
  },
  {
   "cell_type": "code",
   "execution_count": null,
   "id": "df131e3c",
   "metadata": {},
   "outputs": [],
   "source": []
  },
  {
   "cell_type": "markdown",
   "id": "d07f1148",
   "metadata": {},
   "source": [
    "## Passenger Count"
   ]
  },
  {
   "cell_type": "code",
   "execution_count": null,
   "id": "b06d3798",
   "metadata": {},
   "outputs": [],
   "source": []
  },
  {
   "cell_type": "code",
   "execution_count": 55,
   "id": "d3f9caa7",
   "metadata": {},
   "outputs": [
    {
     "name": "stderr",
     "output_type": "stream",
     "text": [
      "[Stage 91:=================================================>      (33 + 4) / 37]\r"
     ]
    },
    {
     "name": "stdout",
     "output_type": "stream",
     "text": [
      "The number of null passenger count rows is  1386363\n"
     ]
    },
    {
     "name": "stderr",
     "output_type": "stream",
     "text": [
      "\r",
      "                                                                                \r"
     ]
    }
   ],
   "source": [
    "# number of null rows\n",
    "passenger_null = manhattan_df.filter(col(\"passenger_count\").isNull()).count()\n",
    "print(f\"The number of null passenger count rows is  {passenger_null}\")"
   ]
  },
  {
   "cell_type": "code",
   "execution_count": 56,
   "id": "12e0d501",
   "metadata": {},
   "outputs": [
    {
     "name": "stdout",
     "output_type": "stream",
     "text": [
      "The percentage of null passenger count rows is 3.1413588720117915%\n"
     ]
    }
   ],
   "source": [
    "# percentage of null rows\n",
    "passenger_null_percent = (passenger_null/total_rows) * 100\n",
    "print(f\"The percentage of null passenger count rows is {passenger_null_percent}%\")"
   ]
  },
  {
   "cell_type": "code",
   "execution_count": 57,
   "id": "bacdab22",
   "metadata": {},
   "outputs": [
    {
     "name": "stderr",
     "output_type": "stream",
     "text": [
      "[Stage 94:====================================================>   (35 + 2) / 37]\r"
     ]
    },
    {
     "name": "stdout",
     "output_type": "stream",
     "text": [
      "+---------------+--------+\n",
      "|passenger_count|   count|\n",
      "+---------------+--------+\n",
      "|            8.0|      70|\n",
      "|            0.0|  786957|\n",
      "|            7.0|     103|\n",
      "|            1.0|30077648|\n",
      "|            4.0|  743067|\n",
      "|            3.0| 1607352|\n",
      "|            2.0| 6212397|\n",
      "|            6.0|  469970|\n",
      "|            5.0|  701109|\n",
      "|            9.0|      21|\n",
      "|           null| 1386363|\n",
      "+---------------+--------+\n",
      "\n"
     ]
    },
    {
     "name": "stderr",
     "output_type": "stream",
     "text": [
      "\r",
      "                                                                                \r"
     ]
    }
   ],
   "source": [
    "# number of instance for each values\n",
    "value_count = manhattan_df.groupBy(\"passenger_count\").count().show()"
   ]
  },
  {
   "cell_type": "code",
   "execution_count": 58,
   "id": "d00bbc02",
   "metadata": {},
   "outputs": [
    {
     "name": "stderr",
     "output_type": "stream",
     "text": [
      "                                                                                \r"
     ]
    },
    {
     "name": "stdout",
     "output_type": "stream",
     "text": [
      "The total number of rows with irregular passenger count is 787151\n"
     ]
    },
    {
     "name": "stderr",
     "output_type": "stream",
     "text": [
      "[Stage 100:=====================================================> (36 + 1) / 37]\r"
     ]
    },
    {
     "name": "stdout",
     "output_type": "stream",
     "text": [
      "The percentage of rows with irregular values is 1.874836087515613%\n"
     ]
    },
    {
     "name": "stderr",
     "output_type": "stream",
     "text": [
      "\r",
      "                                                                                \r"
     ]
    }
   ],
   "source": [
    "# total number of rows with irregular values\n",
    "total_irregular = manhattan_df.filter(col(\"passenger_count\").isin(irregular_values)).count()\n",
    "print(f\"The total number of rows with irregular passenger count is {total_irregular}\")\n",
    "# total number of rows\n",
    "total_rows = manhattan_df.count()\n",
    "# percentage of rows with irregular values\n",
    "irregular_percent = (total_irregular/total_rows) * 100\n",
    "print(f\"The percentage of rows with irregular values is {irregular_percent}%\")"
   ]
  },
  {
   "cell_type": "code",
   "execution_count": 59,
   "id": "b40ed0db",
   "metadata": {},
   "outputs": [
    {
     "name": "stderr",
     "output_type": "stream",
     "text": [
      "[Stage 103:=================================================>     (33 + 4) / 37]\r"
     ]
    },
    {
     "name": "stdout",
     "output_type": "stream",
     "text": [
      "1.0\n"
     ]
    },
    {
     "name": "stderr",
     "output_type": "stream",
     "text": [
      "\r",
      "                                                                                \r"
     ]
    }
   ],
   "source": [
    "# median passenger count\n",
    "median_passenger = df.agg(expr(\"percentile(passenger_count, 0.5)\").alias(\"median\")).first()[\"median\"]\n",
    "print(median_passenger)"
   ]
  },
  {
   "cell_type": "code",
   "execution_count": null,
   "id": "6dee4509",
   "metadata": {},
   "outputs": [],
   "source": []
  },
  {
   "cell_type": "code",
   "execution_count": null,
   "id": "ec5ab166",
   "metadata": {},
   "outputs": [],
   "source": []
  },
  {
   "cell_type": "markdown",
   "id": "649f3d59",
   "metadata": {},
   "source": [
    "- As shown above the percentage of rows with irregular values and number of null rows has decreased. This can be attributed to the fact that some rows were removed to address other data quality issues\n",
    "- The remaining rows will be replaced with 1 since this is median passenger count as show above. \n",
    "- 1 also is smallest permitted value for this column so it will be used to replace the rows with irregular values and null rows in an effort to preserve the data.\n",
    "- This may introduce some bias into the data however impact will likely not be significant because the rows being replaced make up just over 5% so this imputation is unlikely to impact the prediction model."
   ]
  },
  {
   "cell_type": "code",
   "execution_count": 60,
   "id": "afa3ff5f",
   "metadata": {},
   "outputs": [],
   "source": [
    "# null rows \n",
    "manhattan_df = manhattan_df.na.fill(median_passenger,[\"passenger_count\"])"
   ]
  },
  {
   "cell_type": "code",
   "execution_count": 61,
   "id": "a604c636",
   "metadata": {},
   "outputs": [
    {
     "name": "stdout",
     "output_type": "stream",
     "text": [
      "The number of null passenger count rows is  0\n"
     ]
    }
   ],
   "source": [
    "# number of null rows\n",
    "passenger_null = manhattan_df.filter(col(\"passenger_count\").isNull()).count()\n",
    "print(f\"The number of null passenger count rows is  {passenger_null}\")"
   ]
  },
  {
   "cell_type": "markdown",
   "id": "ac3098e4",
   "metadata": {},
   "source": [
    "- The null rows have be filled "
   ]
  },
  {
   "cell_type": "code",
   "execution_count": 62,
   "id": "caba325a",
   "metadata": {},
   "outputs": [],
   "source": [
    "## irregular values greater than or equal to 7\n",
    "manhattan_df = manhattan_df.withColumn(\"passenger_count\", when(col(\"passenger_count\")\n",
    "                                                             >= 7, median_passenger).otherwise(col(\"passenger_count\")))"
   ]
  },
  {
   "cell_type": "code",
   "execution_count": 63,
   "id": "7548671d",
   "metadata": {},
   "outputs": [],
   "source": [
    "## irregular values equal to 0.0\n",
    "manhattan_df = manhattan_df.withColumn(\"passenger_count\", when(col(\"passenger_count\")\n",
    "                                                             == 0.0, median_passenger).otherwise(col(\"passenger_count\")))"
   ]
  },
  {
   "cell_type": "code",
   "execution_count": 64,
   "id": "78698bcb",
   "metadata": {},
   "outputs": [
    {
     "name": "stderr",
     "output_type": "stream",
     "text": [
      "                                                                                \r"
     ]
    },
    {
     "name": "stdout",
     "output_type": "stream",
     "text": [
      "The total number of rows with irregular passenger count is 0\n"
     ]
    },
    {
     "name": "stderr",
     "output_type": "stream",
     "text": [
      "[Stage 111:=================================================>     (33 + 4) / 37]\r"
     ]
    },
    {
     "name": "stdout",
     "output_type": "stream",
     "text": [
      "The percentage of rows with irregular values is 0.0%\n"
     ]
    },
    {
     "name": "stderr",
     "output_type": "stream",
     "text": [
      "\r",
      "                                                                                \r"
     ]
    }
   ],
   "source": [
    "# total number of rows with irregular values\n",
    "total_irregular = manhattan_df.filter(col(\"passenger_count\").isin(irregular_values)).count()\n",
    "print(f\"The total number of rows with irregular passenger count is {total_irregular}\")\n",
    "# total number of rows\n",
    "total_rows = manhattan_df.count()\n",
    "# percentage of rows with irregular values\n",
    "irregular_percent = (total_irregular/total_rows) * 100\n",
    "print(f\"The percentage of rows with irregular values is {irregular_percent}%\")"
   ]
  },
  {
   "cell_type": "code",
   "execution_count": 65,
   "id": "c875a388",
   "metadata": {},
   "outputs": [
    {
     "name": "stderr",
     "output_type": "stream",
     "text": [
      "[Stage 114:=====================================================> (36 + 1) / 37]\r"
     ]
    },
    {
     "name": "stdout",
     "output_type": "stream",
     "text": [
      "+---------------+--------+\n",
      "|passenger_count|   count|\n",
      "+---------------+--------+\n",
      "|            1.0|32251162|\n",
      "|            4.0|  743067|\n",
      "|            3.0| 1607352|\n",
      "|            2.0| 6212397|\n",
      "|            6.0|  469970|\n",
      "|            5.0|  701109|\n",
      "+---------------+--------+\n",
      "\n"
     ]
    },
    {
     "name": "stderr",
     "output_type": "stream",
     "text": [
      "\r",
      "                                                                                \r"
     ]
    }
   ],
   "source": [
    "# number of instances of each distinct value in the passenger count column\n",
    "value_count = manhattan_df.groupBy(\"passenger_count\").count().show()"
   ]
  },
  {
   "cell_type": "markdown",
   "id": "9c22a78b",
   "metadata": {},
   "source": [
    "- There are no more columns with irregular passenger count values, the data set cleaning is now complete"
   ]
  },
  {
   "cell_type": "code",
   "execution_count": 66,
   "id": "a1eabfa6",
   "metadata": {},
   "outputs": [
    {
     "name": "stderr",
     "output_type": "stream",
     "text": [
      "[Stage 117:==================================================>    (34 + 3) / 37]\r"
     ]
    },
    {
     "name": "stdout",
     "output_type": "stream",
     "text": [
      "There are 6 columns and 41985057 rows in this data frame\n"
     ]
    },
    {
     "name": "stderr",
     "output_type": "stream",
     "text": [
      "\r",
      "                                                                                \r"
     ]
    }
   ],
   "source": [
    "# shape of cleaned data frame\n",
    "columns = len(manhattan_df.columns)\n",
    "rows = manhattan_df.count()\n",
    "print(f\"There are {columns} columns and {rows} rows in this data frame\")"
   ]
  },
  {
   "cell_type": "code",
   "execution_count": 67,
   "id": "9e1ee179",
   "metadata": {},
   "outputs": [
    {
     "name": "stdout",
     "output_type": "stream",
     "text": [
      "+--------------------+---------------------+---------------+-------------+------------+------------+\n",
      "|tpep_pickup_datetime|tpep_dropoff_datetime|passenger_count|trip_distance|PULocationID|DOLocationID|\n",
      "+--------------------+---------------------+---------------+-------------+------------+------------+\n",
      "| 2022-04-01 00:21:13|  2022-04-01 00:58:33|            1.0|         10.3|         163|          62|\n",
      "| 2022-04-01 00:07:47|  2022-04-01 00:19:12|            1.0|          2.0|         142|         141|\n",
      "| 2022-04-01 00:14:52|  2022-04-01 00:23:43|            1.0|          1.0|          79|         148|\n",
      "| 2022-04-01 00:30:02|  2022-04-01 00:45:06|            1.0|          2.6|          79|          13|\n",
      "| 2022-04-01 00:48:40|  2022-04-01 01:03:34|            1.0|         2.79|         238|         116|\n",
      "+--------------------+---------------------+---------------+-------------+------------+------------+\n",
      "only showing top 5 rows\n",
      "\n"
     ]
    }
   ],
   "source": [
    "# first 5 rows of cleaned data frame\n",
    "manhattan_df.show(n = 5)"
   ]
  },
  {
   "cell_type": "markdown",
   "id": "c404db0b",
   "metadata": {},
   "source": [
    "## Data Quality Summary\n",
    "| Variable Names                     | Data Quality Issue            | Handling Strategy              |\n",
    "|------------------------------------|-------------------------------|--------------------------------|\n",
    "| RatecodeID                          | Irrelevant        | Drop column                   |\n",
    "| store_and_fwd_flag                    | Irrelevant        | Drop column                       |\n",
    "| payment_type                         | Irrelevant         | Drop column                       |\n",
    "| fare_amount                  | Irrelevant        | Drop column                       |\n",
    "| extra                          | Irrelevant|Drop column        |\n",
    "| mta_tax                                | Irrelevant| Drop column         |\n",
    "| tip_amount                               | Irrelevant| Drop column        |\n",
    "| tolls_amount                          | Irrelevant| Drop column        |\n",
    "| improvement_surcharge    | Irrelevant                     | Drop column|\n",
    "| total_amount                | Irrelevant                      | Drop column|\n",
    "| airport_fee                        | Irrelevant | Drop column                         |\n",
    "| VendorID                     | Irrelevant, constant values |Drop column       |\n",
    "| congestion_surcharge                            | Irrelevant|Drop column       |\n",
    "| passenger_count                           |null rows, invalid values |Impute null rows and rows with irregular values with median|\n",
    "| trip_distance                           |Outliers |Impute rows with 0 miles and rows with distances over 30 miles with median    |\n",
    "| tpep_pickup_datetime         | Invalid values                    |Remove all with inccorect dates - Cannot calculate mean so can't be filled in with that value, can't be filled in with random values. Using next neigbour(previous value/ next value), median or mode could inflate busyness count\n",
    "       |\n",
    "| tpep_dropoff_datetime        | Inavlid values                   |Remove all with inccorect dates - Cannot calculate mean so can't be filled in with that value, can't be filled in with random values. Using next neigbour(previous value/ next value), median or mode could inflate busyness count\n",
    "      |\n",
    "\n"
   ]
  },
  {
   "cell_type": "markdown",
   "id": "6592ef7e",
   "metadata": {},
   "source": []
  },
  {
   "cell_type": "code",
   "execution_count": 117,
   "id": "02dc1fca",
   "metadata": {},
   "outputs": [
    {
     "name": "stderr",
     "output_type": "stream",
     "text": [
      "                                                                                \r"
     ]
    }
   ],
   "source": [
    "# saving data frame as a csv file \n",
    "manhattan_df.coalesce(1).write.csv(\"cleaned_taxi.csv\", header = True)"
   ]
  },
  {
   "cell_type": "code",
   "execution_count": 119,
   "id": "7cbe5279",
   "metadata": {},
   "outputs": [
    {
     "name": "stderr",
     "output_type": "stream",
     "text": [
      "                                                                                \r"
     ]
    }
   ],
   "source": [
    "# saving data frame as a parquet file \n",
    "manhattan_df.coalesce(1).write.parquet(\"cleaned_taxi.parquet\")\n"
   ]
  },
  {
   "cell_type": "code",
   "execution_count": 71,
   "id": "fe178e5c",
   "metadata": {},
   "outputs": [],
   "source": [
    "# reading saved parquet files as a pandas data frame\n",
    "df = pd.read_parquet(\"cleaned_taxi.parquet\")"
   ]
  },
  {
   "cell_type": "code",
   "execution_count": null,
   "id": "8f0e2de6",
   "metadata": {},
   "outputs": [],
   "source": []
  }
 ],
 "metadata": {
  "kernelspec": {
   "display_name": "Python 3 (ipykernel)",
   "language": "python",
   "name": "python3"
  },
  "language_info": {
   "codemirror_mode": {
    "name": "ipython",
    "version": 3
   },
   "file_extension": ".py",
   "mimetype": "text/x-python",
   "name": "python",
   "nbconvert_exporter": "python",
   "pygments_lexer": "ipython3",
   "version": "3.9.13"
  }
 },
 "nbformat": 4,
 "nbformat_minor": 5
}
