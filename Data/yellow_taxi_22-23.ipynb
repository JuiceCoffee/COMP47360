{
 "cells": [
  {
   "cell_type": "code",
   "execution_count": 266,
   "metadata": {},
   "outputs": [],
   "source": [
    "import pyspark.sql\n",
    "from pyspark.sql.functions import col, count, sum, isnan,  to_timestamp, mean, max, min, expr, when\n",
    "import matplotlib.pyplot as plt\n",
    "import seaborn as sns"
   ]
  },
  {
   "cell_type": "code",
   "execution_count": 176,
   "metadata": {},
   "outputs": [],
   "source": [
    "from pyspark.sql import SparkSession"
   ]
  },
  {
   "cell_type": "code",
   "execution_count": 177,
   "metadata": {},
   "outputs": [],
   "source": [
    "# Creating a pasrk session\n",
    "spark = SparkSession.builder.getOrCreate()"
   ]
  },
  {
   "cell_type": "code",
   "execution_count": 178,
   "metadata": {},
   "outputs": [
    {
     "name": "stderr",
     "output_type": "stream",
     "text": [
      "                                                                                \r"
     ]
    }
   ],
   "source": [
    "# Reading csv file\n",
    "df = spark.read.csv(\"./yellow_taxi_trips/yellow_trips.csv\", header=True, inferSchema=True)\n"
   ]
  },
  {
   "cell_type": "code",
   "execution_count": 179,
   "metadata": {},
   "outputs": [],
   "source": [
    "# Setting max number of rows to be displayed \n",
    "spark.conf.set(\"spark.sql.repl.eagerEval.maxNumRows\", \"1000\")"
   ]
  },
  {
   "cell_type": "code",
   "execution_count": 180,
   "metadata": {},
   "outputs": [
    {
     "name": "stdout",
     "output_type": "stream",
     "text": [
      "+--------+--------------------+---------------------+---------------+-------------+----------+------------------+------------+------------+------------+-----------+-----+-------+----------+------------+---------------------+------------+--------------------+-----------+\n",
      "|VendorID|tpep_pickup_datetime|tpep_dropoff_datetime|passenger_count|trip_distance|RatecodeID|store_and_fwd_flag|PULocationID|DOLocationID|payment_type|fare_amount|extra|mta_tax|tip_amount|tolls_amount|improvement_surcharge|total_amount|congestion_surcharge|airport_fee|\n",
      "+--------+--------------------+---------------------+---------------+-------------+----------+------------------+------------+------------+------------+-----------+-----+-------+----------+------------+---------------------+------------+--------------------+-----------+\n",
      "|1       |2022-04-01 00:21:13 |2022-04-01 00:58:33  |1.0            |10.3         |1.0       |N                 |163         |62          |1           |33.5       |3.0  |0.5    |7.45      |0.0         |0.3                  |44.75       |2.5                 |0.0        |\n",
      "|1       |2022-04-01 00:07:47 |2022-04-01 00:19:12  |0.0            |2.0          |1.0       |N                 |142         |141         |1           |10.0       |3.0  |0.5    |4.1       |0.0         |0.3                  |17.9        |2.5                 |0.0        |\n",
      "|1       |2022-04-01 00:14:52 |2022-04-01 00:23:43  |1.0            |1.0          |1.0       |N                 |79          |148         |1           |7.0        |3.0  |0.5    |2.15      |0.0         |0.3                  |12.95       |2.5                 |0.0        |\n",
      "|1       |2022-04-01 00:30:02 |2022-04-01 00:45:06  |1.0            |2.6          |1.0       |N                 |79          |13          |1           |12.0       |3.0  |0.5    |4.7       |0.0         |0.3                  |20.5        |2.5                 |0.0        |\n",
      "|2       |2022-04-01 00:48:40 |2022-04-01 01:03:34  |1.0            |2.79         |1.0       |N                 |238         |116         |4           |-12.5      |-0.5 |-0.5   |0.0       |0.0         |-0.3                 |-13.8       |0.0                 |0.0        |\n",
      "|2       |2022-04-01 00:48:40 |2022-04-01 01:03:34  |1.0            |2.79         |1.0       |N                 |238         |116         |2           |12.5       |0.5  |0.5    |0.0       |0.0         |0.3                  |13.8        |0.0                 |0.0        |\n",
      "|1       |2022-04-01 00:14:20 |2022-04-01 00:28:57  |1.0            |7.2          |1.0       |N                 |138         |42          |3           |20.5       |1.75 |0.5    |0.0       |6.55        |0.3                  |29.6        |0.0                 |1.25       |\n",
      "|1       |2022-04-01 00:49:53 |2022-04-01 01:10:09  |0.0            |9.4          |1.0       |N                 |138         |90          |1           |28.0       |4.25 |0.5    |11.85     |6.55        |0.3                  |51.45       |2.5                 |1.25       |\n",
      "|1       |2022-04-01 00:09:11 |2022-04-01 00:28:03  |1.0            |5.2          |1.0       |N                 |231         |239         |1           |18.0       |3.0  |0.5    |4.35      |0.0         |0.3                  |26.15       |2.5                 |0.0        |\n",
      "|2       |2022-04-01 00:04:58 |2022-04-01 00:30:36  |1.0            |6.03         |1.0       |N                 |164         |80          |1           |22.0       |0.5  |0.5    |5.16      |0.0         |0.3                  |30.96       |2.5                 |0.0        |\n",
      "|2       |2022-04-01 00:16:46 |2022-04-01 00:20:20  |1.0            |0.75         |1.0       |N                 |141         |236         |1           |5.0        |0.5  |0.5    |2.0       |0.0         |0.3                  |10.8        |2.5                 |0.0        |\n",
      "|2       |2022-04-01 00:38:28 |2022-04-01 00:54:02  |1.0            |3.63         |1.0       |N                 |48          |75          |1           |13.5       |0.5  |0.5    |0.0       |0.0         |0.3                  |17.3        |2.5                 |0.0        |\n",
      "|2       |2022-04-01 00:56:53 |2022-04-01 00:56:57  |2.0            |0.0          |5.0       |N                 |75          |264         |1           |35.0       |0.0  |0.0    |0.0       |0.0         |0.3                  |35.3        |0.0                 |0.0        |\n",
      "|2       |2022-04-01 00:04:58 |2022-04-01 00:10:33  |1.0            |1.39         |1.0       |N                 |170         |229         |1           |6.5        |0.5  |0.5    |2.06      |0.0         |0.3                  |12.36       |2.5                 |0.0        |\n",
      "|2       |2022-04-01 00:51:21 |2022-04-01 01:13:34  |1.0            |11.49        |1.0       |N                 |264         |264         |1           |33.0       |0.5  |0.5    |9.2       |0.0         |0.3                  |46.0        |2.5                 |0.0        |\n",
      "|2       |2022-04-01 00:07:13 |2022-04-01 00:24:12  |1.0            |3.9          |1.0       |N                 |148         |49          |1           |15.0       |0.5  |0.5    |0.0       |0.0         |0.3                  |18.8        |2.5                 |0.0        |\n",
      "|2       |2022-04-01 00:51:04 |2022-04-01 01:06:28  |1.0            |2.97         |1.0       |N                 |79          |48          |1           |13.0       |0.5  |0.5    |1.0       |0.0         |0.3                  |17.8        |2.5                 |0.0        |\n",
      "|2       |2022-04-01 00:04:45 |2022-04-01 00:07:50  |1.0            |0.95         |1.0       |N                 |107         |137         |1           |5.0        |0.5  |0.5    |1.0       |0.0         |0.3                  |9.8         |2.5                 |0.0        |\n",
      "|2       |2022-04-01 00:12:07 |2022-04-01 00:15:07  |1.0            |0.58         |1.0       |N                 |107         |79          |2           |4.0        |0.5  |0.5    |0.0       |0.0         |0.3                  |7.8         |2.5                 |0.0        |\n",
      "|2       |2022-04-01 00:26:20 |2022-04-01 00:39:49  |1.0            |4.21         |1.0       |N                 |229         |166         |1           |14.0       |0.5  |0.5    |3.56      |0.0         |0.3                  |21.36       |2.5                 |0.0        |\n",
      "+--------+--------------------+---------------------+---------------+-------------+----------+------------------+------------+------------+------------+-----------+-----+-------+----------+------------+---------------------+------------+--------------------+-----------+\n",
      "only showing top 20 rows\n",
      "\n"
     ]
    }
   ],
   "source": [
    "# Showing 20 rows \n",
    "df.show(n=20, truncate=False)"
   ]
  },
  {
   "cell_type": "markdown",
   "metadata": {},
   "source": [
    "# Checking for constant columns  - number of unique values in each column"
   ]
  },
  {
   "cell_type": "code",
   "execution_count": null,
   "metadata": {},
   "outputs": [],
   "source": []
  },
  {
   "cell_type": "code",
   "execution_count": 181,
   "metadata": {},
   "outputs": [
    {
     "name": "stderr",
     "output_type": "stream",
     "text": [
      "                                                                                \r"
     ]
    },
    {
     "name": "stdout",
     "output_type": "stream",
     "text": [
      "VendorID has 4 unique values\n"
     ]
    },
    {
     "name": "stderr",
     "output_type": "stream",
     "text": [
      "                                                                                \r"
     ]
    },
    {
     "name": "stdout",
     "output_type": "stream",
     "text": [
      "tpep_pickup_datetime has 23255707 unique values\n"
     ]
    },
    {
     "name": "stderr",
     "output_type": "stream",
     "text": [
      "                                                                                \r"
     ]
    },
    {
     "name": "stdout",
     "output_type": "stream",
     "text": [
      "tpep_dropoff_datetime has 23243720 unique values\n"
     ]
    },
    {
     "name": "stderr",
     "output_type": "stream",
     "text": [
      "                                                                                \r"
     ]
    },
    {
     "name": "stdout",
     "output_type": "stream",
     "text": [
      "passenger_count has 11 unique values\n"
     ]
    },
    {
     "name": "stderr",
     "output_type": "stream",
     "text": [
      "                                                                                \r"
     ]
    },
    {
     "name": "stdout",
     "output_type": "stream",
     "text": [
      "trip_distance has 8985 unique values\n"
     ]
    },
    {
     "name": "stderr",
     "output_type": "stream",
     "text": [
      "                                                                                \r"
     ]
    },
    {
     "name": "stdout",
     "output_type": "stream",
     "text": [
      "RatecodeID has 8 unique values\n"
     ]
    },
    {
     "name": "stderr",
     "output_type": "stream",
     "text": [
      "                                                                                \r"
     ]
    },
    {
     "name": "stdout",
     "output_type": "stream",
     "text": [
      "store_and_fwd_flag has 3 unique values\n"
     ]
    },
    {
     "name": "stderr",
     "output_type": "stream",
     "text": [
      "                                                                                \r"
     ]
    },
    {
     "name": "stdout",
     "output_type": "stream",
     "text": [
      "PULocationID has 262 unique values\n"
     ]
    },
    {
     "name": "stderr",
     "output_type": "stream",
     "text": [
      "                                                                                \r"
     ]
    },
    {
     "name": "stdout",
     "output_type": "stream",
     "text": [
      "DOLocationID has 262 unique values\n"
     ]
    },
    {
     "name": "stderr",
     "output_type": "stream",
     "text": [
      "                                                                                \r"
     ]
    },
    {
     "name": "stdout",
     "output_type": "stream",
     "text": [
      "payment_type has 6 unique values\n"
     ]
    },
    {
     "name": "stderr",
     "output_type": "stream",
     "text": [
      "                                                                                \r"
     ]
    },
    {
     "name": "stdout",
     "output_type": "stream",
     "text": [
      "fare_amount has 14604 unique values\n"
     ]
    },
    {
     "name": "stderr",
     "output_type": "stream",
     "text": [
      "                                                                                \r"
     ]
    },
    {
     "name": "stdout",
     "output_type": "stream",
     "text": [
      "extra has 234 unique values\n"
     ]
    },
    {
     "name": "stderr",
     "output_type": "stream",
     "text": [
      "                                                                                \r"
     ]
    },
    {
     "name": "stdout",
     "output_type": "stream",
     "text": [
      "mta_tax has 48 unique values\n"
     ]
    },
    {
     "name": "stderr",
     "output_type": "stream",
     "text": [
      "                                                                                \r"
     ]
    },
    {
     "name": "stdout",
     "output_type": "stream",
     "text": [
      "tip_amount has 7341 unique values\n"
     ]
    },
    {
     "name": "stderr",
     "output_type": "stream",
     "text": [
      "                                                                                \r"
     ]
    },
    {
     "name": "stdout",
     "output_type": "stream",
     "text": [
      "tolls_amount has 2491 unique values\n"
     ]
    },
    {
     "name": "stderr",
     "output_type": "stream",
     "text": [
      "                                                                                \r"
     ]
    },
    {
     "name": "stdout",
     "output_type": "stream",
     "text": [
      "improvement_surcharge has 5 unique values\n"
     ]
    },
    {
     "name": "stderr",
     "output_type": "stream",
     "text": [
      "                                                                                \r"
     ]
    },
    {
     "name": "stdout",
     "output_type": "stream",
     "text": [
      "total_amount has 28924 unique values\n"
     ]
    },
    {
     "name": "stderr",
     "output_type": "stream",
     "text": [
      "                                                                                \r"
     ]
    },
    {
     "name": "stdout",
     "output_type": "stream",
     "text": [
      "congestion_surcharge has 11 unique values\n"
     ]
    },
    {
     "name": "stderr",
     "output_type": "stream",
     "text": [
      "[Stage 661:=================================================>     (33 + 4) / 37]\r"
     ]
    },
    {
     "name": "stdout",
     "output_type": "stream",
     "text": [
      "airport_fee has 5 unique values\n"
     ]
    },
    {
     "name": "stderr",
     "output_type": "stream",
     "text": [
      "\r",
      "                                                                                \r"
     ]
    }
   ],
   "source": [
    "for column in df.columns:\n",
    "    unique_values = df.select(column).distinct().count()\n",
    "    print(f\"{column} has {unique_values} unique values\")"
   ]
  },
  {
   "cell_type": "code",
   "execution_count": null,
   "metadata": {},
   "outputs": [],
   "source": []
  },
  {
   "cell_type": "code",
   "execution_count": null,
   "metadata": {},
   "outputs": [],
   "source": []
  },
  {
   "cell_type": "markdown",
   "metadata": {},
   "source": [
    "# Dropping irrelevant and constant colums"
   ]
  },
  {
   "cell_type": "code",
   "execution_count": 182,
   "metadata": {},
   "outputs": [],
   "source": [
    "# Dropping columns in list of columns to drop \n",
    "columns_to_drop = [\"VendorID\",\"RatecodeID\",\"store_and_fwd_flag\",\"payment_type\",\"fare_amount\",\"extra\",\"mta_tax\",\"tip_amount\",\"tolls_amount\",\"improvement_surcharge\",\"total_amount\",\"congestion_surcharge\",\"airport_fee\"]\n",
    "df = df.drop(*columns_to_drop)\n",
    "\n",
    "\n"
   ]
  },
  {
   "cell_type": "code",
   "execution_count": 183,
   "metadata": {},
   "outputs": [
    {
     "data": {
      "text/plain": [
       "[('tpep_pickup_datetime', 'string'),\n",
       " ('tpep_dropoff_datetime', 'string'),\n",
       " ('passenger_count', 'double'),\n",
       " ('trip_distance', 'double'),\n",
       " ('PULocationID', 'int'),\n",
       " ('DOLocationID', 'int')]"
      ]
     },
     "execution_count": 183,
     "metadata": {},
     "output_type": "execute_result"
    }
   ],
   "source": [
    "# Checking data types \n",
    "df.dtypes"
   ]
  },
  {
   "cell_type": "markdown",
   "metadata": {},
   "source": [
    "# Checking shape of data set"
   ]
  },
  {
   "cell_type": "code",
   "execution_count": null,
   "metadata": {},
   "outputs": [],
   "source": []
  },
  {
   "cell_type": "code",
   "execution_count": 184,
   "metadata": {},
   "outputs": [
    {
     "name": "stderr",
     "output_type": "stream",
     "text": [
      "[Stage 667:=================================================>     (33 + 4) / 37]\r"
     ]
    },
    {
     "name": "stdout",
     "output_type": "stream",
     "text": [
      "There are 46576654 rows and 6 columns total  in this data set\n"
     ]
    },
    {
     "name": "stderr",
     "output_type": "stream",
     "text": [
      "\r",
      "                                                                                \r"
     ]
    }
   ],
   "source": [
    "rows = df.count()\n",
    "columns = len(df.columns)\n",
    "\n",
    "print(f\"There are {rows} rows and {columns} columns total  in this data set\")"
   ]
  },
  {
   "cell_type": "code",
   "execution_count": null,
   "metadata": {},
   "outputs": [],
   "source": []
  },
  {
   "cell_type": "markdown",
   "metadata": {},
   "source": [
    "# Filtering for Manhattan Locations"
   ]
  },
  {
   "cell_type": "markdown",
   "metadata": {},
   "source": [
    "## Unique Locations"
   ]
  },
  {
   "cell_type": "markdown",
   "metadata": {},
   "source": [
    "### Pickups"
   ]
  },
  {
   "cell_type": "code",
   "execution_count": 277,
   "metadata": {},
   "outputs": [
    {
     "name": "stderr",
     "output_type": "stream",
     "text": [
      "[Stage 858:=================================================>     (33 + 4) / 37]\r"
     ]
    },
    {
     "name": "stdout",
     "output_type": "stream",
     "text": [
      "PULocationID has 262 unique values.\n"
     ]
    },
    {
     "name": "stderr",
     "output_type": "stream",
     "text": [
      "\r",
      "                                                                                \r"
     ]
    }
   ],
   "source": [
    "# Selecting all the distinct values in the pickup location column\n",
    "pickup = \"PULocationID\"  \n",
    "num_unique_pickups = df.select(pickup).distinct().count()\n",
    "\n",
    "print(f\"{pickup} has {num_unique_pickups} unique values.\")"
   ]
  },
  {
   "cell_type": "markdown",
   "metadata": {},
   "source": [
    "### Drop offs"
   ]
  },
  {
   "cell_type": "code",
   "execution_count": 188,
   "metadata": {},
   "outputs": [
    {
     "name": "stderr",
     "output_type": "stream",
     "text": [
      "[Stage 679:==================================================>    (34 + 3) / 37]\r"
     ]
    },
    {
     "name": "stdout",
     "output_type": "stream",
     "text": [
      "DOLocationID has 262 unique values.\n"
     ]
    },
    {
     "name": "stderr",
     "output_type": "stream",
     "text": [
      "\r",
      "                                                                                \r"
     ]
    }
   ],
   "source": [
    "# Selecting all the distinct values in the pickup locationcolumn\n",
    "dropoff = \"DOLocationID\"\n",
    "num_unique_dropoffss = df.select(dropoff).distinct().count()\n",
    "\n",
    "\n",
    "print(f\"{dropoff} has {num_unique_dropoffss} unique values.\")"
   ]
  },
  {
   "cell_type": "markdown",
   "metadata": {},
   "source": [
    "- Pickup and Drop off columns do not exceed the number of unique values permitted "
   ]
  },
  {
   "cell_type": "code",
   "execution_count": null,
   "metadata": {},
   "outputs": [],
   "source": []
  },
  {
   "cell_type": "markdown",
   "metadata": {},
   "source": [
    "## Manhattan Zones"
   ]
  },
  {
   "cell_type": "code",
   "execution_count": 278,
   "metadata": {},
   "outputs": [],
   "source": [
    "# List of manhattan taxi zones \n",
    "manhattan = [4,24,12,13,41,45,42,43,48,50,68,79,74,75,87,88,90,125,100,103,107,113,114,116,120,127,128,151,140,137\n",
    "             ,141,142,152,143,144,148,153,158,161,162,163,164,170,166,186,194,202,209,211,224,229,230,231,239,232\n",
    "             ,233,234,236,237,238,243,244,246,249,261,262,263]"
   ]
  },
  {
   "cell_type": "code",
   "execution_count": 279,
   "metadata": {},
   "outputs": [
    {
     "name": "stdout",
     "output_type": "stream",
     "text": [
      "67\n"
     ]
    }
   ],
   "source": [
    "print(len(manhattan))"
   ]
  },
  {
   "cell_type": "markdown",
   "metadata": {},
   "source": [
    "### Checking how many pickups are in Manhattan"
   ]
  },
  {
   "cell_type": "code",
   "execution_count": 280,
   "metadata": {},
   "outputs": [],
   "source": [
    "manhattan_PUloc = df.filter(col(\"PULocationID\").isin(manhattan))"
   ]
  },
  {
   "cell_type": "code",
   "execution_count": 281,
   "metadata": {},
   "outputs": [
    {
     "name": "stderr",
     "output_type": "stream",
     "text": [
      "[Stage 864:=================================================>     (33 + 4) / 37]\r"
     ]
    },
    {
     "name": "stdout",
     "output_type": "stream",
     "text": [
      "There are 41388431 rows and 6 Manhattan pick up columns \n"
     ]
    },
    {
     "name": "stderr",
     "output_type": "stream",
     "text": [
      "\r",
      "                                                                                \r"
     ]
    }
   ],
   "source": [
    "manhattan_rows = manhattan_PUloc.count()\n",
    "manhattan_columns = len(df.columns)\n",
    "\n",
    "print(f\"There are {manhattan_rows} rows and {manhattan_columns} Manhattan pick up columns \")"
   ]
  },
  {
   "cell_type": "markdown",
   "metadata": {},
   "source": [
    "### Checking how many drop offs are in Manhattan"
   ]
  },
  {
   "cell_type": "code",
   "execution_count": 197,
   "metadata": {},
   "outputs": [],
   "source": [
    "manhattan_DOloc = df.filter(col(\"DOLocationID\").isin(manhattan))"
   ]
  },
  {
   "cell_type": "code",
   "execution_count": 198,
   "metadata": {},
   "outputs": [
    {
     "name": "stderr",
     "output_type": "stream",
     "text": [
      "[Stage 692:=================================================>     (33 + 4) / 37]\r"
     ]
    },
    {
     "name": "stdout",
     "output_type": "stream",
     "text": [
      "There are 41141402 rows and 6 Manhattan drop off columns\n"
     ]
    },
    {
     "name": "stderr",
     "output_type": "stream",
     "text": [
      "\r",
      "                                                                                \r"
     ]
    }
   ],
   "source": [
    "manhattan_DOrows = manhattan_DOloc.count()\n",
    "manhattan_DOcolumns = len(df.columns)\n",
    "\n",
    "print(f\"There are {manhattan_DOrows} rows and {manhattan_DOcolumns} Manhattan drop off columns\")"
   ]
  },
  {
   "cell_type": "markdown",
   "metadata": {},
   "source": [
    "- More pick ups in manhattan, therefore, pickups could be a better indicator of busyness since it means people are coming into Manhattan"
   ]
  },
  {
   "cell_type": "code",
   "execution_count": null,
   "metadata": {},
   "outputs": [],
   "source": []
  },
  {
   "cell_type": "markdown",
   "metadata": {},
   "source": [
    "### Filtering for rows with drop offs or pick ups in Manhattan"
   ]
  },
  {
   "cell_type": "code",
   "execution_count": null,
   "metadata": {},
   "outputs": [],
   "source": []
  },
  {
   "cell_type": "code",
   "execution_count": 282,
   "metadata": {},
   "outputs": [],
   "source": [
    "manhattan_df = df.filter((col(\"PULocationID\").isin(manhattan)) | (col(\"DOLocationID\").isin(manhattan)))"
   ]
  },
  {
   "cell_type": "code",
   "execution_count": null,
   "metadata": {},
   "outputs": [],
   "source": []
  },
  {
   "cell_type": "markdown",
   "metadata": {},
   "source": [
    "# Saving the rows with pickup or dropoffs in Manhattan to a new CSV file"
   ]
  },
  {
   "cell_type": "markdown",
   "metadata": {},
   "source": [
    "## Source for how to save dataframe as a CSV file \n",
    "- https://sparkbyexamples.com/pyspark/pyspark-write-dataframe-to-csv-file/#:~:text=In%20PySpark%20you%20can%20save,any%20PySpark%20supported%20file%20systems."
   ]
  },
  {
   "cell_type": "code",
   "execution_count": 283,
   "metadata": {},
   "outputs": [
    {
     "name": "stderr",
     "output_type": "stream",
     "text": [
      "                                                                                \r"
     ]
    }
   ],
   "source": [
    "manhattan_df.write.option(\"header\", \"true\").mode(\"overwrite\").csv(\"./manhattan_yellowtaxis.csv\")"
   ]
  },
  {
   "cell_type": "code",
   "execution_count": null,
   "metadata": {},
   "outputs": [],
   "source": []
  },
  {
   "cell_type": "markdown",
   "metadata": {},
   "source": [
    "## New Spark session with filtered csv"
   ]
  },
  {
   "cell_type": "code",
   "execution_count": 285,
   "metadata": {},
   "outputs": [],
   "source": [
    "manhattan_spark = SparkSession.builder.getOrCreate()"
   ]
  },
  {
   "cell_type": "code",
   "execution_count": 286,
   "metadata": {},
   "outputs": [
    {
     "name": "stderr",
     "output_type": "stream",
     "text": [
      "                                                                                \r"
     ]
    }
   ],
   "source": [
    "# Load the CSV file\n",
    "manhattan_df = manhattan_spark.read.csv(\"./manhattan_yellowtaxis.csv\", header=True, inferSchema=True)\n"
   ]
  },
  {
   "cell_type": "code",
   "execution_count": 287,
   "metadata": {},
   "outputs": [],
   "source": [
    "manhattan_spark.conf.set(\"spark.sql.repl.eagerEval.maxNumRows\", \"1000\")"
   ]
  },
  {
   "cell_type": "code",
   "execution_count": 288,
   "metadata": {},
   "outputs": [
    {
     "name": "stdout",
     "output_type": "stream",
     "text": [
      "+--------------------+---------------------+---------------+-------------+------------+------------+\n",
      "|tpep_pickup_datetime|tpep_dropoff_datetime|passenger_count|trip_distance|PULocationID|DOLocationID|\n",
      "+--------------------+---------------------+---------------+-------------+------------+------------+\n",
      "|2022-02-01 00:06:48 |2022-02-01 00:33:07  |1.0            |12.16        |138         |125         |\n",
      "|2022-02-01 00:57:23 |2022-02-01 01:07:31  |2.0            |2.3          |140         |142         |\n",
      "|2022-02-01 00:34:17 |2022-02-01 01:01:32  |1.0            |7.5          |140         |36          |\n",
      "|2022-02-01 00:03:26 |2022-02-01 00:07:30  |1.0            |0.88         |48          |68          |\n",
      "|2022-02-01 00:13:31 |2022-02-01 00:31:41  |1.0            |6.48         |142         |244         |\n",
      "|2022-02-01 00:52:11 |2022-02-01 01:02:48  |1.0            |3.29         |238         |116         |\n",
      "|2022-02-01 00:57:53 |2022-02-01 01:01:15  |0.0            |0.7          |143         |163         |\n",
      "|2022-02-01 00:35:38 |2022-02-01 01:04:36  |1.0            |6.53         |234         |225         |\n",
      "|2022-02-01 00:06:34 |2022-02-01 00:12:21  |1.0            |1.42         |233         |164         |\n",
      "|2022-02-01 00:14:54 |2022-02-01 00:30:20  |1.0            |4.14         |186         |262         |\n",
      "|2022-02-01 00:26:17 |2022-02-01 00:42:34  |1.0            |7.66         |138         |170         |\n",
      "|2022-02-01 00:55:21 |2022-02-01 01:03:50  |5.0            |1.74         |79          |164         |\n",
      "|2022-02-01 00:40:57 |2022-02-01 00:47:01  |1.0            |2.6          |233         |263         |\n",
      "|2022-02-01 00:29:35 |2022-02-01 00:53:43  |1.0            |17.0         |132         |164         |\n",
      "|2022-02-01 00:35:44 |2022-02-01 01:04:35  |2.0            |16.2         |132         |162         |\n",
      "|2022-02-01 00:08:12 |2022-02-01 00:35:58  |1.0            |7.36         |249         |256         |\n",
      "|2022-02-01 00:50:53 |2022-02-01 01:06:55  |1.0            |3.23         |107         |48          |\n",
      "|2022-02-01 00:02:56 |2022-02-01 00:12:52  |1.0            |1.45         |164         |264         |\n",
      "|2022-02-01 00:33:58 |2022-02-01 00:40:56  |1.0            |2.06         |142         |151         |\n",
      "|2022-02-01 00:47:11 |2022-02-01 00:55:43  |1.0            |1.86         |151         |116         |\n",
      "+--------------------+---------------------+---------------+-------------+------------+------------+\n",
      "only showing top 20 rows\n",
      "\n"
     ]
    }
   ],
   "source": [
    "manhattan_df.show(n=20, truncate=False)"
   ]
  },
  {
   "cell_type": "code",
   "execution_count": 289,
   "metadata": {},
   "outputs": [
    {
     "data": {
      "text/plain": [
       "[('tpep_pickup_datetime', 'string'),\n",
       " ('tpep_dropoff_datetime', 'string'),\n",
       " ('passenger_count', 'double'),\n",
       " ('trip_distance', 'double'),\n",
       " ('PULocationID', 'int'),\n",
       " ('DOLocationID', 'int')]"
      ]
     },
     "execution_count": 289,
     "metadata": {},
     "output_type": "execute_result"
    }
   ],
   "source": [
    "filtered_df.dtypes"
   ]
  },
  {
   "cell_type": "markdown",
   "metadata": {},
   "source": [
    "# Checking Unique Locations"
   ]
  },
  {
   "cell_type": "markdown",
   "metadata": {},
   "source": [
    "## Pickups "
   ]
  },
  {
   "cell_type": "code",
   "execution_count": 290,
   "metadata": {},
   "outputs": [
    {
     "name": "stderr",
     "output_type": "stream",
     "text": [
      "[Stage 872:=====================================================> (35 + 1) / 36]\r"
     ]
    },
    {
     "name": "stdout",
     "output_type": "stream",
     "text": [
      "PULocationID has 262 unique values.\n"
     ]
    },
    {
     "name": "stderr",
     "output_type": "stream",
     "text": [
      "\r",
      "                                                                                \r"
     ]
    }
   ],
   "source": [
    "pickup = \"PULocationID\"  \n",
    "num_unique_values = manhattan_df.select(pickup).distinct().count()\n",
    "\n",
    "print(f\"{pickup} has {num_unique_values} unique values.\")"
   ]
  },
  {
   "cell_type": "markdown",
   "metadata": {},
   "source": [
    "## Drop offs"
   ]
  },
  {
   "cell_type": "code",
   "execution_count": 291,
   "metadata": {},
   "outputs": [
    {
     "name": "stderr",
     "output_type": "stream",
     "text": [
      "[Stage 878:=====================================================> (35 + 1) / 36]\r"
     ]
    },
    {
     "name": "stdout",
     "output_type": "stream",
     "text": [
      "DOLocationID has 261 unique values.\n"
     ]
    },
    {
     "name": "stderr",
     "output_type": "stream",
     "text": [
      "\r",
      "                                                                                \r"
     ]
    }
   ],
   "source": [
    "dropoff = \"DOLocationID\"\n",
    "num_unique_values = manhattan_df.select(dropoff).distinct().count()\n",
    "\n",
    "\n",
    "print(f\"{dropoff} has {num_unique_values} unique values.\")"
   ]
  },
  {
   "cell_type": "markdown",
   "metadata": {},
   "source": [
    "## Checking the shape of new data frame"
   ]
  },
  {
   "cell_type": "code",
   "execution_count": 292,
   "metadata": {},
   "outputs": [
    {
     "name": "stderr",
     "output_type": "stream",
     "text": [
      "[Stage 884:==================================================>    (33 + 3) / 36]\r"
     ]
    },
    {
     "name": "stdout",
     "output_type": "stream",
     "text": [
      "There are 44132589 rows and 6 columns total  in this data set\n"
     ]
    },
    {
     "name": "stderr",
     "output_type": "stream",
     "text": [
      "\r",
      "[Stage 884:=====================================================> (35 + 1) / 36]\r",
      "\r",
      "                                                                                \r"
     ]
    }
   ],
   "source": [
    "total_rows = manhattan_df.count()\n",
    "total_columns = len(manhattan_df.columns)\n",
    "\n",
    "print(f\"There are {total_rows} rows and {total_columns} columns total  in this data set\")"
   ]
  },
  {
   "cell_type": "markdown",
   "metadata": {},
   "source": [
    "### The filter was successful"
   ]
  },
  {
   "cell_type": "code",
   "execution_count": null,
   "metadata": {},
   "outputs": [],
   "source": []
  },
  {
   "cell_type": "code",
   "execution_count": null,
   "metadata": {},
   "outputs": [],
   "source": []
  },
  {
   "cell_type": "markdown",
   "metadata": {},
   "source": [
    "## Number of null values in each column"
   ]
  },
  {
   "cell_type": "code",
   "execution_count": 293,
   "metadata": {},
   "outputs": [
    {
     "name": "stderr",
     "output_type": "stream",
     "text": [
      "                                                                                \r"
     ]
    },
    {
     "name": "stdout",
     "output_type": "stream",
     "text": [
      "tpep_pickup_datetime has 0 null values\n"
     ]
    },
    {
     "name": "stderr",
     "output_type": "stream",
     "text": [
      "                                                                                \r"
     ]
    },
    {
     "name": "stdout",
     "output_type": "stream",
     "text": [
      "tpep_dropoff_datetime has 0 null values\n"
     ]
    },
    {
     "name": "stderr",
     "output_type": "stream",
     "text": [
      "                                                                                \r"
     ]
    },
    {
     "name": "stdout",
     "output_type": "stream",
     "text": [
      "passenger_count has 1443046 null values\n"
     ]
    },
    {
     "name": "stderr",
     "output_type": "stream",
     "text": [
      "                                                                                \r"
     ]
    },
    {
     "name": "stdout",
     "output_type": "stream",
     "text": [
      "trip_distance has 0 null values\n"
     ]
    },
    {
     "name": "stderr",
     "output_type": "stream",
     "text": [
      "                                                                                \r"
     ]
    },
    {
     "name": "stdout",
     "output_type": "stream",
     "text": [
      "PULocationID has 0 null values\n"
     ]
    },
    {
     "name": "stderr",
     "output_type": "stream",
     "text": [
      "[Stage 902:=====================================================> (35 + 1) / 36]\r"
     ]
    },
    {
     "name": "stdout",
     "output_type": "stream",
     "text": [
      "DOLocationID has 0 null values\n"
     ]
    },
    {
     "name": "stderr",
     "output_type": "stream",
     "text": [
      "\r",
      "                                                                                \r"
     ]
    }
   ],
   "source": [
    "for column in manhattan_df.columns:\n",
    "    null_count = manhattan_df.filter(col(column).isNull()).count()\n",
    "    print(f\"{column} has {null_count} null values\")"
   ]
  },
  {
   "cell_type": "markdown",
   "metadata": {},
   "source": [
    "## Number of NaN values in each column"
   ]
  },
  {
   "cell_type": "code",
   "execution_count": 294,
   "metadata": {},
   "outputs": [
    {
     "name": "stderr",
     "output_type": "stream",
     "text": [
      "                                                                                \r"
     ]
    },
    {
     "name": "stdout",
     "output_type": "stream",
     "text": [
      "tpep_pickup_datetime has 0 NaN values\n"
     ]
    },
    {
     "name": "stderr",
     "output_type": "stream",
     "text": [
      "                                                                                \r"
     ]
    },
    {
     "name": "stdout",
     "output_type": "stream",
     "text": [
      "tpep_dropoff_datetime has 0 NaN values\n"
     ]
    },
    {
     "name": "stderr",
     "output_type": "stream",
     "text": [
      "                                                                                \r"
     ]
    },
    {
     "name": "stdout",
     "output_type": "stream",
     "text": [
      "passenger_count has 0 NaN values\n"
     ]
    },
    {
     "name": "stderr",
     "output_type": "stream",
     "text": [
      "                                                                                \r"
     ]
    },
    {
     "name": "stdout",
     "output_type": "stream",
     "text": [
      "trip_distance has 0 NaN values\n"
     ]
    },
    {
     "name": "stderr",
     "output_type": "stream",
     "text": [
      "                                                                                \r"
     ]
    },
    {
     "name": "stdout",
     "output_type": "stream",
     "text": [
      "PULocationID has 0 NaN values\n"
     ]
    },
    {
     "name": "stderr",
     "output_type": "stream",
     "text": [
      "[Stage 920:=====================================================> (35 + 1) / 36]\r"
     ]
    },
    {
     "name": "stdout",
     "output_type": "stream",
     "text": [
      "DOLocationID has 0 NaN values\n"
     ]
    },
    {
     "name": "stderr",
     "output_type": "stream",
     "text": [
      "\r",
      "                                                                                \r"
     ]
    }
   ],
   "source": [
    "for column in manhattan_df.columns:\n",
    "    nan_count = manhattan_df.filter(isnan(col(column))).count()\n",
    "   \n",
    "    print(f\"{column} has {nan_count} NaN values\")"
   ]
  },
  {
   "cell_type": "markdown",
   "metadata": {},
   "source": [
    "# Analysis of passenger_count column"
   ]
  },
  {
   "cell_type": "markdown",
   "metadata": {},
   "source": [
    "## Percentage of null rows"
   ]
  },
  {
   "cell_type": "code",
   "execution_count": 295,
   "metadata": {},
   "outputs": [
    {
     "name": "stderr",
     "output_type": "stream",
     "text": [
      "[Stage 926:================================================>      (32 + 4) / 36]\r"
     ]
    },
    {
     "name": "stdout",
     "output_type": "stream",
     "text": [
      "The percentage of null rows in the passenger_count column is 3.2697968387941168%\n"
     ]
    },
    {
     "name": "stderr",
     "output_type": "stream",
     "text": [
      "\r",
      "                                                                                \r"
     ]
    }
   ],
   "source": [
    "null_count = manhattan_df.filter(col(\"passenger_count\").isNull()).count()\n",
    "total_rows = manhattan_df.count()\n",
    "\n",
    "null_percentage = (null_count / total_rows) * 100\n",
    "print(f\"The percentage of null rows in the passenger_count column is {null_percentage}%\")"
   ]
  },
  {
   "cell_type": "markdown",
   "metadata": {},
   "source": [
    "- Only passenger_count has null values. No rows have NaN values"
   ]
  },
  {
   "cell_type": "markdown",
   "metadata": {},
   "source": [
    "## Checking for irregular values in passenger_count"
   ]
  },
  {
   "cell_type": "code",
   "execution_count": null,
   "metadata": {},
   "outputs": [],
   "source": []
  },
  {
   "cell_type": "code",
   "execution_count": 299,
   "metadata": {},
   "outputs": [],
   "source": [
    "irregular_passengers = [9.0, 8.0, 7.0, 0.0]\n"
   ]
  },
  {
   "cell_type": "code",
   "execution_count": 300,
   "metadata": {},
   "outputs": [
    {
     "name": "stderr",
     "output_type": "stream",
     "text": [
      "[Stage 938:=====================================================> (35 + 1) / 36]\r"
     ]
    },
    {
     "name": "stdout",
     "output_type": "stream",
     "text": [
      "+---------------+------+\n",
      "|passenger_count| count|\n",
      "+---------------+------+\n",
      "|            8.0|    73|\n",
      "|            0.0|824011|\n",
      "|            7.0|   109|\n",
      "|            9.0|    22|\n",
      "+---------------+------+\n",
      "\n"
     ]
    },
    {
     "name": "stderr",
     "output_type": "stream",
     "text": [
      "\r",
      "                                                                                \r"
     ]
    }
   ],
   "source": [
    "passenger_count = manhattan_df.groupBy(\"passenger_count\").count()\n",
    "\n",
    "specific_value_counts = passenger_count.filter(col(\"passenger_count\").isin(irregular_passengers))\n",
    "\n",
    "specific_value_counts.show()"
   ]
  },
  {
   "cell_type": "markdown",
   "metadata": {},
   "source": [
    "## Percentage with irregular values "
   ]
  },
  {
   "cell_type": "code",
   "execution_count": 301,
   "metadata": {},
   "outputs": [
    {
     "name": "stderr",
     "output_type": "stream",
     "text": [
      "[Stage 944:=====================================================> (35 + 1) / 36]\r"
     ]
    },
    {
     "name": "stdout",
     "output_type": "stream",
     "text": [
      "The percentage of rows with irregular values in the passenger_count column is 1.8675881444435538%\n"
     ]
    },
    {
     "name": "stderr",
     "output_type": "stream",
     "text": [
      "\r",
      "                                                                                \r"
     ]
    }
   ],
   "source": [
    "total_irregular = manhattan_df.filter(col(\"passenger_count\").isin(irregular_passengers)).count()\n",
    "\n",
    "total_rows = manhattan_df.count()\n",
    "\n",
    "irregular_percentage = (total_irregular / total_rows) * 100\n",
    "\n",
    "print(f\"The percentage of rows with irregular values in the passenger_count column is {irregular_percentage}%\")\n"
   ]
  },
  {
   "cell_type": "code",
   "execution_count": null,
   "metadata": {},
   "outputs": [],
   "source": []
  },
  {
   "cell_type": "code",
   "execution_count": null,
   "metadata": {},
   "outputs": [],
   "source": []
  },
  {
   "cell_type": "markdown",
   "metadata": {},
   "source": [
    "## Checking for passenger _count outliers using plots"
   ]
  },
  {
   "cell_type": "code",
   "execution_count": null,
   "metadata": {},
   "outputs": [],
   "source": []
  },
  {
   "cell_type": "code",
   "execution_count": 302,
   "metadata": {},
   "outputs": [
    {
     "data": {
      "image/png": "[encoded data removed]",
      "text/plain": [
       "<Figure size 640x480 with 1 Axes>"
      ]
     },
     "metadata": {},
     "output_type": "display_data"
    }
   ],
   "source": [
    "## Converting to a pandas data frame using the first 500,000 rows \n",
    "passenger_pandas = manhattan_df.select(\"passenger_count\").limit(500000).toPandas()[\"passenger_count\"]\n",
    "\n",
    "# box plot\n",
    "plt.boxplot(passenger_pandas)\n",
    "\n",
    "plt.title(\"passenger_count\")\n",
    "plt.ylabel(\"Number of passengers\")\n",
    "plt.xlabel(\"Frequency\")\n",
    "\n",
    "plt.show()"
   ]
  },
  {
   "cell_type": "code",
   "execution_count": 303,
   "metadata": {},
   "outputs": [
    {
     "data": {
      "image/png": "[encoded data removed]",
      "text/plain": [
       "<Figure size 640x480 with 1 Axes>"
      ]
     },
     "metadata": {},
     "output_type": "display_data"
    }
   ],
   "source": [
    "# Histogram\n",
    "plt.hist(passenger_pandas)\n",
    "\n",
    "\n",
    "plt.title(\"passenger_count\")\n",
    "plt.ylabel(\"frequency\")\n",
    "\n",
    "plt.show()"
   ]
  },
  {
   "cell_type": "code",
   "execution_count": null,
   "metadata": {},
   "outputs": [],
   "source": []
  },
  {
   "cell_type": "code",
   "execution_count": null,
   "metadata": {},
   "outputs": [],
   "source": []
  },
  {
   "cell_type": "code",
   "execution_count": null,
   "metadata": {},
   "outputs": [],
   "source": []
  },
  {
   "cell_type": "markdown",
   "metadata": {},
   "source": [
    "# Analysing Trip distance column"
   ]
  },
  {
   "cell_type": "code",
   "execution_count": null,
   "metadata": {},
   "outputs": [],
   "source": []
  },
  {
   "cell_type": "code",
   "execution_count": 305,
   "metadata": {},
   "outputs": [
    {
     "name": "stderr",
     "output_type": "stream",
     "text": [
      "[Stage 951:=====================================================> (35 + 1) / 36]\r"
     ]
    },
    {
     "name": "stdout",
     "output_type": "stream",
     "text": [
      "+-----------------+-----------------+------------------+\n",
      "|Min_trip_distance|Max_trip_distance|Mean_trip_distance|\n",
      "+-----------------+-----------------+------------------+\n",
      "|              0.0|        389678.46| 5.273092328437697|\n",
      "+-----------------+-----------------+------------------+\n",
      "\n"
     ]
    },
    {
     "name": "stderr",
     "output_type": "stream",
     "text": [
      "\r",
      "                                                                                \r"
     ]
    }
   ],
   "source": [
    "# Checking min, max and mean values\n",
    "\n",
    "distance_calculations = manhattan_df.agg(\n",
    "    min(\"trip_distance\").alias(f\"Min_trip_distance\"),\n",
    "    max(\"trip_distance\").alias(f\"Max_trip_distance\"),\n",
    "    mean(\"trip_distance\").alias(f\"Mean_trip_distance\")\n",
    ")\n",
    "\n",
    "distance_calculations.show()\n"
   ]
  },
  {
   "cell_type": "markdown",
   "metadata": {},
   "source": [
    "# Number of rows with min and max distance"
   ]
  },
  {
   "cell_type": "code",
   "execution_count": null,
   "metadata": {},
   "outputs": [],
   "source": []
  },
  {
   "cell_type": "code",
   "execution_count": 306,
   "metadata": {},
   "outputs": [],
   "source": [
    "min_max_distance = [0.0,389678.46]"
   ]
  },
  {
   "cell_type": "code",
   "execution_count": 307,
   "metadata": {},
   "outputs": [
    {
     "name": "stderr",
     "output_type": "stream",
     "text": [
      "[Stage 954:=====================================================> (35 + 1) / 36]\r"
     ]
    },
    {
     "name": "stdout",
     "output_type": "stream",
     "text": [
      "+-------------+------+\n",
      "|trip_distance| count|\n",
      "+-------------+------+\n",
      "|          0.0|428295|\n",
      "|    389678.46|     1|\n",
      "+-------------+------+\n",
      "\n"
     ]
    },
    {
     "name": "stderr",
     "output_type": "stream",
     "text": [
      "\r",
      "                                                                                \r"
     ]
    }
   ],
   "source": [
    "value_counts = manhattan_df.groupBy(\"trip_distance\").count()\n",
    "\n",
    "specific_value_counts = value_counts.filter(col(\"trip_distance\").isin(min_max_distance))\n",
    "\n",
    "specific_value_counts.show()"
   ]
  },
  {
   "cell_type": "code",
   "execution_count": 309,
   "metadata": {},
   "outputs": [
    {
     "data": {
      "image/png": "[encoded data removed]",
      "text/plain": [
       "<Figure size 640x480 with 1 Axes>"
      ]
     },
     "metadata": {},
     "output_type": "display_data"
    }
   ],
   "source": [
    "# Converting to a pandas datafram using the first 500,000 values \n",
    "distance_pandas = manhattan_df.select(\"trip_distance\").limit(500000).toPandas()[\"trip_distance\"]\n",
    "\n",
    "# box plot\n",
    "plt.boxplot(distance_pandas)\n",
    "\n",
    "plt.title(\"trip_distance\")\n",
    "plt.ylabel(\"Distance\")\n",
    "plt.xlabel(\"Frequency\")\n",
    "plt.show()"
   ]
  },
  {
   "cell_type": "code",
   "execution_count": 310,
   "metadata": {},
   "outputs": [
    {
     "data": {
      "image/png": "[encoded data removed]",
      "text/plain": [
       "<Figure size 640x480 with 1 Axes>"
      ]
     },
     "metadata": {},
     "output_type": "display_data"
    }
   ],
   "source": [
    "# plotting histogram\n",
    "plt.hist(distance_pandas)\n",
    "\n",
    "\n",
    "plt.title(\"trip_distance\")\n",
    "plt.ylabel(\"frequency\")\n",
    "plt.xlabel(\"distance\")\n",
    "\n",
    "plt.show()"
   ]
  },
  {
   "cell_type": "markdown",
   "metadata": {},
   "source": [
    "- Based on the plots, most of the trip distance is within 30 miles "
   ]
  },
  {
   "cell_type": "markdown",
   "metadata": {},
   "source": [
    "## Number of trips with distances over 30 miles"
   ]
  },
  {
   "cell_type": "code",
   "execution_count": null,
   "metadata": {},
   "outputs": [],
   "source": []
  },
  {
   "cell_type": "code",
   "execution_count": 312,
   "metadata": {},
   "outputs": [
    {
     "name": "stderr",
     "output_type": "stream",
     "text": [
      "[Stage 962:=====================================================> (35 + 1) / 36]\r"
     ]
    },
    {
     "name": "stdout",
     "output_type": "stream",
     "text": [
      "The number of rows with trip_distance over 30 miles  is: 9090\n"
     ]
    },
    {
     "name": "stderr",
     "output_type": "stream",
     "text": [
      "\r",
      "                                                                                \r"
     ]
    }
   ],
   "source": [
    "# calculating the number of trips over 30 miles\n",
    "trip_distance = \"trip_distance\" \n",
    "long_distance = manhattan_df.filter(col(trip_distance) > 30)\n",
    "\n",
    "long_distance_count = long_distance.count()\n",
    "\n",
    "print(f\"The number of rows with {trip_distance} over 30 miles  is: {long_distance_count}\")\n"
   ]
  },
  {
   "cell_type": "markdown",
   "metadata": {},
   "source": [
    "## Percentage of trips over 30 miles "
   ]
  },
  {
   "cell_type": "code",
   "execution_count": 313,
   "metadata": {},
   "outputs": [
    {
     "name": "stdout",
     "output_type": "stream",
     "text": [
      "The percentage of trips over 30 miles is 0.020597024117483795%\n"
     ]
    }
   ],
   "source": [
    "long_distance_percentage = (long_distance_count/total_rows) * 100\n",
    "print(f\"The percentage of trips over 30 miles is {long_distance_percentage}%\")"
   ]
  },
  {
   "cell_type": "code",
   "execution_count": null,
   "metadata": {},
   "outputs": [],
   "source": []
  },
  {
   "cell_type": "markdown",
   "metadata": {},
   "source": [
    "# Analysing Pickup and Drop off times "
   ]
  },
  {
   "cell_type": "markdown",
   "metadata": {},
   "source": [
    "## Converting pickup and drop offs to timestamp\n",
    "- completed using source below\n",
    "- https://sparkbyexamples.com/spark/pyspark-to_timestamp-convert-string-to-timestamp-type/"
   ]
  },
  {
   "cell_type": "markdown",
   "metadata": {},
   "source": [
    "- This column is in yyyy-MM-dd HH:mm:ss format "
   ]
  },
  {
   "cell_type": "code",
   "execution_count": null,
   "metadata": {},
   "outputs": [],
   "source": []
  },
  {
   "cell_type": "code",
   "execution_count": 314,
   "metadata": {},
   "outputs": [],
   "source": [
    "manhattan_df = manhattan_df.withColumn(\"tpep_pickup_datetime\",to_timestamp(\"tpep_pickup_datetime\",\"yyyy-MM-dd HH:mm:ss\"))\n",
    "manhattan_df = manhattan_df.withColumn(\"tpep_dropoff_datetime\",to_timestamp(\"tpep_dropoff_datetime\",\"yyyy-MM-dd HH:mm:ss\"))\n",
    "\n",
    "\n",
    "\n"
   ]
  },
  {
   "cell_type": "code",
   "execution_count": 315,
   "metadata": {},
   "outputs": [
    {
     "data": {
      "text/plain": [
       "[('tpep_pickup_datetime', 'timestamp'),\n",
       " ('tpep_dropoff_datetime', 'timestamp'),\n",
       " ('passenger_count', 'double'),\n",
       " ('trip_distance', 'double'),\n",
       " ('PULocationID', 'int'),\n",
       " ('DOLocationID', 'int')]"
      ]
     },
     "execution_count": 315,
     "metadata": {},
     "output_type": "execute_result"
    }
   ],
   "source": [
    "manhattan_df.dtypes"
   ]
  },
  {
   "cell_type": "code",
   "execution_count": null,
   "metadata": {},
   "outputs": [],
   "source": []
  },
  {
   "cell_type": "markdown",
   "metadata": {},
   "source": [
    "## Pickup min and max timestamps"
   ]
  },
  {
   "cell_type": "code",
   "execution_count": null,
   "metadata": {},
   "outputs": [],
   "source": []
  },
  {
   "cell_type": "code",
   "execution_count": 316,
   "metadata": {},
   "outputs": [
    {
     "name": "stderr",
     "output_type": "stream",
     "text": [
      "[Stage 965:=====================================================> (35 + 1) / 36]\r"
     ]
    },
    {
     "name": "stdout",
     "output_type": "stream",
     "text": [
      "+------------------------+------------------------+\n",
      "|Min_tpep_pickup_datetime|Max_tpep_pickup_datetime|\n",
      "+------------------------+------------------------+\n",
      "|     2001-01-01 00:03:14|     2023-04-18 14:30:05|\n",
      "+------------------------+------------------------+\n",
      "\n"
     ]
    },
    {
     "name": "stderr",
     "output_type": "stream",
     "text": [
      "\r",
      "                                                                                \r"
     ]
    }
   ],
   "source": [
    "pickup_time = \"tpep_pickup_datetime\"\n",
    "\n",
    "\n",
    "pickup_min_max = manhattan_df.agg(\n",
    "    min(pickup_time).alias(f\"Min_{pickup_time}\"),\n",
    "    max(pickup_time).alias(f\"Max_{pickup_time}\")\n",
    ")\n",
    "\n",
    "\n",
    "pickup_min_max.show()"
   ]
  },
  {
   "cell_type": "markdown",
   "metadata": {},
   "source": [
    "## Drop off min and max timestamps"
   ]
  },
  {
   "cell_type": "code",
   "execution_count": null,
   "metadata": {},
   "outputs": [],
   "source": []
  },
  {
   "cell_type": "code",
   "execution_count": 317,
   "metadata": {},
   "outputs": [
    {
     "name": "stderr",
     "output_type": "stream",
     "text": [
      "[Stage 968:=====================================================> (35 + 1) / 36]\r"
     ]
    },
    {
     "name": "stdout",
     "output_type": "stream",
     "text": [
      "+------------------------+------------------------+\n",
      "|Min_tpep_pickup_datetime|Max_tpep_pickup_datetime|\n",
      "+------------------------+------------------------+\n",
      "|     2001-01-01 00:03:14|     2023-04-18 14:30:05|\n",
      "+------------------------+------------------------+\n",
      "\n"
     ]
    },
    {
     "name": "stderr",
     "output_type": "stream",
     "text": [
      "\r",
      "                                                                                \r"
     ]
    }
   ],
   "source": [
    "dropoff_time = \"tpep_dropoff_datetime\"\n",
    "\n",
    "\n",
    "dropoff_min_max = manhattan_df.agg(\n",
    "    min(dropoff_time).alias(f\"Min_{dropoff_time}\"),\n",
    "    max(dropoff_time).alias(f\"Max_{dropoff_time}\")\n",
    ")\n",
    "\n",
    "\n",
    "pickup_min_max.show()"
   ]
  },
  {
   "cell_type": "code",
   "execution_count": null,
   "metadata": {},
   "outputs": [],
   "source": []
  },
  {
   "cell_type": "markdown",
   "metadata": {},
   "source": [
    "## Checking how many rows that have permitted date time values"
   ]
  },
  {
   "cell_type": "code",
   "execution_count": null,
   "metadata": {},
   "outputs": [],
   "source": []
  },
  {
   "cell_type": "code",
   "execution_count": 318,
   "metadata": {},
   "outputs": [],
   "source": [
    "# Correct date time range \n",
    "start_datetime = \"2022-01-01 00:00:00\"\n",
    "end_datetime = \"2023-03-10 23:59:59\""
   ]
  },
  {
   "cell_type": "code",
   "execution_count": 319,
   "metadata": {},
   "outputs": [
    {
     "name": "stderr",
     "output_type": "stream",
     "text": [
      "[Stage 971:=====================================================> (35 + 1) / 36]\r"
     ]
    },
    {
     "name": "stdout",
     "output_type": "stream",
     "text": [
      "There are 41985075 rows within permitted date range this data set \n"
     ]
    },
    {
     "name": "stderr",
     "output_type": "stream",
     "text": [
      "\r",
      "                                                                                \r"
     ]
    }
   ],
   "source": [
    "jan_mar23 = manhattan_df.filter(\n",
    "    (col(\"tpep_pickup_datetime\") >= start_datetime) & (col(\"tpep_pickup_datetime\") <= end_datetime) &\n",
    "    (col(\"tpep_dropoff_datetime\") >= start_datetime) & (col(\"tpep_dropoff_datetime\") <= end_datetime)\n",
    ")\n",
    "\n",
    "permitted_rows = jan_mar23.count()\n",
    "\n",
    "print(f\"There are {permitted_rows} rows within permitted date range this data set \")\n"
   ]
  },
  {
   "cell_type": "markdown",
   "metadata": {},
   "source": [
    "## Checking how many rows are not within permitted range "
   ]
  },
  {
   "cell_type": "code",
   "execution_count": null,
   "metadata": {},
   "outputs": [],
   "source": []
  },
  {
   "cell_type": "code",
   "execution_count": 320,
   "metadata": {},
   "outputs": [
    {
     "name": "stderr",
     "output_type": "stream",
     "text": [
      "[Stage 974:=====================================================> (35 + 1) / 36]\r"
     ]
    },
    {
     "name": "stdout",
     "output_type": "stream",
     "text": [
      "There are 2147514 rows with the inccorrect date in this data set \n"
     ]
    },
    {
     "name": "stderr",
     "output_type": "stream",
     "text": [
      "\r",
      "                                                                                \r"
     ]
    }
   ],
   "source": [
    "incorrect_date = manhattan_df.filter(\n",
    "    ~(\n",
    "        (col(\"tpep_pickup_datetime\") >= start_datetime) & (col(\"tpep_pickup_datetime\") <= end_datetime) &\n",
    "        (col(\"tpep_dropoff_datetime\") >= start_datetime) & (col(\"tpep_dropoff_datetime\") <= end_datetime)\n",
    "    )\n",
    ")\n",
    "\n",
    "incorrect_rows = incorrect_date.count()\n",
    "\n",
    "print(f\"There are {incorrect_rows} rows with the inccorrect date in this data set \")\n"
   ]
  },
  {
   "cell_type": "code",
   "execution_count": null,
   "metadata": {},
   "outputs": [],
   "source": []
  },
  {
   "cell_type": "markdown",
   "metadata": {},
   "source": [
    "## Percentage of rows with incorrect date time values"
   ]
  },
  {
   "cell_type": "code",
   "execution_count": null,
   "metadata": {},
   "outputs": [],
   "source": []
  },
  {
   "cell_type": "code",
   "execution_count": 321,
   "metadata": {},
   "outputs": [
    {
     "name": "stdout",
     "output_type": "stream",
     "text": [
      "The percentage of rows with incorrect pickup and drop off times is 4.8660503466044105%\n"
     ]
    }
   ],
   "source": [
    "incorrect_date_percentage = (incorrect_rows/total_rows) * 100\n",
    "print(f\"The percentage of rows with incorrect pickup and drop off times is {incorrect_date_percentage}%\")"
   ]
  },
  {
   "cell_type": "code",
   "execution_count": null,
   "metadata": {},
   "outputs": [],
   "source": []
  },
  {
   "cell_type": "code",
   "execution_count": null,
   "metadata": {},
   "outputs": [],
   "source": []
  },
  {
   "cell_type": "markdown",
   "metadata": {},
   "source": [
    "# Addressing rows with Data Quality Issues"
   ]
  },
  {
   "cell_type": "markdown",
   "metadata": {},
   "source": [
    "## Drop off and pickup times "
   ]
  },
  {
   "cell_type": "markdown",
   "metadata": {},
   "source": [
    "- These rows will be removed. They cannot be replaced the mean because it can't be calculated due to the data type. Replacing with the mode or median may introduce bias for a certain day and time which can have an impact on the model since the rows outside of the permitted date and time range make up almost 5% of the data set"
   ]
  },
  {
   "cell_type": "markdown",
   "metadata": {},
   "source": [
    "### Removing rows outside the permitted range"
   ]
  },
  {
   "cell_type": "code",
   "execution_count": null,
   "metadata": {},
   "outputs": [],
   "source": []
  },
  {
   "cell_type": "code",
   "execution_count": 323,
   "metadata": {},
   "outputs": [],
   "source": [
    "manhattan_df =  manhattan_df.filter(\n",
    "    (col(\"tpep_pickup_datetime\") >= start_datetime) & (col(\"tpep_pickup_datetime\") <= end_datetime) &\n",
    "    (col(\"tpep_dropoff_datetime\") >= start_datetime) & (col(\"tpep_dropoff_datetime\") <= end_datetime)\n",
    ")\n"
   ]
  },
  {
   "cell_type": "code",
   "execution_count": 324,
   "metadata": {},
   "outputs": [
    {
     "name": "stderr",
     "output_type": "stream",
     "text": [
      "                                                                                \r"
     ]
    },
    {
     "data": {
      "text/plain": [
       "41985075"
      ]
     },
     "execution_count": 324,
     "metadata": {},
     "output_type": "execute_result"
    }
   ],
   "source": [
    "#checking the number of rows remaining to ensure that filter was aplied\n",
    "manhattan_df.count()"
   ]
  },
  {
   "cell_type": "code",
   "execution_count": 327,
   "metadata": {},
   "outputs": [
    {
     "name": "stderr",
     "output_type": "stream",
     "text": [
      "[Stage 983:=====================================================> (35 + 1) / 36]\r"
     ]
    },
    {
     "name": "stdout",
     "output_type": "stream",
     "text": [
      "+-------------------+-------------------+-------------------+-------------------+\n",
      "|    Min_pickup_time|   Min_dropoff_time|    Max_pickup_time|   Max_dropoff_time|\n",
      "+-------------------+-------------------+-------------------+-------------------+\n",
      "|2022-01-31 23:01:03|2022-01-27 11:53:18|2023-03-10 23:59:43|2023-03-10 23:59:59|\n",
      "+-------------------+-------------------+-------------------+-------------------+\n",
      "\n"
     ]
    },
    {
     "name": "stderr",
     "output_type": "stream",
     "text": [
      "\r",
      "                                                                                \r"
     ]
    }
   ],
   "source": [
    "# Checking that datetime filter was applied\n",
    "datetime_min_max = manhattan_df.agg(\n",
    "min(\"tpep_pickup_datetime\").alias(f\"Min_pickup_time\"),\n",
    "min(\"tpep_dropoff_datetime\").alias(f\"Min_dropoff_time\"),\n",
    "max(\"tpep_pickup_datetime\").alias(f\"Max_pickup_time\"),\n",
    "max(\"tpep_dropoff_datetime\").alias(f\"Max_dropoff_time\")\n",
    "                                   )\n",
    "datetime_min_max.show()"
   ]
  },
  {
   "cell_type": "code",
   "execution_count": null,
   "metadata": {},
   "outputs": [],
   "source": []
  },
  {
   "cell_type": "code",
   "execution_count": null,
   "metadata": {},
   "outputs": [],
   "source": []
  },
  {
   "cell_type": "markdown",
   "metadata": {},
   "source": [
    "## Trip distance"
   ]
  },
  {
   "cell_type": "code",
   "execution_count": null,
   "metadata": {},
   "outputs": [],
   "source": []
  },
  {
   "cell_type": "markdown",
   "metadata": {},
   "source": [
    "- Rows over 30 miles will be dropped since they make up of an insignificant portion of the data (less than 1%)"
   ]
  },
  {
   "cell_type": "code",
   "execution_count": 328,
   "metadata": {},
   "outputs": [],
   "source": [
    "manhattan_df = manhattan_df.filter(col(\"trip_distance\") <= 30)"
   ]
  },
  {
   "cell_type": "code",
   "execution_count": 329,
   "metadata": {},
   "outputs": [
    {
     "name": "stderr",
     "output_type": "stream",
     "text": [
      "                                                                                \r"
     ]
    },
    {
     "data": {
      "text/plain": [
       "41976473"
      ]
     },
     "execution_count": 329,
     "metadata": {},
     "output_type": "execute_result"
    }
   ],
   "source": [
    "#checking the number of rows remaining to ensure that filter was aplied\n",
    "manhattan_df.count()"
   ]
  },
  {
   "cell_type": "code",
   "execution_count": 330,
   "metadata": {},
   "outputs": [
    {
     "name": "stderr",
     "output_type": "stream",
     "text": [
      "[Stage 989:=====================================================> (35 + 1) / 36]\r"
     ]
    },
    {
     "name": "stdout",
     "output_type": "stream",
     "text": [
      "+-----------------+-----------------+------------------+\n",
      "|Min_trip_distance|Max_trip_distance|Mean_trip_distance|\n",
      "+-----------------+-----------------+------------------+\n",
      "|              0.0|             30.0|  3.20531152438644|\n",
      "+-----------------+-----------------+------------------+\n",
      "\n"
     ]
    },
    {
     "name": "stderr",
     "output_type": "stream",
     "text": [
      "\r",
      "                                                                                \r"
     ]
    }
   ],
   "source": [
    "# Checking the min, max and mean distance of filetered data frame\n",
    "distance_calculations = manhattan_df.agg(\n",
    "min(\"trip_distance\").alias(f\"Min_trip_distance\"),\n",
    "max(\"trip_distance\").alias(f\"Max_trip_distance\"),\n",
    "mean(\"trip_distance\").alias(f\"Mean_trip_distance\")\n",
    ")\n",
    "\n",
    "distance_calculations.show()"
   ]
  },
  {
   "cell_type": "markdown",
   "metadata": {},
   "source": [
    "## Passenger Count"
   ]
  },
  {
   "cell_type": "markdown",
   "metadata": {},
   "source": [
    "### Removing irregular values "
   ]
  },
  {
   "cell_type": "code",
   "execution_count": null,
   "metadata": {},
   "outputs": [],
   "source": []
  },
  {
   "cell_type": "markdown",
   "metadata": {},
   "source": [
    "- According to the source below there can be no more than 6 passengers in a yellow taxi\n",
    "- https://www.nyc.gov/site/tlc/passengers/passenger-frequently-asked-questions.page"
   ]
  },
  {
   "cell_type": "code",
   "execution_count": null,
   "metadata": {},
   "outputs": [],
   "source": []
  },
  {
   "cell_type": "code",
   "execution_count": 331,
   "metadata": {},
   "outputs": [],
   "source": [
    "manhattan_df = manhattan_df.filter(col(\"passenger_count\")<=6)"
   ]
  },
  {
   "cell_type": "code",
   "execution_count": 332,
   "metadata": {},
   "outputs": [
    {
     "name": "stderr",
     "output_type": "stream",
     "text": [
      "[Stage 992:=====================================================> (35 + 1) / 36]\r"
     ]
    },
    {
     "name": "stdout",
     "output_type": "stream",
     "text": [
      "+---------------+\n",
      "|passenger_count|\n",
      "+---------------+\n",
      "|            0.0|\n",
      "|            1.0|\n",
      "|            4.0|\n",
      "|            3.0|\n",
      "|            2.0|\n",
      "|            6.0|\n",
      "|            5.0|\n",
      "+---------------+\n",
      "\n"
     ]
    },
    {
     "name": "stderr",
     "output_type": "stream",
     "text": [
      "\r",
      "                                                                                \r"
     ]
    }
   ],
   "source": [
    "# checking distinct values to ensure that filter was applied\n",
    "manhattan_df.select(\"passenger_count\").distinct().show()"
   ]
  },
  {
   "cell_type": "markdown",
   "metadata": {},
   "source": [
    "### Imputing null rows and rows with 0\n",
    "\n",
    "- mean was caluclated using the source below\n",
    "- https://linuxhint.com/mean-pyspark/"
   ]
  },
  {
   "cell_type": "code",
   "execution_count": null,
   "metadata": {},
   "outputs": [],
   "source": []
  },
  {
   "cell_type": "code",
   "execution_count": 334,
   "metadata": {},
   "outputs": [
    {
     "name": "stderr",
     "output_type": "stream",
     "text": [
      "[Stage 998:=====================================================> (35 + 1) / 36]\r"
     ]
    },
    {
     "name": "stdout",
     "output_type": "stream",
     "text": [
      "The mean of the passenger_count column is 1\n"
     ]
    },
    {
     "name": "stderr",
     "output_type": "stream",
     "text": [
      "\r",
      "                                                                                \r"
     ]
    }
   ],
   "source": [
    "# calculating mean passenger count\n",
    "mean_passenger = manhattan_df.filter((col(\"passenger_count\") != 0) & (col(\"passenger_count\").isNotNull())).agg(mean(\"passenger_count\")).first()[0]\n",
    "mean_passenger = round(mean_passenger)\n",
    "print(f\"The mean of the passenger_count column is {mean_passenger}\")\n"
   ]
  },
  {
   "cell_type": "code",
   "execution_count": 335,
   "metadata": {},
   "outputs": [
    {
     "name": "stderr",
     "output_type": "stream",
     "text": [
      "[Stage 1001:====================================================> (35 + 1) / 36]\r"
     ]
    },
    {
     "name": "stdout",
     "output_type": "stream",
     "text": [
      "The median of the passenger_count column is 1.0\n"
     ]
    },
    {
     "name": "stderr",
     "output_type": "stream",
     "text": [
      "\r",
      "                                                                                \r"
     ]
    }
   ],
   "source": [
    "# Caluclating median  passenger count\n",
    "passenger_median = manhattan_df.agg(expr(\"percentile(passenger_count, 0.5)\").alias(\"Median\")).first()[\"Median\"]\n",
    "\n",
    "print(f\"The median of the passenger_count column is {passenger_median}\")"
   ]
  },
  {
   "cell_type": "code",
   "execution_count": 336,
   "metadata": {},
   "outputs": [
    {
     "name": "stderr",
     "output_type": "stream",
     "text": [
      "[Stage 1004:====================================================> (35 + 1) / 36]\r"
     ]
    },
    {
     "name": "stdout",
     "output_type": "stream",
     "text": [
      "The mode of the passenger_count column is 1.0\n"
     ]
    },
    {
     "name": "stderr",
     "output_type": "stream",
     "text": [
      "\r",
      "                                                                                \r"
     ]
    }
   ],
   "source": [
    "# Calculating the mode passenger count\n",
    "passenger_count = manhattan_df.groupBy(\"passenger_count\").agg(count(\"passenger_count\").alias(\"count\"))\n",
    "\n",
    "passenger_order = passenger_count.orderBy(\"count\", ascending=False).first()\n",
    "\n",
    "passenger_mode = passenger_order[\"passenger_count\"]\n",
    "\n",
    "print(f\"The mode of the passenger_count column is {passenger_mode}\")"
   ]
  },
  {
   "cell_type": "code",
   "execution_count": null,
   "metadata": {},
   "outputs": [],
   "source": []
  },
  {
   "cell_type": "markdown",
   "metadata": {},
   "source": [
    "### Calculating the percentage of null values and rows with 0 in the passenger_count column again"
   ]
  },
  {
   "cell_type": "code",
   "execution_count": null,
   "metadata": {},
   "outputs": [],
   "source": []
  },
  {
   "cell_type": "code",
   "execution_count": 337,
   "metadata": {},
   "outputs": [
    {
     "name": "stderr",
     "output_type": "stream",
     "text": [
      "[Stage 1007:====================================================> (35 + 1) / 36]\r"
     ]
    },
    {
     "name": "stdout",
     "output_type": "stream",
     "text": [
      "The percentage of rows with 0 is 1.7829590736224425\n"
     ]
    },
    {
     "name": "stderr",
     "output_type": "stream",
     "text": [
      "\r",
      "                                                                                \r"
     ]
    }
   ],
   "source": [
    "# percentage of rows with 0 as a value\n",
    "passenger_zero = manhattan_df.filter(col(\"passenger_count\") == 0.0).count()\n",
    "zero_percentage = (passenger_zero/total_rows) * 100\n",
    "print(f\"The percentage of rows with 0 is {zero_percentage}\")"
   ]
  },
  {
   "cell_type": "code",
   "execution_count": 338,
   "metadata": {},
   "outputs": [
    {
     "name": "stderr",
     "output_type": "stream",
     "text": [
      "[Stage 1010:====================================================> (35 + 1) / 36]\r"
     ]
    },
    {
     "name": "stdout",
     "output_type": "stream",
     "text": [
      "The percentage of null passenger_count rows is 0.0\n"
     ]
    },
    {
     "name": "stderr",
     "output_type": "stream",
     "text": [
      "\r",
      "                                                                                \r"
     ]
    }
   ],
   "source": [
    "# percentage of null rows \n",
    "passenger_null = manhattan_df.filter(col(\"passenger_count\").isNull()).count()\n",
    "null_percentage = (passenger_null/total_rows)*100\n",
    "print(f\"The percentage of null passenger_count rows is {null_percentage}\")"
   ]
  },
  {
   "cell_type": "markdown",
   "metadata": {},
   "source": [
    "- As shown above the percentage of rows with 0 has reduced and there are no more null rows. This can be attributed to the fact that some rows were removed to address other data quality issues\n",
    "- The rows with 0 will be replaced with 1 since this is mode, median and mean passenger count as show above. \n",
    "- This was done because 1 passenger is smallest permitted value for this column so it will be used to replace the rows with 0 to preserve the data since almost 5% of data set was removed previously to address other data qualit issues \n",
    "- This may introduce some bias into the data however the number of rows with 0 as a value is less than 2% so this imputing unlikely to impact the prediction model."
   ]
  },
  {
   "cell_type": "markdown",
   "metadata": {},
   "source": [
    "### Replacing the 0 passenger rows with 1 \n",
    "- The source of the code to replace values is given below\n",
    "- https://sparkbyexamples.com/pyspark/pyspark-replace-column-values/?expand_article=1"
   ]
  },
  {
   "cell_type": "code",
   "execution_count": null,
   "metadata": {},
   "outputs": [],
   "source": []
  },
  {
   "cell_type": "code",
   "execution_count": 339,
   "metadata": {},
   "outputs": [],
   "source": [
    "manhattan_df = manhattan_df.withColumn(\"passenger_count\", when(col(\"passenger_count\") == 0, mean_passenger).otherwise(col(\"passenger_count\")))\n"
   ]
  },
  {
   "cell_type": "code",
   "execution_count": 340,
   "metadata": {},
   "outputs": [
    {
     "name": "stderr",
     "output_type": "stream",
     "text": [
      "[Stage 1013:====================================================> (35 + 1) / 36]\r"
     ]
    },
    {
     "name": "stdout",
     "output_type": "stream",
     "text": [
      "+---------------+\n",
      "|passenger_count|\n",
      "+---------------+\n",
      "|            1.0|\n",
      "|            4.0|\n",
      "|            3.0|\n",
      "|            2.0|\n",
      "|            6.0|\n",
      "|            5.0|\n",
      "+---------------+\n",
      "\n"
     ]
    },
    {
     "name": "stderr",
     "output_type": "stream",
     "text": [
      "\r",
      "                                                                                \r"
     ]
    }
   ],
   "source": [
    "manhattan_df.select(\"passenger_count\").distinct().show()"
   ]
  },
  {
   "cell_type": "markdown",
   "metadata": {},
   "source": [
    "# Cleaned data frame shape"
   ]
  },
  {
   "cell_type": "code",
   "execution_count": 341,
   "metadata": {},
   "outputs": [
    {
     "name": "stderr",
     "output_type": "stream",
     "text": [
      "[Stage 1016:====================================================> (35 + 1) / 36]\r"
     ]
    },
    {
     "name": "stdout",
     "output_type": "stream",
     "text": [
      "There are 40591283 rows and 6 columns in this data set\n"
     ]
    },
    {
     "name": "stderr",
     "output_type": "stream",
     "text": [
      "\r",
      "                                                                                \r"
     ]
    }
   ],
   "source": [
    "total_rows = manhattan_df.count()\n",
    "total_columns = len(manhattan_df.columns)\n",
    "print(f\"There are {total_rows} rows and {total_columns} columns in this data set\")"
   ]
  },
  {
   "cell_type": "code",
   "execution_count": null,
   "metadata": {},
   "outputs": [],
   "source": []
  },
  {
   "cell_type": "markdown",
   "metadata": {},
   "source": [
    "## Data Quality Summary\n",
    "| Variable Names                     | Data Quality Issue            | Handling Strategy              |\n",
    "|------------------------------------|-------------------------------|--------------------------------|\n",
    "| RatecodeID                          | Irrelevant        | Drop column                   |\n",
    "| store_and_fwd_flag                    | Irrelevant        | Drop column                       |\n",
    "| payment_type                         | Irrelevant         | Drop column                       |\n",
    "| fare_amount                  | Irrelevant        | Drop column                       |\n",
    "| extra                          | Irrelevant|Drop column        |\n",
    "| mta_tax                                | Irrelevant| Drop column         |\n",
    "| tip_amount                               | Irrelevant| Drop column        |\n",
    "| tolls_amount                          | Irrelevant| Drop column        |\n",
    "| improvement_surcharge    | Irrelevant                     | Drop column|\n",
    "| total_amount                | Irrelevant                      | Drop column|\n",
    "| airport_fee                        | Irrelevant | Drop column                         |\n",
    "| VendorID                     | Irrelevant, constant values |Drop column       |\n",
    "| congestion_surcharge                            | Irrelevant|Drop column       |\n",
    "| passenger_count                           |null rows, invalid values |Remove the rows with over 6.0 passengers since they don't even add up to 1000 rows, it won't have much of an impact data set. Fill in rows with 0 with 1|\n",
    "| trip_distance                           |Outliers |Cut off distance at 30 miles as rows over this value do not up to 1% of data set so it won't have much of an impact  on the data set     |\n",
    "| tpep_pickup_datetime         | Invalid values                    |Remove all with inccorect dates - Cannot calculate mean so can't be filled in with that value, can't be filled in with random values. Using next neigbour(previou value/ next value) could inflate busyness count\n",
    "       |\n",
    "| tpep_dropoff_datetime        | Inavlid values                   |Remove all with inccorect dates - Cannot calculate mean so can't be filled in with that value, can't be filled in with random values. Using next neigbour(previou value/ next value) could inflate busyness count\n",
    "      |\n",
    "\n"
   ]
  },
  {
   "cell_type": "code",
   "execution_count": null,
   "metadata": {},
   "outputs": [],
   "source": []
  }
 ],
 "metadata": {
  "kernelspec": {
   "display_name": "Python 3 (ipykernel)",
   "language": "python",
   "name": "python3"
  },
  "language_info": {
   "codemirror_mode": {
    "name": "ipython",
    "version": 3
   },
   "file_extension": ".py",
   "mimetype": "text/x-python",
   "name": "python",
   "nbconvert_exporter": "python",
   "pygments_lexer": "ipython3",
   "version": "3.9.13"
  }
 },
 "nbformat": 4,
 "nbformat_minor": 1
}
