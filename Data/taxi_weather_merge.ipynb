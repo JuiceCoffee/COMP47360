{
 "cells": [
  {
   "cell_type": "code",
   "execution_count": 14,
   "id": "82559b52",
   "metadata": {},
   "outputs": [],
   "source": [
    "import pandas as pd"
   ]
  },
  {
   "cell_type": "code",
   "execution_count": 15,
   "id": "b96d3855",
   "metadata": {},
   "outputs": [],
   "source": [
    "# list of manhattan zones\n",
    "manhattan = [4,24,12,13,41,45,42,43,48,50,68,79,74,75,87,88,90,125,100,103,107,113,114,116,120,127,128,151,140,137\n",
    "             ,141,142,152,143,144,148,153,158,161,162,163,164,170,166,186,194,202,209,211,224,229,230,231,239,232\n",
    "             ,233,234,236,237,238,243,244,246,249,261,262,263]"
   ]
  },
  {
   "cell_type": "code",
   "execution_count": 16,
   "id": "4e57a20a",
   "metadata": {},
   "outputs": [],
   "source": [
    "# reading taxi data\n",
    "taxi = pd.read_parquet(\"cleaned_taxi.parquet\")"
   ]
  },
  {
   "cell_type": "code",
   "execution_count": 17,
   "id": "90571742",
   "metadata": {},
   "outputs": [
    {
     "data": {
      "text/html": [
       "<div>\n",
       "<style scoped>\n",
       "    .dataframe tbody tr th:only-of-type {\n",
       "        vertical-align: middle;\n",
       "    }\n",
       "\n",
       "    .dataframe tbody tr th {\n",
       "        vertical-align: top;\n",
       "    }\n",
       "\n",
       "    .dataframe thead th {\n",
       "        text-align: right;\n",
       "    }\n",
       "</style>\n",
       "<table border=\"1\" class=\"dataframe\">\n",
       "  <thead>\n",
       "    <tr style=\"text-align: right;\">\n",
       "      <th></th>\n",
       "      <th>tpep_pickup_datetime</th>\n",
       "      <th>tpep_dropoff_datetime</th>\n",
       "      <th>passenger_count</th>\n",
       "      <th>trip_distance</th>\n",
       "      <th>PULocationID</th>\n",
       "      <th>DOLocationID</th>\n",
       "    </tr>\n",
       "  </thead>\n",
       "  <tbody>\n",
       "    <tr>\n",
       "      <th>0</th>\n",
       "      <td>2022-03-31 23:21:13</td>\n",
       "      <td>2022-03-31 23:58:33</td>\n",
       "      <td>1.0</td>\n",
       "      <td>10.30</td>\n",
       "      <td>163</td>\n",
       "      <td>62</td>\n",
       "    </tr>\n",
       "    <tr>\n",
       "      <th>1</th>\n",
       "      <td>2022-03-31 23:07:47</td>\n",
       "      <td>2022-03-31 23:19:12</td>\n",
       "      <td>1.0</td>\n",
       "      <td>2.00</td>\n",
       "      <td>142</td>\n",
       "      <td>141</td>\n",
       "    </tr>\n",
       "    <tr>\n",
       "      <th>2</th>\n",
       "      <td>2022-03-31 23:14:52</td>\n",
       "      <td>2022-03-31 23:23:43</td>\n",
       "      <td>1.0</td>\n",
       "      <td>1.00</td>\n",
       "      <td>79</td>\n",
       "      <td>148</td>\n",
       "    </tr>\n",
       "    <tr>\n",
       "      <th>3</th>\n",
       "      <td>2022-03-31 23:30:02</td>\n",
       "      <td>2022-03-31 23:45:06</td>\n",
       "      <td>1.0</td>\n",
       "      <td>2.60</td>\n",
       "      <td>79</td>\n",
       "      <td>13</td>\n",
       "    </tr>\n",
       "    <tr>\n",
       "      <th>4</th>\n",
       "      <td>2022-03-31 23:48:40</td>\n",
       "      <td>2022-04-01 00:03:34</td>\n",
       "      <td>1.0</td>\n",
       "      <td>2.79</td>\n",
       "      <td>238</td>\n",
       "      <td>116</td>\n",
       "    </tr>\n",
       "  </tbody>\n",
       "</table>\n",
       "</div>"
      ],
      "text/plain": [
       "  tpep_pickup_datetime tpep_dropoff_datetime  passenger_count  trip_distance  \\\n",
       "0  2022-03-31 23:21:13   2022-03-31 23:58:33              1.0          10.30   \n",
       "1  2022-03-31 23:07:47   2022-03-31 23:19:12              1.0           2.00   \n",
       "2  2022-03-31 23:14:52   2022-03-31 23:23:43              1.0           1.00   \n",
       "3  2022-03-31 23:30:02   2022-03-31 23:45:06              1.0           2.60   \n",
       "4  2022-03-31 23:48:40   2022-04-01 00:03:34              1.0           2.79   \n",
       "\n",
       "   PULocationID  DOLocationID  \n",
       "0           163            62  \n",
       "1           142           141  \n",
       "2            79           148  \n",
       "3            79            13  \n",
       "4           238           116  "
      ]
     },
     "execution_count": 17,
     "metadata": {},
     "output_type": "execute_result"
    }
   ],
   "source": [
    "# first 5 rows\n",
    "taxi.head(5)"
   ]
  },
  {
   "cell_type": "code",
   "execution_count": null,
   "id": "789adce9",
   "metadata": {},
   "outputs": [],
   "source": []
  },
  {
   "cell_type": "code",
   "execution_count": 18,
   "id": "f5f32f9e",
   "metadata": {},
   "outputs": [],
   "source": [
    "# converting drop off time to datetime\n",
    "taxi[\"tpep_dropoff_datetime\"] = pd.to_datetime(taxi[\"tpep_dropoff_datetime\"])"
   ]
  },
  {
   "cell_type": "code",
   "execution_count": 19,
   "id": "10a4de22",
   "metadata": {},
   "outputs": [
    {
     "data": {
      "text/plain": [
       "tpep_pickup_datetime     datetime64[ns]\n",
       "tpep_dropoff_datetime    datetime64[ns]\n",
       "passenger_count                 float64\n",
       "trip_distance                   float64\n",
       "PULocationID                      int32\n",
       "DOLocationID                      int32\n",
       "dtype: object"
      ]
     },
     "execution_count": 19,
     "metadata": {},
     "output_type": "execute_result"
    }
   ],
   "source": [
    "# confirming date time conversion\n",
    "taxi.dtypes"
   ]
  },
  {
   "cell_type": "code",
   "execution_count": 20,
   "id": "991ac0c4",
   "metadata": {},
   "outputs": [
    {
     "name": "stderr",
     "output_type": "stream",
     "text": [
      "/var/folders/6b/tc94k9n157g920l0_fmhzz000000gn/T/ipykernel_26378/277214099.py:2: FutureWarning: In a future version of pandas all arguments of DataFrame.drop except for the argument 'labels' will be keyword-only.\n",
      "  taxi = taxi.drop([\"tpep_pickup_datetime\",\"PULocationID\", \"trip_distance\"],1)\n"
     ]
    }
   ],
   "source": [
    "# dropping pickup location and time\n",
    "taxi = taxi.drop([\"tpep_pickup_datetime\",\"PULocationID\", \"trip_distance\"],1)"
   ]
  },
  {
   "cell_type": "code",
   "execution_count": 21,
   "id": "8369c28a",
   "metadata": {},
   "outputs": [
    {
     "data": {
      "text/html": [
       "<div>\n",
       "<style scoped>\n",
       "    .dataframe tbody tr th:only-of-type {\n",
       "        vertical-align: middle;\n",
       "    }\n",
       "\n",
       "    .dataframe tbody tr th {\n",
       "        vertical-align: top;\n",
       "    }\n",
       "\n",
       "    .dataframe thead th {\n",
       "        text-align: right;\n",
       "    }\n",
       "</style>\n",
       "<table border=\"1\" class=\"dataframe\">\n",
       "  <thead>\n",
       "    <tr style=\"text-align: right;\">\n",
       "      <th></th>\n",
       "      <th>tpep_dropoff_datetime</th>\n",
       "      <th>passenger_count</th>\n",
       "      <th>DOLocationID</th>\n",
       "    </tr>\n",
       "  </thead>\n",
       "  <tbody>\n",
       "    <tr>\n",
       "      <th>0</th>\n",
       "      <td>2022-03-31 23:58:33</td>\n",
       "      <td>1.0</td>\n",
       "      <td>62</td>\n",
       "    </tr>\n",
       "    <tr>\n",
       "      <th>1</th>\n",
       "      <td>2022-03-31 23:19:12</td>\n",
       "      <td>1.0</td>\n",
       "      <td>141</td>\n",
       "    </tr>\n",
       "    <tr>\n",
       "      <th>2</th>\n",
       "      <td>2022-03-31 23:23:43</td>\n",
       "      <td>1.0</td>\n",
       "      <td>148</td>\n",
       "    </tr>\n",
       "    <tr>\n",
       "      <th>3</th>\n",
       "      <td>2022-03-31 23:45:06</td>\n",
       "      <td>1.0</td>\n",
       "      <td>13</td>\n",
       "    </tr>\n",
       "    <tr>\n",
       "      <th>4</th>\n",
       "      <td>2022-04-01 00:03:34</td>\n",
       "      <td>1.0</td>\n",
       "      <td>116</td>\n",
       "    </tr>\n",
       "  </tbody>\n",
       "</table>\n",
       "</div>"
      ],
      "text/plain": [
       "  tpep_dropoff_datetime  passenger_count  DOLocationID\n",
       "0   2022-03-31 23:58:33              1.0            62\n",
       "1   2022-03-31 23:19:12              1.0           141\n",
       "2   2022-03-31 23:23:43              1.0           148\n",
       "3   2022-03-31 23:45:06              1.0            13\n",
       "4   2022-04-01 00:03:34              1.0           116"
      ]
     },
     "execution_count": 21,
     "metadata": {},
     "output_type": "execute_result"
    }
   ],
   "source": [
    "# first 5 rows\n",
    "taxi.head(5)"
   ]
  },
  {
   "cell_type": "code",
   "execution_count": 22,
   "id": "7454f0ad",
   "metadata": {},
   "outputs": [
    {
     "data": {
      "text/plain": [
       "(41985057, 3)"
      ]
     },
     "execution_count": 22,
     "metadata": {},
     "output_type": "execute_result"
    }
   ],
   "source": [
    "# data frame shape\n",
    "taxi.shape"
   ]
  },
  {
   "cell_type": "markdown",
   "id": "303e5ade",
   "metadata": {},
   "source": [
    "# References\n",
    "- https://sparkbyexamples.com/pandas/pandas-aggregate-functions-with-examples/?expand_article=1\n",
    "- https://kanoki.org/pandas-group-dataframe-by-timeinterval\n",
    "- https://sparkbyexamples.com/pandas/pandas-reset-index-examples/\n",
    "- https://www.geeksforgeeks.org/how-to-rename-columns-in-pandas-dataframe/\n",
    "- https://datascienceparichay.com/article/filter-dataframe-on-list-of-values/"
   ]
  },
  {
   "cell_type": "code",
   "execution_count": null,
   "id": "a1620c88",
   "metadata": {},
   "outputs": [],
   "source": []
  },
  {
   "cell_type": "code",
   "execution_count": 23,
   "id": "266cb196",
   "metadata": {},
   "outputs": [],
   "source": [
    "# grouping to get the number of passengers in each location every hour\n",
    "grouped_taxi = taxi.groupby([\"DOLocationID\", pd.Grouper(key = \"tpep_dropoff_datetime\", freq = \"1H\")]).agg({\"passenger_count\" \n",
    "                                                                                                           : \"sum\"})\n"
   ]
  },
  {
   "cell_type": "code",
   "execution_count": 24,
   "id": "48580f11",
   "metadata": {},
   "outputs": [],
   "source": [
    "# reseting index of grouped data frame\n",
    "grouped_taxi = grouped_taxi.reset_index()"
   ]
  },
  {
   "cell_type": "code",
   "execution_count": 25,
   "id": "e7c58453",
   "metadata": {},
   "outputs": [
    {
     "data": {
      "text/plain": [
       "(1170566, 3)"
      ]
     },
     "execution_count": 25,
     "metadata": {},
     "output_type": "execute_result"
    }
   ],
   "source": [
    "# shape of grouped data frame\n",
    "grouped_taxi.shape"
   ]
  },
  {
   "cell_type": "code",
   "execution_count": 26,
   "id": "3f0ffbee",
   "metadata": {},
   "outputs": [
    {
     "data": {
      "text/html": [
       "<div>\n",
       "<style scoped>\n",
       "    .dataframe tbody tr th:only-of-type {\n",
       "        vertical-align: middle;\n",
       "    }\n",
       "\n",
       "    .dataframe tbody tr th {\n",
       "        vertical-align: top;\n",
       "    }\n",
       "\n",
       "    .dataframe thead th {\n",
       "        text-align: right;\n",
       "    }\n",
       "</style>\n",
       "<table border=\"1\" class=\"dataframe\">\n",
       "  <thead>\n",
       "    <tr style=\"text-align: right;\">\n",
       "      <th></th>\n",
       "      <th>DOLocationID</th>\n",
       "      <th>tpep_dropoff_datetime</th>\n",
       "      <th>passenger_count</th>\n",
       "    </tr>\n",
       "  </thead>\n",
       "  <tbody>\n",
       "    <tr>\n",
       "      <th>0</th>\n",
       "      <td>1</td>\n",
       "      <td>2022-02-01 06:00:00</td>\n",
       "      <td>3.0</td>\n",
       "    </tr>\n",
       "    <tr>\n",
       "      <th>1</th>\n",
       "      <td>1</td>\n",
       "      <td>2022-02-01 07:00:00</td>\n",
       "      <td>5.0</td>\n",
       "    </tr>\n",
       "    <tr>\n",
       "      <th>2</th>\n",
       "      <td>1</td>\n",
       "      <td>2022-02-01 08:00:00</td>\n",
       "      <td>5.0</td>\n",
       "    </tr>\n",
       "    <tr>\n",
       "      <th>3</th>\n",
       "      <td>1</td>\n",
       "      <td>2022-02-01 09:00:00</td>\n",
       "      <td>11.0</td>\n",
       "    </tr>\n",
       "    <tr>\n",
       "      <th>4</th>\n",
       "      <td>1</td>\n",
       "      <td>2022-02-01 10:00:00</td>\n",
       "      <td>3.0</td>\n",
       "    </tr>\n",
       "  </tbody>\n",
       "</table>\n",
       "</div>"
      ],
      "text/plain": [
       "   DOLocationID tpep_dropoff_datetime  passenger_count\n",
       "0             1   2022-02-01 06:00:00              3.0\n",
       "1             1   2022-02-01 07:00:00              5.0\n",
       "2             1   2022-02-01 08:00:00              5.0\n",
       "3             1   2022-02-01 09:00:00             11.0\n",
       "4             1   2022-02-01 10:00:00              3.0"
      ]
     },
     "execution_count": 26,
     "metadata": {},
     "output_type": "execute_result"
    }
   ],
   "source": [
    "# first 5 rows\n",
    "grouped_taxi.head(5)"
   ]
  },
  {
   "cell_type": "code",
   "execution_count": null,
   "id": "70ac3dc8",
   "metadata": {},
   "outputs": [],
   "source": []
  },
  {
   "cell_type": "code",
   "execution_count": 27,
   "id": "9d8f321a",
   "metadata": {},
   "outputs": [],
   "source": [
    "# filtering for rows in Manhattan\n",
    "manhattan = grouped_taxi[grouped_taxi[\"DOLocationID\"].isin(manhattan)]"
   ]
  },
  {
   "cell_type": "code",
   "execution_count": 28,
   "id": "bfe014b0",
   "metadata": {},
   "outputs": [
    {
     "data": {
      "text/plain": [
       "(594529, 3)"
      ]
     },
     "execution_count": 28,
     "metadata": {},
     "output_type": "execute_result"
    }
   ],
   "source": [
    "# shape of filtered data frame\n",
    "manhattan.shape"
   ]
  },
  {
   "cell_type": "code",
   "execution_count": 29,
   "id": "ef179929",
   "metadata": {},
   "outputs": [
    {
     "data": {
      "text/html": [
       "<div>\n",
       "<style scoped>\n",
       "    .dataframe tbody tr th:only-of-type {\n",
       "        vertical-align: middle;\n",
       "    }\n",
       "\n",
       "    .dataframe tbody tr th {\n",
       "        vertical-align: top;\n",
       "    }\n",
       "\n",
       "    .dataframe thead th {\n",
       "        text-align: right;\n",
       "    }\n",
       "</style>\n",
       "<table border=\"1\" class=\"dataframe\">\n",
       "  <thead>\n",
       "    <tr style=\"text-align: right;\">\n",
       "      <th></th>\n",
       "      <th>DOLocationID</th>\n",
       "      <th>tpep_dropoff_datetime</th>\n",
       "      <th>passenger_count</th>\n",
       "    </tr>\n",
       "  </thead>\n",
       "  <tbody>\n",
       "    <tr>\n",
       "      <th>8736</th>\n",
       "      <td>4</td>\n",
       "      <td>2022-02-01 00:00:00</td>\n",
       "      <td>13.0</td>\n",
       "    </tr>\n",
       "    <tr>\n",
       "      <th>8737</th>\n",
       "      <td>4</td>\n",
       "      <td>2022-02-01 01:00:00</td>\n",
       "      <td>9.0</td>\n",
       "    </tr>\n",
       "    <tr>\n",
       "      <th>8738</th>\n",
       "      <td>4</td>\n",
       "      <td>2022-02-01 02:00:00</td>\n",
       "      <td>6.0</td>\n",
       "    </tr>\n",
       "    <tr>\n",
       "      <th>8739</th>\n",
       "      <td>4</td>\n",
       "      <td>2022-02-01 03:00:00</td>\n",
       "      <td>1.0</td>\n",
       "    </tr>\n",
       "    <tr>\n",
       "      <th>8740</th>\n",
       "      <td>4</td>\n",
       "      <td>2022-02-01 04:00:00</td>\n",
       "      <td>6.0</td>\n",
       "    </tr>\n",
       "  </tbody>\n",
       "</table>\n",
       "</div>"
      ],
      "text/plain": [
       "      DOLocationID tpep_dropoff_datetime  passenger_count\n",
       "8736             4   2022-02-01 00:00:00             13.0\n",
       "8737             4   2022-02-01 01:00:00              9.0\n",
       "8738             4   2022-02-01 02:00:00              6.0\n",
       "8739             4   2022-02-01 03:00:00              1.0\n",
       "8740             4   2022-02-01 04:00:00              6.0"
      ]
     },
     "execution_count": 29,
     "metadata": {},
     "output_type": "execute_result"
    }
   ],
   "source": [
    "# first 5 rows\n",
    "manhattan.head(5)"
   ]
  },
  {
   "cell_type": "code",
   "execution_count": 30,
   "id": "ec26a133",
   "metadata": {},
   "outputs": [
    {
     "name": "stderr",
     "output_type": "stream",
     "text": [
      "/var/folders/6b/tc94k9n157g920l0_fmhzz000000gn/T/ipykernel_26378/3790592389.py:2: SettingWithCopyWarning: \n",
      "A value is trying to be set on a copy of a slice from a DataFrame.\n",
      "Try using .loc[row_indexer,col_indexer] = value instead\n",
      "\n",
      "See the caveats in the documentation: https://pandas.pydata.org/pandas-docs/stable/user_guide/indexing.html#returning-a-view-versus-a-copy\n",
      "  manhattan[\"month\"] = manhattan[\"tpep_dropoff_datetime\"].dt.month\n",
      "/var/folders/6b/tc94k9n157g920l0_fmhzz000000gn/T/ipykernel_26378/3790592389.py:3: SettingWithCopyWarning: \n",
      "A value is trying to be set on a copy of a slice from a DataFrame.\n",
      "Try using .loc[row_indexer,col_indexer] = value instead\n",
      "\n",
      "See the caveats in the documentation: https://pandas.pydata.org/pandas-docs/stable/user_guide/indexing.html#returning-a-view-versus-a-copy\n",
      "  manhattan[\"dayofweek\"] = manhattan[\"tpep_dropoff_datetime\"].dt.dayofweek\n",
      "/var/folders/6b/tc94k9n157g920l0_fmhzz000000gn/T/ipykernel_26378/3790592389.py:4: SettingWithCopyWarning: \n",
      "A value is trying to be set on a copy of a slice from a DataFrame.\n",
      "Try using .loc[row_indexer,col_indexer] = value instead\n",
      "\n",
      "See the caveats in the documentation: https://pandas.pydata.org/pandas-docs/stable/user_guide/indexing.html#returning-a-view-versus-a-copy\n",
      "  manhattan[\"hour\"] = manhattan[\"tpep_dropoff_datetime\"].dt.hour\n"
     ]
    }
   ],
   "source": [
    "# creating month, day and hour columns\n",
    "manhattan[\"month\"] = manhattan[\"tpep_dropoff_datetime\"].dt.month\n",
    "manhattan[\"dayofweek\"] = manhattan[\"tpep_dropoff_datetime\"].dt.dayofweek\n",
    "manhattan[\"hour\"] = manhattan[\"tpep_dropoff_datetime\"].dt.hour"
   ]
  },
  {
   "cell_type": "code",
   "execution_count": 31,
   "id": "7bf8b76d",
   "metadata": {},
   "outputs": [
    {
     "data": {
      "text/html": [
       "<div>\n",
       "<style scoped>\n",
       "    .dataframe tbody tr th:only-of-type {\n",
       "        vertical-align: middle;\n",
       "    }\n",
       "\n",
       "    .dataframe tbody tr th {\n",
       "        vertical-align: top;\n",
       "    }\n",
       "\n",
       "    .dataframe thead th {\n",
       "        text-align: right;\n",
       "    }\n",
       "</style>\n",
       "<table border=\"1\" class=\"dataframe\">\n",
       "  <thead>\n",
       "    <tr style=\"text-align: right;\">\n",
       "      <th></th>\n",
       "      <th>DOLocationID</th>\n",
       "      <th>tpep_dropoff_datetime</th>\n",
       "      <th>passenger_count</th>\n",
       "      <th>month</th>\n",
       "      <th>dayofweek</th>\n",
       "      <th>hour</th>\n",
       "    </tr>\n",
       "  </thead>\n",
       "  <tbody>\n",
       "    <tr>\n",
       "      <th>8736</th>\n",
       "      <td>4</td>\n",
       "      <td>2022-02-01 00:00:00</td>\n",
       "      <td>13.0</td>\n",
       "      <td>2</td>\n",
       "      <td>1</td>\n",
       "      <td>0</td>\n",
       "    </tr>\n",
       "    <tr>\n",
       "      <th>8737</th>\n",
       "      <td>4</td>\n",
       "      <td>2022-02-01 01:00:00</td>\n",
       "      <td>9.0</td>\n",
       "      <td>2</td>\n",
       "      <td>1</td>\n",
       "      <td>1</td>\n",
       "    </tr>\n",
       "    <tr>\n",
       "      <th>8738</th>\n",
       "      <td>4</td>\n",
       "      <td>2022-02-01 02:00:00</td>\n",
       "      <td>6.0</td>\n",
       "      <td>2</td>\n",
       "      <td>1</td>\n",
       "      <td>2</td>\n",
       "    </tr>\n",
       "    <tr>\n",
       "      <th>8739</th>\n",
       "      <td>4</td>\n",
       "      <td>2022-02-01 03:00:00</td>\n",
       "      <td>1.0</td>\n",
       "      <td>2</td>\n",
       "      <td>1</td>\n",
       "      <td>3</td>\n",
       "    </tr>\n",
       "    <tr>\n",
       "      <th>8740</th>\n",
       "      <td>4</td>\n",
       "      <td>2022-02-01 04:00:00</td>\n",
       "      <td>6.0</td>\n",
       "      <td>2</td>\n",
       "      <td>1</td>\n",
       "      <td>4</td>\n",
       "    </tr>\n",
       "  </tbody>\n",
       "</table>\n",
       "</div>"
      ],
      "text/plain": [
       "      DOLocationID tpep_dropoff_datetime  passenger_count  month  dayofweek  \\\n",
       "8736             4   2022-02-01 00:00:00             13.0      2          1   \n",
       "8737             4   2022-02-01 01:00:00              9.0      2          1   \n",
       "8738             4   2022-02-01 02:00:00              6.0      2          1   \n",
       "8739             4   2022-02-01 03:00:00              1.0      2          1   \n",
       "8740             4   2022-02-01 04:00:00              6.0      2          1   \n",
       "\n",
       "      hour  \n",
       "8736     0  \n",
       "8737     1  \n",
       "8738     2  \n",
       "8739     3  \n",
       "8740     4  "
      ]
     },
     "execution_count": 31,
     "metadata": {},
     "output_type": "execute_result"
    }
   ],
   "source": [
    "# first 5 rows \n",
    "manhattan.head(5)"
   ]
  },
  {
   "cell_type": "code",
   "execution_count": 32,
   "id": "bf96eb3d",
   "metadata": {},
   "outputs": [],
   "source": [
    "# saving filtered data frame \n",
    "manhattan.to_csv(\"manhattan_hourly_dropoffs.csv\")"
   ]
  },
  {
   "cell_type": "code",
   "execution_count": 33,
   "id": "d7c95cd3",
   "metadata": {},
   "outputs": [
    {
     "name": "stderr",
     "output_type": "stream",
     "text": [
      "/var/folders/6b/tc94k9n157g920l0_fmhzz000000gn/T/ipykernel_26378/1353974320.py:2: SettingWithCopyWarning: \n",
      "A value is trying to be set on a copy of a slice from a DataFrame\n",
      "\n",
      "See the caveats in the documentation: https://pandas.pydata.org/pandas-docs/stable/user_guide/indexing.html#returning-a-view-versus-a-copy\n",
      "  manhattan.rename(columns = {\"tpep_dropoff_datetime\":\"time\"}, inplace = True)\n"
     ]
    }
   ],
   "source": [
    "# renaming datetime column in taxi dataframe\n",
    "manhattan.rename(columns = {\"tpep_dropoff_datetime\":\"time\"}, inplace = True)"
   ]
  },
  {
   "cell_type": "code",
   "execution_count": 34,
   "id": "e641ee80",
   "metadata": {},
   "outputs": [
    {
     "data": {
      "text/html": [
       "<div>\n",
       "<style scoped>\n",
       "    .dataframe tbody tr th:only-of-type {\n",
       "        vertical-align: middle;\n",
       "    }\n",
       "\n",
       "    .dataframe tbody tr th {\n",
       "        vertical-align: top;\n",
       "    }\n",
       "\n",
       "    .dataframe thead th {\n",
       "        text-align: right;\n",
       "    }\n",
       "</style>\n",
       "<table border=\"1\" class=\"dataframe\">\n",
       "  <thead>\n",
       "    <tr style=\"text-align: right;\">\n",
       "      <th></th>\n",
       "      <th>DOLocationID</th>\n",
       "      <th>time</th>\n",
       "      <th>passenger_count</th>\n",
       "      <th>month</th>\n",
       "      <th>dayofweek</th>\n",
       "      <th>hour</th>\n",
       "    </tr>\n",
       "  </thead>\n",
       "  <tbody>\n",
       "    <tr>\n",
       "      <th>8736</th>\n",
       "      <td>4</td>\n",
       "      <td>2022-02-01 00:00:00</td>\n",
       "      <td>13.0</td>\n",
       "      <td>2</td>\n",
       "      <td>1</td>\n",
       "      <td>0</td>\n",
       "    </tr>\n",
       "    <tr>\n",
       "      <th>8737</th>\n",
       "      <td>4</td>\n",
       "      <td>2022-02-01 01:00:00</td>\n",
       "      <td>9.0</td>\n",
       "      <td>2</td>\n",
       "      <td>1</td>\n",
       "      <td>1</td>\n",
       "    </tr>\n",
       "    <tr>\n",
       "      <th>8738</th>\n",
       "      <td>4</td>\n",
       "      <td>2022-02-01 02:00:00</td>\n",
       "      <td>6.0</td>\n",
       "      <td>2</td>\n",
       "      <td>1</td>\n",
       "      <td>2</td>\n",
       "    </tr>\n",
       "    <tr>\n",
       "      <th>8739</th>\n",
       "      <td>4</td>\n",
       "      <td>2022-02-01 03:00:00</td>\n",
       "      <td>1.0</td>\n",
       "      <td>2</td>\n",
       "      <td>1</td>\n",
       "      <td>3</td>\n",
       "    </tr>\n",
       "    <tr>\n",
       "      <th>8740</th>\n",
       "      <td>4</td>\n",
       "      <td>2022-02-01 04:00:00</td>\n",
       "      <td>6.0</td>\n",
       "      <td>2</td>\n",
       "      <td>1</td>\n",
       "      <td>4</td>\n",
       "    </tr>\n",
       "  </tbody>\n",
       "</table>\n",
       "</div>"
      ],
      "text/plain": [
       "      DOLocationID                time  passenger_count  month  dayofweek  \\\n",
       "8736             4 2022-02-01 00:00:00             13.0      2          1   \n",
       "8737             4 2022-02-01 01:00:00              9.0      2          1   \n",
       "8738             4 2022-02-01 02:00:00              6.0      2          1   \n",
       "8739             4 2022-02-01 03:00:00              1.0      2          1   \n",
       "8740             4 2022-02-01 04:00:00              6.0      2          1   \n",
       "\n",
       "      hour  \n",
       "8736     0  \n",
       "8737     1  \n",
       "8738     2  \n",
       "8739     3  \n",
       "8740     4  "
      ]
     },
     "execution_count": 34,
     "metadata": {},
     "output_type": "execute_result"
    }
   ],
   "source": [
    "# first 5 rows\n",
    "manhattan.head(5)"
   ]
  },
  {
   "cell_type": "code",
   "execution_count": null,
   "id": "cd0ce754",
   "metadata": {},
   "outputs": [],
   "source": []
  },
  {
   "cell_type": "markdown",
   "id": "4a034da8",
   "metadata": {},
   "source": [
    "# Weather Data\n",
    "## References\n",
    "- https://www.currentresults.com/Yearly-Weather/USA/NY/New-York-City/extreme-annual-new-york-city-low-temperature.php\n",
    "- https://www.currentresults.com/Yearly-Weather/USA/NY/New-York-City/extreme-annual-new-york-city-high-temperature.php#google_vignette"
   ]
  },
  {
   "cell_type": "code",
   "execution_count": null,
   "id": "dfe582f4",
   "metadata": {},
   "outputs": [],
   "source": []
  },
  {
   "cell_type": "code",
   "execution_count": 50,
   "id": "e343c134",
   "metadata": {},
   "outputs": [],
   "source": [
    "# reading weather data \n",
    "weather = pd.read_csv(\"weather.csv\")"
   ]
  },
  {
   "cell_type": "code",
   "execution_count": 51,
   "id": "d418d47c",
   "metadata": {},
   "outputs": [
    {
     "data": {
      "text/html": [
       "<div>\n",
       "<style scoped>\n",
       "    .dataframe tbody tr th:only-of-type {\n",
       "        vertical-align: middle;\n",
       "    }\n",
       "\n",
       "    .dataframe tbody tr th {\n",
       "        vertical-align: top;\n",
       "    }\n",
       "\n",
       "    .dataframe thead th {\n",
       "        text-align: right;\n",
       "    }\n",
       "</style>\n",
       "<table border=\"1\" class=\"dataframe\">\n",
       "  <thead>\n",
       "    <tr style=\"text-align: right;\">\n",
       "      <th></th>\n",
       "      <th>time</th>\n",
       "      <th>temperature_2m (°C)</th>\n",
       "      <th>rain (mm)</th>\n",
       "      <th>snowfall (cm)</th>\n",
       "      <th>windspeed_10m (km/h)</th>\n",
       "      <th>Unnamed: 5</th>\n",
       "    </tr>\n",
       "  </thead>\n",
       "  <tbody>\n",
       "    <tr>\n",
       "      <th>0</th>\n",
       "      <td>2022-02-01T00:00</td>\n",
       "      <td>-5.8</td>\n",
       "      <td>0.0</td>\n",
       "      <td>0.0</td>\n",
       "      <td>10.3</td>\n",
       "      <td>NaN</td>\n",
       "    </tr>\n",
       "    <tr>\n",
       "      <th>1</th>\n",
       "      <td>2022-02-01T01:00</td>\n",
       "      <td>-7.1</td>\n",
       "      <td>0.0</td>\n",
       "      <td>0.0</td>\n",
       "      <td>11.0</td>\n",
       "      <td>NaN</td>\n",
       "    </tr>\n",
       "    <tr>\n",
       "      <th>2</th>\n",
       "      <td>2022-02-01T02:00</td>\n",
       "      <td>-8.6</td>\n",
       "      <td>0.0</td>\n",
       "      <td>0.0</td>\n",
       "      <td>11.5</td>\n",
       "      <td>NaN</td>\n",
       "    </tr>\n",
       "    <tr>\n",
       "      <th>3</th>\n",
       "      <td>2022-02-01T03:00</td>\n",
       "      <td>-9.8</td>\n",
       "      <td>0.0</td>\n",
       "      <td>0.0</td>\n",
       "      <td>12.0</td>\n",
       "      <td>NaN</td>\n",
       "    </tr>\n",
       "    <tr>\n",
       "      <th>4</th>\n",
       "      <td>2022-02-01T04:00</td>\n",
       "      <td>-10.8</td>\n",
       "      <td>0.0</td>\n",
       "      <td>0.0</td>\n",
       "      <td>12.0</td>\n",
       "      <td>NaN</td>\n",
       "    </tr>\n",
       "  </tbody>\n",
       "</table>\n",
       "</div>"
      ],
      "text/plain": [
       "               time  temperature_2m (°C)  rain (mm)  snowfall (cm)  \\\n",
       "0  2022-02-01T00:00                 -5.8        0.0            0.0   \n",
       "1  2022-02-01T01:00                 -7.1        0.0            0.0   \n",
       "2  2022-02-01T02:00                 -8.6        0.0            0.0   \n",
       "3  2022-02-01T03:00                 -9.8        0.0            0.0   \n",
       "4  2022-02-01T04:00                -10.8        0.0            0.0   \n",
       "\n",
       "   windspeed_10m (km/h)  Unnamed: 5  \n",
       "0                  10.3         NaN  \n",
       "1                  11.0         NaN  \n",
       "2                  11.5         NaN  \n",
       "3                  12.0         NaN  \n",
       "4                  12.0         NaN  "
      ]
     },
     "execution_count": 51,
     "metadata": {},
     "output_type": "execute_result"
    }
   ],
   "source": [
    "# first 5 rows\n",
    "weather.head(5)"
   ]
  },
  {
   "cell_type": "code",
   "execution_count": 52,
   "id": "b011c810",
   "metadata": {},
   "outputs": [
    {
     "data": {
      "text/plain": [
       "(8760, 6)"
      ]
     },
     "execution_count": 52,
     "metadata": {},
     "output_type": "execute_result"
    }
   ],
   "source": [
    "# data frame shape\n",
    "weather.shape"
   ]
  },
  {
   "cell_type": "code",
   "execution_count": 53,
   "id": "b0c7312f",
   "metadata": {},
   "outputs": [],
   "source": [
    "# converting time column to date time\n",
    "weather[\"time\"] = pd.to_datetime(weather[\"time\"])"
   ]
  },
  {
   "cell_type": "code",
   "execution_count": 54,
   "id": "86516c76",
   "metadata": {},
   "outputs": [],
   "source": [
    "# creating month, day and hour columns\n",
    "weather[\"month\"] = weather[\"time\"].dt.month\n",
    "weather[\"dayofweek\"] = weather[\"time\"].dt.dayofweek\n",
    "weather[\"hour\"] = weather[\"time\"].dt.hour"
   ]
  },
  {
   "cell_type": "code",
   "execution_count": null,
   "id": "069b83ff",
   "metadata": {},
   "outputs": [],
   "source": []
  },
  {
   "cell_type": "markdown",
   "id": "7809667f",
   "metadata": {},
   "source": [
    "## Analysing Temperature"
   ]
  },
  {
   "cell_type": "code",
   "execution_count": 55,
   "id": "906529e3",
   "metadata": {},
   "outputs": [
    {
     "name": "stdout",
     "output_type": "stream",
     "text": [
      "The minimum temperature is -13.8 and the maximum temprature is 36.0\n"
     ]
    }
   ],
   "source": [
    "max_temp = weather[\"temperature_2m (°C)\"].max()\n",
    "min_temp = weather[\"temperature_2m (°C)\"].min()\n",
    "print(f\"The minimum temperature is {min_temp} and the maximum temprature is {max_temp}\")"
   ]
  },
  {
   "cell_type": "markdown",
   "id": "5a9362eb",
   "metadata": {},
   "source": [
    "- According to current weather the lowest temperature in 2022 in New York City was 14 degrees celsius and the highest temprature was 36 degrees celsius, the values in the temperature column is within the permitter range"
   ]
  },
  {
   "cell_type": "code",
   "execution_count": null,
   "id": "c1b53ae0",
   "metadata": {},
   "outputs": [],
   "source": []
  },
  {
   "cell_type": "markdown",
   "id": "9373535e",
   "metadata": {},
   "source": [
    "# Merging taxi and weather \n"
   ]
  },
  {
   "cell_type": "code",
   "execution_count": null,
   "id": "635d404d",
   "metadata": {},
   "outputs": [],
   "source": []
  },
  {
   "cell_type": "code",
   "execution_count": 56,
   "id": "57fe7fd7",
   "metadata": {},
   "outputs": [],
   "source": [
    "# merge the rows in both data frames with the same date and time\n",
    "merged_df = pd.merge(weather, manhattan, on = [\"time\",\"month\",\"dayofweek\",\"hour\"], how = \"inner\")"
   ]
  },
  {
   "cell_type": "code",
   "execution_count": 57,
   "id": "bc6d921d",
   "metadata": {},
   "outputs": [
    {
     "data": {
      "text/plain": [
       "(538852, 11)"
      ]
     },
     "execution_count": 57,
     "metadata": {},
     "output_type": "execute_result"
    }
   ],
   "source": [
    "# shape of merged data frame\n",
    "merged_df.shape"
   ]
  },
  {
   "cell_type": "code",
   "execution_count": 58,
   "id": "32758947",
   "metadata": {},
   "outputs": [
    {
     "data": {
      "text/html": [
       "<div>\n",
       "<style scoped>\n",
       "    .dataframe tbody tr th:only-of-type {\n",
       "        vertical-align: middle;\n",
       "    }\n",
       "\n",
       "    .dataframe tbody tr th {\n",
       "        vertical-align: top;\n",
       "    }\n",
       "\n",
       "    .dataframe thead th {\n",
       "        text-align: right;\n",
       "    }\n",
       "</style>\n",
       "<table border=\"1\" class=\"dataframe\">\n",
       "  <thead>\n",
       "    <tr style=\"text-align: right;\">\n",
       "      <th></th>\n",
       "      <th>time</th>\n",
       "      <th>temperature_2m (°C)</th>\n",
       "      <th>rain (mm)</th>\n",
       "      <th>snowfall (cm)</th>\n",
       "      <th>windspeed_10m (km/h)</th>\n",
       "      <th>Unnamed: 5</th>\n",
       "      <th>month</th>\n",
       "      <th>dayofweek</th>\n",
       "      <th>hour</th>\n",
       "      <th>DOLocationID</th>\n",
       "      <th>passenger_count</th>\n",
       "    </tr>\n",
       "  </thead>\n",
       "  <tbody>\n",
       "    <tr>\n",
       "      <th>0</th>\n",
       "      <td>2022-02-01</td>\n",
       "      <td>-5.8</td>\n",
       "      <td>0.0</td>\n",
       "      <td>0.0</td>\n",
       "      <td>10.3</td>\n",
       "      <td>NaN</td>\n",
       "      <td>2</td>\n",
       "      <td>1</td>\n",
       "      <td>0</td>\n",
       "      <td>4</td>\n",
       "      <td>13.0</td>\n",
       "    </tr>\n",
       "    <tr>\n",
       "      <th>1</th>\n",
       "      <td>2022-02-01</td>\n",
       "      <td>-5.8</td>\n",
       "      <td>0.0</td>\n",
       "      <td>0.0</td>\n",
       "      <td>10.3</td>\n",
       "      <td>NaN</td>\n",
       "      <td>2</td>\n",
       "      <td>1</td>\n",
       "      <td>0</td>\n",
       "      <td>13</td>\n",
       "      <td>5.0</td>\n",
       "    </tr>\n",
       "    <tr>\n",
       "      <th>2</th>\n",
       "      <td>2022-02-01</td>\n",
       "      <td>-5.8</td>\n",
       "      <td>0.0</td>\n",
       "      <td>0.0</td>\n",
       "      <td>10.3</td>\n",
       "      <td>NaN</td>\n",
       "      <td>2</td>\n",
       "      <td>1</td>\n",
       "      <td>0</td>\n",
       "      <td>24</td>\n",
       "      <td>14.0</td>\n",
       "    </tr>\n",
       "    <tr>\n",
       "      <th>3</th>\n",
       "      <td>2022-02-01</td>\n",
       "      <td>-5.8</td>\n",
       "      <td>0.0</td>\n",
       "      <td>0.0</td>\n",
       "      <td>10.3</td>\n",
       "      <td>NaN</td>\n",
       "      <td>2</td>\n",
       "      <td>1</td>\n",
       "      <td>0</td>\n",
       "      <td>41</td>\n",
       "      <td>22.0</td>\n",
       "    </tr>\n",
       "    <tr>\n",
       "      <th>4</th>\n",
       "      <td>2022-02-01</td>\n",
       "      <td>-5.8</td>\n",
       "      <td>0.0</td>\n",
       "      <td>0.0</td>\n",
       "      <td>10.3</td>\n",
       "      <td>NaN</td>\n",
       "      <td>2</td>\n",
       "      <td>1</td>\n",
       "      <td>0</td>\n",
       "      <td>42</td>\n",
       "      <td>16.0</td>\n",
       "    </tr>\n",
       "  </tbody>\n",
       "</table>\n",
       "</div>"
      ],
      "text/plain": [
       "        time  temperature_2m (°C)  rain (mm)  snowfall (cm)  \\\n",
       "0 2022-02-01                 -5.8        0.0            0.0   \n",
       "1 2022-02-01                 -5.8        0.0            0.0   \n",
       "2 2022-02-01                 -5.8        0.0            0.0   \n",
       "3 2022-02-01                 -5.8        0.0            0.0   \n",
       "4 2022-02-01                 -5.8        0.0            0.0   \n",
       "\n",
       "   windspeed_10m (km/h)  Unnamed: 5  month  dayofweek  hour  DOLocationID  \\\n",
       "0                  10.3         NaN      2          1     0             4   \n",
       "1                  10.3         NaN      2          1     0            13   \n",
       "2                  10.3         NaN      2          1     0            24   \n",
       "3                  10.3         NaN      2          1     0            41   \n",
       "4                  10.3         NaN      2          1     0            42   \n",
       "\n",
       "   passenger_count  \n",
       "0             13.0  \n",
       "1              5.0  \n",
       "2             14.0  \n",
       "3             22.0  \n",
       "4             16.0  "
      ]
     },
     "execution_count": 58,
     "metadata": {},
     "output_type": "execute_result"
    }
   ],
   "source": [
    "# first 5 rows \n",
    "merged_df.head(5)"
   ]
  },
  {
   "cell_type": "code",
   "execution_count": null,
   "id": "37b970a5",
   "metadata": {},
   "outputs": [],
   "source": []
  },
  {
   "cell_type": "code",
   "execution_count": 59,
   "id": "a448cfff",
   "metadata": {},
   "outputs": [],
   "source": [
    "# saving merged data frame as a csv file\n",
    "merged_df.to_csv(\"taxi_weather_grouped.csv\")"
   ]
  },
  {
   "cell_type": "code",
   "execution_count": null,
   "id": "9b4c596a",
   "metadata": {},
   "outputs": [],
   "source": []
  },
  {
   "cell_type": "code",
   "execution_count": null,
   "id": "b9d9d7c7",
   "metadata": {},
   "outputs": [],
   "source": []
  },
  {
   "cell_type": "code",
   "execution_count": null,
   "id": "ffc01153",
   "metadata": {},
   "outputs": [],
   "source": []
  },
  {
   "cell_type": "code",
   "execution_count": null,
   "id": "5133bceb",
   "metadata": {},
   "outputs": [],
   "source": []
  },
  {
   "cell_type": "code",
   "execution_count": null,
   "id": "96c803f1",
   "metadata": {},
   "outputs": [],
   "source": []
  },
  {
   "cell_type": "code",
   "execution_count": null,
   "id": "2d2f056a",
   "metadata": {},
   "outputs": [],
   "source": []
  },
  {
   "cell_type": "code",
   "execution_count": null,
   "id": "035e114b",
   "metadata": {},
   "outputs": [],
   "source": []
  },
  {
   "cell_type": "code",
   "execution_count": null,
   "id": "97399549",
   "metadata": {},
   "outputs": [],
   "source": []
  },
  {
   "cell_type": "code",
   "execution_count": null,
   "id": "bae44fc6",
   "metadata": {},
   "outputs": [],
   "source": []
  },
  {
   "cell_type": "code",
   "execution_count": null,
   "id": "c9f5fce1",
   "metadata": {},
   "outputs": [],
   "source": []
  },
  {
   "cell_type": "code",
   "execution_count": null,
   "id": "5f764d63",
   "metadata": {},
   "outputs": [],
   "source": []
  },
  {
   "cell_type": "code",
   "execution_count": null,
   "id": "e1cd88b4",
   "metadata": {},
   "outputs": [],
   "source": []
  },
  {
   "cell_type": "code",
   "execution_count": null,
   "id": "3219b9a7",
   "metadata": {},
   "outputs": [],
   "source": []
  },
  {
   "cell_type": "code",
   "execution_count": null,
   "id": "ab05d30a",
   "metadata": {},
   "outputs": [],
   "source": []
  },
  {
   "cell_type": "code",
   "execution_count": null,
   "id": "4746cb4c",
   "metadata": {},
   "outputs": [],
   "source": []
  },
  {
   "cell_type": "code",
   "execution_count": null,
   "id": "af2b30d9",
   "metadata": {},
   "outputs": [],
   "source": []
  }
 ],
 "metadata": {
  "kernelspec": {
   "display_name": "Python 3 (ipykernel)",
   "language": "python",
   "name": "python3"
  },
  "language_info": {
   "codemirror_mode": {
    "name": "ipython",
    "version": 3
   },
   "file_extension": ".py",
   "mimetype": "text/x-python",
   "name": "python",
   "nbconvert_exporter": "python",
   "pygments_lexer": "ipython3",
   "version": "3.9.13"
  }
 },
 "nbformat": 4,
 "nbformat_minor": 5
}
