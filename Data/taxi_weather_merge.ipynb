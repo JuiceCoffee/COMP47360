{
 "cells": [
  {
   "cell_type": "code",
   "execution_count": 1,
   "id": "82559b52",
   "metadata": {},
   "outputs": [],
   "source": [
    "import pandas as pd"
   ]
  },
  {
   "cell_type": "code",
   "execution_count": 36,
   "id": "b96d3855",
   "metadata": {},
   "outputs": [],
   "source": [
    "# list of manhattan zones\n",
    "manhattan = [4,24,12,13,41,45,42,43,48,50,68,79,74,75,87,88,90,125,100,103,107,113,114,116,120,127,128,151,140,137\n",
    "             ,141,142,152,143,144,148,153,158,161,162,163,164,170,166,186,194,202,209,211,224,229,230,231,239,232\n",
    "             ,233,234,236,237,238,243,244,246,249,261,262,263]"
   ]
  },
  {
   "cell_type": "code",
   "execution_count": 3,
   "id": "4e57a20a",
   "metadata": {},
   "outputs": [],
   "source": [
    "# reading taxi data\n",
    "taxi = pd.read_parquet(\"taxi_parquet_all\")"
   ]
  },
  {
   "cell_type": "code",
   "execution_count": 4,
   "id": "90571742",
   "metadata": {},
   "outputs": [
    {
     "data": {
      "text/html": [
       "<div>\n",
       "<style scoped>\n",
       "    .dataframe tbody tr th:only-of-type {\n",
       "        vertical-align: middle;\n",
       "    }\n",
       "\n",
       "    .dataframe tbody tr th {\n",
       "        vertical-align: top;\n",
       "    }\n",
       "\n",
       "    .dataframe thead th {\n",
       "        text-align: right;\n",
       "    }\n",
       "</style>\n",
       "<table border=\"1\" class=\"dataframe\">\n",
       "  <thead>\n",
       "    <tr style=\"text-align: right;\">\n",
       "      <th></th>\n",
       "      <th>tpep_pickup_datetime</th>\n",
       "      <th>tpep_dropoff_datetime</th>\n",
       "      <th>passenger_count</th>\n",
       "      <th>trip_distance</th>\n",
       "      <th>PULocationID</th>\n",
       "      <th>DOLocationID</th>\n",
       "    </tr>\n",
       "  </thead>\n",
       "  <tbody>\n",
       "    <tr>\n",
       "      <th>0</th>\n",
       "      <td>2022-12-26 16:23:47</td>\n",
       "      <td>2022-12-26 16:37:44</td>\n",
       "      <td>3.0</td>\n",
       "      <td>0.80</td>\n",
       "      <td>231</td>\n",
       "      <td>211</td>\n",
       "    </tr>\n",
       "    <tr>\n",
       "      <th>1</th>\n",
       "      <td>2022-12-26 16:44:40</td>\n",
       "      <td>2022-12-26 16:49:23</td>\n",
       "      <td>2.0</td>\n",
       "      <td>0.60</td>\n",
       "      <td>211</td>\n",
       "      <td>113</td>\n",
       "    </tr>\n",
       "    <tr>\n",
       "      <th>2</th>\n",
       "      <td>2022-12-26 16:55:48</td>\n",
       "      <td>2022-12-26 17:08:24</td>\n",
       "      <td>2.0</td>\n",
       "      <td>2.60</td>\n",
       "      <td>211</td>\n",
       "      <td>162</td>\n",
       "    </tr>\n",
       "    <tr>\n",
       "      <th>3</th>\n",
       "      <td>2022-12-26 16:09:49</td>\n",
       "      <td>2022-12-26 16:52:23</td>\n",
       "      <td>2.0</td>\n",
       "      <td>11.07</td>\n",
       "      <td>163</td>\n",
       "      <td>189</td>\n",
       "    </tr>\n",
       "    <tr>\n",
       "      <th>4</th>\n",
       "      <td>2022-12-26 16:14:49</td>\n",
       "      <td>2022-12-26 16:25:12</td>\n",
       "      <td>2.0</td>\n",
       "      <td>1.00</td>\n",
       "      <td>164</td>\n",
       "      <td>68</td>\n",
       "    </tr>\n",
       "  </tbody>\n",
       "</table>\n",
       "</div>"
      ],
      "text/plain": [
       "  tpep_pickup_datetime tpep_dropoff_datetime  passenger_count  trip_distance  \\\n",
       "0  2022-12-26 16:23:47   2022-12-26 16:37:44              3.0           0.80   \n",
       "1  2022-12-26 16:44:40   2022-12-26 16:49:23              2.0           0.60   \n",
       "2  2022-12-26 16:55:48   2022-12-26 17:08:24              2.0           2.60   \n",
       "3  2022-12-26 16:09:49   2022-12-26 16:52:23              2.0          11.07   \n",
       "4  2022-12-26 16:14:49   2022-12-26 16:25:12              2.0           1.00   \n",
       "\n",
       "   PULocationID  DOLocationID  \n",
       "0           231           211  \n",
       "1           211           113  \n",
       "2           211           162  \n",
       "3           163           189  \n",
       "4           164            68  "
      ]
     },
     "execution_count": 4,
     "metadata": {},
     "output_type": "execute_result"
    }
   ],
   "source": [
    "# first 5 rows\n",
    "taxi.head(5)"
   ]
  },
  {
   "cell_type": "code",
   "execution_count": null,
   "id": "789adce9",
   "metadata": {},
   "outputs": [],
   "source": []
  },
  {
   "cell_type": "code",
   "execution_count": 5,
   "id": "f5f32f9e",
   "metadata": {},
   "outputs": [],
   "source": [
    "# converting drop off time to datetime\n",
    "taxi[\"tpep_dropoff_datetime\"] = pd.to_datetime(taxi[\"tpep_dropoff_datetime\"])"
   ]
  },
  {
   "cell_type": "code",
   "execution_count": 6,
   "id": "10a4de22",
   "metadata": {},
   "outputs": [
    {
     "data": {
      "text/plain": [
       "tpep_pickup_datetime     datetime64[ns]\n",
       "tpep_dropoff_datetime    datetime64[ns]\n",
       "passenger_count                 float64\n",
       "trip_distance                   float64\n",
       "PULocationID                      int32\n",
       "DOLocationID                      int32\n",
       "dtype: object"
      ]
     },
     "execution_count": 6,
     "metadata": {},
     "output_type": "execute_result"
    }
   ],
   "source": [
    "# confirming date time conversion\n",
    "taxi.dtypes"
   ]
  },
  {
   "cell_type": "code",
   "execution_count": 7,
   "id": "991ac0c4",
   "metadata": {},
   "outputs": [
    {
     "name": "stderr",
     "output_type": "stream",
     "text": [
      "/var/folders/6b/tc94k9n157g920l0_fmhzz000000gn/T/ipykernel_21388/2857857756.py:2: FutureWarning: In a future version of pandas all arguments of DataFrame.drop except for the argument 'labels' will be keyword-only.\n",
      "  taxi = taxi.drop([\"tpep_pickup_datetime\",\"PULocationID\"],1)\n"
     ]
    }
   ],
   "source": [
    "# dropping pickup location and time\n",
    "taxi = taxi.drop([\"tpep_pickup_datetime\",\"PULocationID\"],1)"
   ]
  },
  {
   "cell_type": "code",
   "execution_count": 8,
   "id": "8369c28a",
   "metadata": {},
   "outputs": [
    {
     "data": {
      "text/html": [
       "<div>\n",
       "<style scoped>\n",
       "    .dataframe tbody tr th:only-of-type {\n",
       "        vertical-align: middle;\n",
       "    }\n",
       "\n",
       "    .dataframe tbody tr th {\n",
       "        vertical-align: top;\n",
       "    }\n",
       "\n",
       "    .dataframe thead th {\n",
       "        text-align: right;\n",
       "    }\n",
       "</style>\n",
       "<table border=\"1\" class=\"dataframe\">\n",
       "  <thead>\n",
       "    <tr style=\"text-align: right;\">\n",
       "      <th></th>\n",
       "      <th>tpep_dropoff_datetime</th>\n",
       "      <th>passenger_count</th>\n",
       "      <th>trip_distance</th>\n",
       "      <th>DOLocationID</th>\n",
       "    </tr>\n",
       "  </thead>\n",
       "  <tbody>\n",
       "    <tr>\n",
       "      <th>0</th>\n",
       "      <td>2022-12-26 16:37:44</td>\n",
       "      <td>3.0</td>\n",
       "      <td>0.80</td>\n",
       "      <td>211</td>\n",
       "    </tr>\n",
       "    <tr>\n",
       "      <th>1</th>\n",
       "      <td>2022-12-26 16:49:23</td>\n",
       "      <td>2.0</td>\n",
       "      <td>0.60</td>\n",
       "      <td>113</td>\n",
       "    </tr>\n",
       "    <tr>\n",
       "      <th>2</th>\n",
       "      <td>2022-12-26 17:08:24</td>\n",
       "      <td>2.0</td>\n",
       "      <td>2.60</td>\n",
       "      <td>162</td>\n",
       "    </tr>\n",
       "    <tr>\n",
       "      <th>3</th>\n",
       "      <td>2022-12-26 16:52:23</td>\n",
       "      <td>2.0</td>\n",
       "      <td>11.07</td>\n",
       "      <td>189</td>\n",
       "    </tr>\n",
       "    <tr>\n",
       "      <th>4</th>\n",
       "      <td>2022-12-26 16:25:12</td>\n",
       "      <td>2.0</td>\n",
       "      <td>1.00</td>\n",
       "      <td>68</td>\n",
       "    </tr>\n",
       "  </tbody>\n",
       "</table>\n",
       "</div>"
      ],
      "text/plain": [
       "  tpep_dropoff_datetime  passenger_count  trip_distance  DOLocationID\n",
       "0   2022-12-26 16:37:44              3.0           0.80           211\n",
       "1   2022-12-26 16:49:23              2.0           0.60           113\n",
       "2   2022-12-26 17:08:24              2.0           2.60           162\n",
       "3   2022-12-26 16:52:23              2.0          11.07           189\n",
       "4   2022-12-26 16:25:12              2.0           1.00            68"
      ]
     },
     "execution_count": 8,
     "metadata": {},
     "output_type": "execute_result"
    }
   ],
   "source": [
    "# first 5 rows\n",
    "taxi.head(5)"
   ]
  },
  {
   "cell_type": "code",
   "execution_count": 9,
   "id": "051f03cb",
   "metadata": {},
   "outputs": [
    {
     "data": {
      "text/plain": [
       "(40591265, 4)"
      ]
     },
     "execution_count": 9,
     "metadata": {},
     "output_type": "execute_result"
    }
   ],
   "source": [
    "# data frame shape\n",
    "taxi.shape"
   ]
  },
  {
   "cell_type": "markdown",
   "id": "179b4a63",
   "metadata": {},
   "source": [
    "- Sources for code used to group taxi data frame\n",
    "- https://sparkbyexamples.com/pandas/pandas-aggregate-functions-with-examples/?expand_article=1\n",
    "- https://kanoki.org/pandas-group-dataframe-by-timeinterval\n",
    "- https://sparkbyexamples.com/pandas/pandas-reset-index-examples/"
   ]
  },
  {
   "cell_type": "code",
   "execution_count": null,
   "id": "b00d0182",
   "metadata": {},
   "outputs": [],
   "source": []
  },
  {
   "cell_type": "code",
   "execution_count": 25,
   "id": "b5e40a2c",
   "metadata": {},
   "outputs": [],
   "source": [
    "# grouping to get the number of passengers in each location every hour\n",
    "grouped_taxi = taxi.groupby([\"DOLocationID\", pd.Grouper(key = \"tpep_dropoff_datetime\", freq = \"1H\")]).agg({\"passenger_count\" \n",
    "                                                                                                           : \"sum\", \"trip_distance\" : \"sum\"})\n"
   ]
  },
  {
   "cell_type": "code",
   "execution_count": 31,
   "id": "96a67bd1",
   "metadata": {},
   "outputs": [],
   "source": [
    "# reseting index of grouped data frame\n",
    "grouped_taxi = grouped_taxi.reset_index()"
   ]
  },
  {
   "cell_type": "code",
   "execution_count": 32,
   "id": "91ead73c",
   "metadata": {},
   "outputs": [
    {
     "data": {
      "text/plain": [
       "(1147880, 4)"
      ]
     },
     "execution_count": 32,
     "metadata": {},
     "output_type": "execute_result"
    }
   ],
   "source": [
    "# shape of grouped data frame\n",
    "grouped_taxi.shape"
   ]
  },
  {
   "cell_type": "code",
   "execution_count": 33,
   "id": "01397689",
   "metadata": {},
   "outputs": [
    {
     "data": {
      "text/html": [
       "<div>\n",
       "<style scoped>\n",
       "    .dataframe tbody tr th:only-of-type {\n",
       "        vertical-align: middle;\n",
       "    }\n",
       "\n",
       "    .dataframe tbody tr th {\n",
       "        vertical-align: top;\n",
       "    }\n",
       "\n",
       "    .dataframe thead th {\n",
       "        text-align: right;\n",
       "    }\n",
       "</style>\n",
       "<table border=\"1\" class=\"dataframe\">\n",
       "  <thead>\n",
       "    <tr style=\"text-align: right;\">\n",
       "      <th></th>\n",
       "      <th>DOLocationID</th>\n",
       "      <th>tpep_dropoff_datetime</th>\n",
       "      <th>passenger_count</th>\n",
       "      <th>trip_distance</th>\n",
       "    </tr>\n",
       "  </thead>\n",
       "  <tbody>\n",
       "    <tr>\n",
       "      <th>0</th>\n",
       "      <td>1</td>\n",
       "      <td>2022-02-01 06:00:00</td>\n",
       "      <td>2.0</td>\n",
       "      <td>37.89</td>\n",
       "    </tr>\n",
       "    <tr>\n",
       "      <th>1</th>\n",
       "      <td>1</td>\n",
       "      <td>2022-02-01 07:00:00</td>\n",
       "      <td>5.0</td>\n",
       "      <td>44.63</td>\n",
       "    </tr>\n",
       "    <tr>\n",
       "      <th>2</th>\n",
       "      <td>1</td>\n",
       "      <td>2022-02-01 08:00:00</td>\n",
       "      <td>4.0</td>\n",
       "      <td>56.06</td>\n",
       "    </tr>\n",
       "    <tr>\n",
       "      <th>3</th>\n",
       "      <td>1</td>\n",
       "      <td>2022-02-01 09:00:00</td>\n",
       "      <td>10.0</td>\n",
       "      <td>80.56</td>\n",
       "    </tr>\n",
       "    <tr>\n",
       "      <th>4</th>\n",
       "      <td>1</td>\n",
       "      <td>2022-02-01 10:00:00</td>\n",
       "      <td>3.0</td>\n",
       "      <td>46.75</td>\n",
       "    </tr>\n",
       "  </tbody>\n",
       "</table>\n",
       "</div>"
      ],
      "text/plain": [
       "   DOLocationID tpep_dropoff_datetime  passenger_count  trip_distance\n",
       "0             1   2022-02-01 06:00:00              2.0          37.89\n",
       "1             1   2022-02-01 07:00:00              5.0          44.63\n",
       "2             1   2022-02-01 08:00:00              4.0          56.06\n",
       "3             1   2022-02-01 09:00:00             10.0          80.56\n",
       "4             1   2022-02-01 10:00:00              3.0          46.75"
      ]
     },
     "execution_count": 33,
     "metadata": {},
     "output_type": "execute_result"
    }
   ],
   "source": [
    "# first 5 rows\n",
    "grouped_taxi.head(5)"
   ]
  },
  {
   "cell_type": "markdown",
   "id": "4e120b64",
   "metadata": {},
   "source": [
    "# Sources\n",
    "- Source for how to filter data frame below\n",
    "- https://datascienceparichay.com/article/filter-dataframe-on-list-of-values/\n",
    "- Source on how to rename a column\n",
    "- https://www.geeksforgeeks.org/how-to-rename-columns-in-pandas-dataframe/"
   ]
  },
  {
   "cell_type": "code",
   "execution_count": null,
   "id": "8f801ccb",
   "metadata": {},
   "outputs": [],
   "source": []
  },
  {
   "cell_type": "code",
   "execution_count": 37,
   "id": "f249d545",
   "metadata": {},
   "outputs": [],
   "source": [
    "# filtering for rows in Manhattan\n",
    "manhattan = grouped_taxi[grouped_taxi[\"DOLocationID\"].isin(manhattan)]"
   ]
  },
  {
   "cell_type": "code",
   "execution_count": 38,
   "id": "8e868330",
   "metadata": {},
   "outputs": [
    {
     "data": {
      "text/plain": [
       "(591673, 4)"
      ]
     },
     "execution_count": 38,
     "metadata": {},
     "output_type": "execute_result"
    }
   ],
   "source": [
    "# shape of filtered data frame\n",
    "manhattan.shape"
   ]
  },
  {
   "cell_type": "code",
   "execution_count": 45,
   "id": "265f3c62",
   "metadata": {},
   "outputs": [
    {
     "data": {
      "text/html": [
       "<div>\n",
       "<style scoped>\n",
       "    .dataframe tbody tr th:only-of-type {\n",
       "        vertical-align: middle;\n",
       "    }\n",
       "\n",
       "    .dataframe tbody tr th {\n",
       "        vertical-align: top;\n",
       "    }\n",
       "\n",
       "    .dataframe thead th {\n",
       "        text-align: right;\n",
       "    }\n",
       "</style>\n",
       "<table border=\"1\" class=\"dataframe\">\n",
       "  <thead>\n",
       "    <tr style=\"text-align: right;\">\n",
       "      <th></th>\n",
       "      <th>DOLocationID</th>\n",
       "      <th>tpep_dropoff_datetime</th>\n",
       "      <th>passenger_count</th>\n",
       "      <th>trip_distance</th>\n",
       "      <th>month</th>\n",
       "      <th>dayofweek</th>\n",
       "      <th>hour</th>\n",
       "    </tr>\n",
       "  </thead>\n",
       "  <tbody>\n",
       "    <tr>\n",
       "      <th>8637</th>\n",
       "      <td>4</td>\n",
       "      <td>2022-02-01 00:00:00</td>\n",
       "      <td>13.0</td>\n",
       "      <td>13.10</td>\n",
       "      <td>2</td>\n",
       "      <td>1</td>\n",
       "      <td>0</td>\n",
       "    </tr>\n",
       "    <tr>\n",
       "      <th>8638</th>\n",
       "      <td>4</td>\n",
       "      <td>2022-02-01 01:00:00</td>\n",
       "      <td>9.0</td>\n",
       "      <td>11.43</td>\n",
       "      <td>2</td>\n",
       "      <td>1</td>\n",
       "      <td>1</td>\n",
       "    </tr>\n",
       "    <tr>\n",
       "      <th>8639</th>\n",
       "      <td>4</td>\n",
       "      <td>2022-02-01 02:00:00</td>\n",
       "      <td>6.0</td>\n",
       "      <td>3.38</td>\n",
       "      <td>2</td>\n",
       "      <td>1</td>\n",
       "      <td>2</td>\n",
       "    </tr>\n",
       "    <tr>\n",
       "      <th>8640</th>\n",
       "      <td>4</td>\n",
       "      <td>2022-02-01 03:00:00</td>\n",
       "      <td>1.0</td>\n",
       "      <td>1.70</td>\n",
       "      <td>2</td>\n",
       "      <td>1</td>\n",
       "      <td>3</td>\n",
       "    </tr>\n",
       "    <tr>\n",
       "      <th>8641</th>\n",
       "      <td>4</td>\n",
       "      <td>2022-02-01 04:00:00</td>\n",
       "      <td>6.0</td>\n",
       "      <td>12.24</td>\n",
       "      <td>2</td>\n",
       "      <td>1</td>\n",
       "      <td>4</td>\n",
       "    </tr>\n",
       "  </tbody>\n",
       "</table>\n",
       "</div>"
      ],
      "text/plain": [
       "      DOLocationID tpep_dropoff_datetime  passenger_count  trip_distance  \\\n",
       "8637             4   2022-02-01 00:00:00             13.0          13.10   \n",
       "8638             4   2022-02-01 01:00:00              9.0          11.43   \n",
       "8639             4   2022-02-01 02:00:00              6.0           3.38   \n",
       "8640             4   2022-02-01 03:00:00              1.0           1.70   \n",
       "8641             4   2022-02-01 04:00:00              6.0          12.24   \n",
       "\n",
       "      month  dayofweek  hour  \n",
       "8637      2          1     0  \n",
       "8638      2          1     1  \n",
       "8639      2          1     2  \n",
       "8640      2          1     3  \n",
       "8641      2          1     4  "
      ]
     },
     "execution_count": 45,
     "metadata": {},
     "output_type": "execute_result"
    }
   ],
   "source": [
    "# first 5 rows\n",
    "manhattan.head(5)"
   ]
  },
  {
   "cell_type": "code",
   "execution_count": 43,
   "id": "7dffc287",
   "metadata": {},
   "outputs": [
    {
     "name": "stderr",
     "output_type": "stream",
     "text": [
      "/var/folders/6b/tc94k9n157g920l0_fmhzz000000gn/T/ipykernel_21388/1171177341.py:1: SettingWithCopyWarning: \n",
      "A value is trying to be set on a copy of a slice from a DataFrame.\n",
      "Try using .loc[row_indexer,col_indexer] = value instead\n",
      "\n",
      "See the caveats in the documentation: https://pandas.pydata.org/pandas-docs/stable/user_guide/indexing.html#returning-a-view-versus-a-copy\n",
      "  manhattan[\"month\"] = manhattan[\"tpep_dropoff_datetime\"].dt.month\n",
      "/var/folders/6b/tc94k9n157g920l0_fmhzz000000gn/T/ipykernel_21388/1171177341.py:2: SettingWithCopyWarning: \n",
      "A value is trying to be set on a copy of a slice from a DataFrame.\n",
      "Try using .loc[row_indexer,col_indexer] = value instead\n",
      "\n",
      "See the caveats in the documentation: https://pandas.pydata.org/pandas-docs/stable/user_guide/indexing.html#returning-a-view-versus-a-copy\n",
      "  manhattan[\"dayofweek\"] = manhattan[\"tpep_dropoff_datetime\"].dt.dayofweek\n",
      "/var/folders/6b/tc94k9n157g920l0_fmhzz000000gn/T/ipykernel_21388/1171177341.py:3: SettingWithCopyWarning: \n",
      "A value is trying to be set on a copy of a slice from a DataFrame.\n",
      "Try using .loc[row_indexer,col_indexer] = value instead\n",
      "\n",
      "See the caveats in the documentation: https://pandas.pydata.org/pandas-docs/stable/user_guide/indexing.html#returning-a-view-versus-a-copy\n",
      "  manhattan[\"hour\"] = manhattan[\"tpep_dropoff_datetime\"].dt.hour\n"
     ]
    }
   ],
   "source": [
    "# creating month, day and hour columns\n",
    "manhattan[\"month\"] = manhattan[\"tpep_dropoff_datetime\"].dt.month\n",
    "manhattan[\"dayofweek\"] = manhattan[\"tpep_dropoff_datetime\"].dt.dayofweek\n",
    "manhattan[\"hour\"] = manhattan[\"tpep_dropoff_datetime\"].dt.hour"
   ]
  },
  {
   "cell_type": "code",
   "execution_count": 44,
   "id": "a01642f6",
   "metadata": {},
   "outputs": [
    {
     "data": {
      "text/html": [
       "<div>\n",
       "<style scoped>\n",
       "    .dataframe tbody tr th:only-of-type {\n",
       "        vertical-align: middle;\n",
       "    }\n",
       "\n",
       "    .dataframe tbody tr th {\n",
       "        vertical-align: top;\n",
       "    }\n",
       "\n",
       "    .dataframe thead th {\n",
       "        text-align: right;\n",
       "    }\n",
       "</style>\n",
       "<table border=\"1\" class=\"dataframe\">\n",
       "  <thead>\n",
       "    <tr style=\"text-align: right;\">\n",
       "      <th></th>\n",
       "      <th>DOLocationID</th>\n",
       "      <th>tpep_dropoff_datetime</th>\n",
       "      <th>passenger_count</th>\n",
       "      <th>trip_distance</th>\n",
       "      <th>month</th>\n",
       "      <th>dayofweek</th>\n",
       "      <th>hour</th>\n",
       "    </tr>\n",
       "  </thead>\n",
       "  <tbody>\n",
       "    <tr>\n",
       "      <th>8637</th>\n",
       "      <td>4</td>\n",
       "      <td>2022-02-01 00:00:00</td>\n",
       "      <td>13.0</td>\n",
       "      <td>13.10</td>\n",
       "      <td>2</td>\n",
       "      <td>1</td>\n",
       "      <td>0</td>\n",
       "    </tr>\n",
       "    <tr>\n",
       "      <th>8638</th>\n",
       "      <td>4</td>\n",
       "      <td>2022-02-01 01:00:00</td>\n",
       "      <td>9.0</td>\n",
       "      <td>11.43</td>\n",
       "      <td>2</td>\n",
       "      <td>1</td>\n",
       "      <td>1</td>\n",
       "    </tr>\n",
       "    <tr>\n",
       "      <th>8639</th>\n",
       "      <td>4</td>\n",
       "      <td>2022-02-01 02:00:00</td>\n",
       "      <td>6.0</td>\n",
       "      <td>3.38</td>\n",
       "      <td>2</td>\n",
       "      <td>1</td>\n",
       "      <td>2</td>\n",
       "    </tr>\n",
       "    <tr>\n",
       "      <th>8640</th>\n",
       "      <td>4</td>\n",
       "      <td>2022-02-01 03:00:00</td>\n",
       "      <td>1.0</td>\n",
       "      <td>1.70</td>\n",
       "      <td>2</td>\n",
       "      <td>1</td>\n",
       "      <td>3</td>\n",
       "    </tr>\n",
       "    <tr>\n",
       "      <th>8641</th>\n",
       "      <td>4</td>\n",
       "      <td>2022-02-01 04:00:00</td>\n",
       "      <td>6.0</td>\n",
       "      <td>12.24</td>\n",
       "      <td>2</td>\n",
       "      <td>1</td>\n",
       "      <td>4</td>\n",
       "    </tr>\n",
       "  </tbody>\n",
       "</table>\n",
       "</div>"
      ],
      "text/plain": [
       "      DOLocationID tpep_dropoff_datetime  passenger_count  trip_distance  \\\n",
       "8637             4   2022-02-01 00:00:00             13.0          13.10   \n",
       "8638             4   2022-02-01 01:00:00              9.0          11.43   \n",
       "8639             4   2022-02-01 02:00:00              6.0           3.38   \n",
       "8640             4   2022-02-01 03:00:00              1.0           1.70   \n",
       "8641             4   2022-02-01 04:00:00              6.0          12.24   \n",
       "\n",
       "      month  dayofweek  hour  \n",
       "8637      2          1     0  \n",
       "8638      2          1     1  \n",
       "8639      2          1     2  \n",
       "8640      2          1     3  \n",
       "8641      2          1     4  "
      ]
     },
     "execution_count": 44,
     "metadata": {},
     "output_type": "execute_result"
    }
   ],
   "source": [
    "# first 5 rows \n",
    "manhattan.head(5)"
   ]
  },
  {
   "cell_type": "code",
   "execution_count": 46,
   "id": "b53d88a3",
   "metadata": {},
   "outputs": [],
   "source": [
    "# saving filtered data frame \n",
    "manhattan.to_csv(\"manhattan_hourly_dropoffs.csv\")"
   ]
  },
  {
   "cell_type": "code",
   "execution_count": 48,
   "id": "31480f4f",
   "metadata": {},
   "outputs": [
    {
     "name": "stderr",
     "output_type": "stream",
     "text": [
      "/var/folders/6b/tc94k9n157g920l0_fmhzz000000gn/T/ipykernel_21388/1353974320.py:2: SettingWithCopyWarning: \n",
      "A value is trying to be set on a copy of a slice from a DataFrame\n",
      "\n",
      "See the caveats in the documentation: https://pandas.pydata.org/pandas-docs/stable/user_guide/indexing.html#returning-a-view-versus-a-copy\n",
      "  manhattan.rename(columns = {\"tpep_dropoff_datetime\":\"time\"}, inplace = True)\n"
     ]
    }
   ],
   "source": [
    "# renaming datetime column in taxi dataframe\n",
    "manhattan.rename(columns = {\"tpep_dropoff_datetime\":\"time\"}, inplace = True)"
   ]
  },
  {
   "cell_type": "code",
   "execution_count": 49,
   "id": "99701f76",
   "metadata": {},
   "outputs": [
    {
     "data": {
      "text/html": [
       "<div>\n",
       "<style scoped>\n",
       "    .dataframe tbody tr th:only-of-type {\n",
       "        vertical-align: middle;\n",
       "    }\n",
       "\n",
       "    .dataframe tbody tr th {\n",
       "        vertical-align: top;\n",
       "    }\n",
       "\n",
       "    .dataframe thead th {\n",
       "        text-align: right;\n",
       "    }\n",
       "</style>\n",
       "<table border=\"1\" class=\"dataframe\">\n",
       "  <thead>\n",
       "    <tr style=\"text-align: right;\">\n",
       "      <th></th>\n",
       "      <th>DOLocationID</th>\n",
       "      <th>time</th>\n",
       "      <th>passenger_count</th>\n",
       "      <th>trip_distance</th>\n",
       "      <th>month</th>\n",
       "      <th>dayofweek</th>\n",
       "      <th>hour</th>\n",
       "    </tr>\n",
       "  </thead>\n",
       "  <tbody>\n",
       "    <tr>\n",
       "      <th>8637</th>\n",
       "      <td>4</td>\n",
       "      <td>2022-02-01 00:00:00</td>\n",
       "      <td>13.0</td>\n",
       "      <td>13.10</td>\n",
       "      <td>2</td>\n",
       "      <td>1</td>\n",
       "      <td>0</td>\n",
       "    </tr>\n",
       "    <tr>\n",
       "      <th>8638</th>\n",
       "      <td>4</td>\n",
       "      <td>2022-02-01 01:00:00</td>\n",
       "      <td>9.0</td>\n",
       "      <td>11.43</td>\n",
       "      <td>2</td>\n",
       "      <td>1</td>\n",
       "      <td>1</td>\n",
       "    </tr>\n",
       "    <tr>\n",
       "      <th>8639</th>\n",
       "      <td>4</td>\n",
       "      <td>2022-02-01 02:00:00</td>\n",
       "      <td>6.0</td>\n",
       "      <td>3.38</td>\n",
       "      <td>2</td>\n",
       "      <td>1</td>\n",
       "      <td>2</td>\n",
       "    </tr>\n",
       "    <tr>\n",
       "      <th>8640</th>\n",
       "      <td>4</td>\n",
       "      <td>2022-02-01 03:00:00</td>\n",
       "      <td>1.0</td>\n",
       "      <td>1.70</td>\n",
       "      <td>2</td>\n",
       "      <td>1</td>\n",
       "      <td>3</td>\n",
       "    </tr>\n",
       "    <tr>\n",
       "      <th>8641</th>\n",
       "      <td>4</td>\n",
       "      <td>2022-02-01 04:00:00</td>\n",
       "      <td>6.0</td>\n",
       "      <td>12.24</td>\n",
       "      <td>2</td>\n",
       "      <td>1</td>\n",
       "      <td>4</td>\n",
       "    </tr>\n",
       "  </tbody>\n",
       "</table>\n",
       "</div>"
      ],
      "text/plain": [
       "      DOLocationID                time  passenger_count  trip_distance  month  \\\n",
       "8637             4 2022-02-01 00:00:00             13.0          13.10      2   \n",
       "8638             4 2022-02-01 01:00:00              9.0          11.43      2   \n",
       "8639             4 2022-02-01 02:00:00              6.0           3.38      2   \n",
       "8640             4 2022-02-01 03:00:00              1.0           1.70      2   \n",
       "8641             4 2022-02-01 04:00:00              6.0          12.24      2   \n",
       "\n",
       "      dayofweek  hour  \n",
       "8637          1     0  \n",
       "8638          1     1  \n",
       "8639          1     2  \n",
       "8640          1     3  \n",
       "8641          1     4  "
      ]
     },
     "execution_count": 49,
     "metadata": {},
     "output_type": "execute_result"
    }
   ],
   "source": [
    "# first 5 rows\n",
    "manhattan.head(5)"
   ]
  },
  {
   "cell_type": "code",
   "execution_count": null,
   "id": "23662c7c",
   "metadata": {},
   "outputs": [],
   "source": []
  },
  {
   "cell_type": "markdown",
   "id": "230cce28",
   "metadata": {},
   "source": [
    "# Weather Data\n",
    "\n",
    "Sources used to analyse weather data \n",
    "- https://www.currentresults.com/Yearly-Weather/USA/NY/New-York-City/extreme-annual-new-york-city-low-temperature.php\n",
    "- https://www.currentresults.com/Yearly-Weather/USA/NY/New-York-City/extreme-annual-new-york-city-high-temperature.php#google_vignette"
   ]
  },
  {
   "cell_type": "code",
   "execution_count": null,
   "id": "4a1484b5",
   "metadata": {},
   "outputs": [],
   "source": []
  },
  {
   "cell_type": "code",
   "execution_count": 51,
   "id": "f587c210",
   "metadata": {},
   "outputs": [],
   "source": [
    "# reading weather data \n",
    "weather = pd.read_csv(\"weather.csv\")"
   ]
  },
  {
   "cell_type": "code",
   "execution_count": 52,
   "id": "c84f9f9a",
   "metadata": {},
   "outputs": [
    {
     "data": {
      "text/html": [
       "<div>\n",
       "<style scoped>\n",
       "    .dataframe tbody tr th:only-of-type {\n",
       "        vertical-align: middle;\n",
       "    }\n",
       "\n",
       "    .dataframe tbody tr th {\n",
       "        vertical-align: top;\n",
       "    }\n",
       "\n",
       "    .dataframe thead th {\n",
       "        text-align: right;\n",
       "    }\n",
       "</style>\n",
       "<table border=\"1\" class=\"dataframe\">\n",
       "  <thead>\n",
       "    <tr style=\"text-align: right;\">\n",
       "      <th></th>\n",
       "      <th>time</th>\n",
       "      <th>temperature_2m (°C)</th>\n",
       "      <th>relativehumidity_2m (%)</th>\n",
       "      <th>dewpoint_2m (°C)</th>\n",
       "      <th>apparent_temperature (°C)</th>\n",
       "      <th>precipitation (mm)</th>\n",
       "      <th>rain (mm)</th>\n",
       "      <th>snowfall (cm)</th>\n",
       "      <th>cloudcover (%)</th>\n",
       "    </tr>\n",
       "  </thead>\n",
       "  <tbody>\n",
       "    <tr>\n",
       "      <th>0</th>\n",
       "      <td>2022-02-01T00:00</td>\n",
       "      <td>-5.8</td>\n",
       "      <td>67</td>\n",
       "      <td>-11.0</td>\n",
       "      <td>-10.6</td>\n",
       "      <td>0.0</td>\n",
       "      <td>0.0</td>\n",
       "      <td>0.0</td>\n",
       "      <td>0</td>\n",
       "    </tr>\n",
       "    <tr>\n",
       "      <th>1</th>\n",
       "      <td>2022-02-01T01:00</td>\n",
       "      <td>-7.1</td>\n",
       "      <td>70</td>\n",
       "      <td>-11.6</td>\n",
       "      <td>-12.0</td>\n",
       "      <td>0.0</td>\n",
       "      <td>0.0</td>\n",
       "      <td>0.0</td>\n",
       "      <td>1</td>\n",
       "    </tr>\n",
       "    <tr>\n",
       "      <th>2</th>\n",
       "      <td>2022-02-01T02:00</td>\n",
       "      <td>-8.6</td>\n",
       "      <td>73</td>\n",
       "      <td>-12.6</td>\n",
       "      <td>-13.7</td>\n",
       "      <td>0.0</td>\n",
       "      <td>0.0</td>\n",
       "      <td>0.0</td>\n",
       "      <td>7</td>\n",
       "    </tr>\n",
       "    <tr>\n",
       "      <th>3</th>\n",
       "      <td>2022-02-01T03:00</td>\n",
       "      <td>-9.8</td>\n",
       "      <td>75</td>\n",
       "      <td>-13.3</td>\n",
       "      <td>-15.0</td>\n",
       "      <td>0.0</td>\n",
       "      <td>0.0</td>\n",
       "      <td>0.0</td>\n",
       "      <td>26</td>\n",
       "    </tr>\n",
       "    <tr>\n",
       "      <th>4</th>\n",
       "      <td>2022-02-01T04:00</td>\n",
       "      <td>-10.8</td>\n",
       "      <td>77</td>\n",
       "      <td>-14.0</td>\n",
       "      <td>-16.0</td>\n",
       "      <td>0.0</td>\n",
       "      <td>0.0</td>\n",
       "      <td>0.0</td>\n",
       "      <td>34</td>\n",
       "    </tr>\n",
       "  </tbody>\n",
       "</table>\n",
       "</div>"
      ],
      "text/plain": [
       "               time  temperature_2m (°C)  relativehumidity_2m (%)  \\\n",
       "0  2022-02-01T00:00                 -5.8                       67   \n",
       "1  2022-02-01T01:00                 -7.1                       70   \n",
       "2  2022-02-01T02:00                 -8.6                       73   \n",
       "3  2022-02-01T03:00                 -9.8                       75   \n",
       "4  2022-02-01T04:00                -10.8                       77   \n",
       "\n",
       "   dewpoint_2m (°C)  apparent_temperature (°C)  precipitation (mm)  rain (mm)  \\\n",
       "0             -11.0                      -10.6                 0.0        0.0   \n",
       "1             -11.6                      -12.0                 0.0        0.0   \n",
       "2             -12.6                      -13.7                 0.0        0.0   \n",
       "3             -13.3                      -15.0                 0.0        0.0   \n",
       "4             -14.0                      -16.0                 0.0        0.0   \n",
       "\n",
       "   snowfall (cm)  cloudcover (%)  \n",
       "0            0.0               0  \n",
       "1            0.0               1  \n",
       "2            0.0               7  \n",
       "3            0.0              26  \n",
       "4            0.0              34  "
      ]
     },
     "execution_count": 52,
     "metadata": {},
     "output_type": "execute_result"
    }
   ],
   "source": [
    "# first 5 rows\n",
    "weather.head(5)"
   ]
  },
  {
   "cell_type": "code",
   "execution_count": 53,
   "id": "2918da7c",
   "metadata": {},
   "outputs": [
    {
     "data": {
      "text/plain": [
       "(8760, 9)"
      ]
     },
     "execution_count": 53,
     "metadata": {},
     "output_type": "execute_result"
    }
   ],
   "source": [
    "# data frame shape\n",
    "weather.shape"
   ]
  },
  {
   "cell_type": "code",
   "execution_count": 54,
   "id": "b8061dc7",
   "metadata": {},
   "outputs": [],
   "source": [
    "# converting time column to date time\n",
    "weather[\"time\"] = pd.to_datetime(weather[\"time\"])"
   ]
  },
  {
   "cell_type": "code",
   "execution_count": 55,
   "id": "044508a1",
   "metadata": {},
   "outputs": [],
   "source": [
    "# creating month, day and hour columns\n",
    "weather[\"month\"] = weather[\"time\"].dt.month\n",
    "weather[\"dayofweek\"] = weather[\"time\"].dt.dayofweek\n",
    "weather[\"hour\"] = weather[\"time\"].dt.hour"
   ]
  },
  {
   "cell_type": "code",
   "execution_count": null,
   "id": "4002a23c",
   "metadata": {},
   "outputs": [],
   "source": []
  },
  {
   "cell_type": "markdown",
   "id": "d2f42481",
   "metadata": {},
   "source": [
    "## Analysing Temperature"
   ]
  },
  {
   "cell_type": "code",
   "execution_count": 56,
   "id": "b3882762",
   "metadata": {},
   "outputs": [
    {
     "name": "stdout",
     "output_type": "stream",
     "text": [
      "The minimum temperature is -13.8 and the maximum temprature is 36.0\n"
     ]
    }
   ],
   "source": [
    "max_temp = weather[\"temperature_2m (°C)\"].max()\n",
    "min_temp = weather[\"temperature_2m (°C)\"].min()\n",
    "print(f\"The minimum temperature is {min_temp} and the maximum temprature is {max_temp}\")"
   ]
  },
  {
   "cell_type": "markdown",
   "id": "1eb3c4d8",
   "metadata": {},
   "source": [
    "- According to current weather the lowest temperature in 2022 in New York City was 14 degrees celsius and the highest temprature was 36 degrees celsius, the values in the temperature column is within the permitter range"
   ]
  },
  {
   "cell_type": "code",
   "execution_count": null,
   "id": "b67e9e5e",
   "metadata": {},
   "outputs": [],
   "source": []
  },
  {
   "cell_type": "markdown",
   "id": "2cb8abf0",
   "metadata": {},
   "source": [
    "# Merging taxi and weather \n"
   ]
  },
  {
   "cell_type": "code",
   "execution_count": null,
   "id": "d2b25230",
   "metadata": {},
   "outputs": [],
   "source": []
  },
  {
   "cell_type": "code",
   "execution_count": null,
   "id": "959b0287",
   "metadata": {},
   "outputs": [],
   "source": []
  },
  {
   "cell_type": "code",
   "execution_count": null,
   "id": "7520d23b",
   "metadata": {},
   "outputs": [],
   "source": []
  },
  {
   "cell_type": "code",
   "execution_count": 57,
   "id": "f0398ac1",
   "metadata": {},
   "outputs": [],
   "source": [
    "# merge the rows in both data frames with the same date and time\n",
    "merged_df = pd.merge(weather, manhattan, on = [\"time\",\"month\",\"dayofweek\",\"hour\"], how = \"inner\")"
   ]
  },
  {
   "cell_type": "code",
   "execution_count": 58,
   "id": "2e1994b7",
   "metadata": {},
   "outputs": [
    {
     "data": {
      "text/plain": [
       "(536123, 15)"
      ]
     },
     "execution_count": 58,
     "metadata": {},
     "output_type": "execute_result"
    }
   ],
   "source": [
    "# shape of merged data frame\n",
    "merged_df.shape"
   ]
  },
  {
   "cell_type": "code",
   "execution_count": 59,
   "id": "be3cd47d",
   "metadata": {},
   "outputs": [
    {
     "data": {
      "text/html": [
       "<div>\n",
       "<style scoped>\n",
       "    .dataframe tbody tr th:only-of-type {\n",
       "        vertical-align: middle;\n",
       "    }\n",
       "\n",
       "    .dataframe tbody tr th {\n",
       "        vertical-align: top;\n",
       "    }\n",
       "\n",
       "    .dataframe thead th {\n",
       "        text-align: right;\n",
       "    }\n",
       "</style>\n",
       "<table border=\"1\" class=\"dataframe\">\n",
       "  <thead>\n",
       "    <tr style=\"text-align: right;\">\n",
       "      <th></th>\n",
       "      <th>time</th>\n",
       "      <th>temperature_2m (°C)</th>\n",
       "      <th>relativehumidity_2m (%)</th>\n",
       "      <th>dewpoint_2m (°C)</th>\n",
       "      <th>apparent_temperature (°C)</th>\n",
       "      <th>precipitation (mm)</th>\n",
       "      <th>rain (mm)</th>\n",
       "      <th>snowfall (cm)</th>\n",
       "      <th>cloudcover (%)</th>\n",
       "      <th>month</th>\n",
       "      <th>dayofweek</th>\n",
       "      <th>hour</th>\n",
       "      <th>DOLocationID</th>\n",
       "      <th>passenger_count</th>\n",
       "      <th>trip_distance</th>\n",
       "    </tr>\n",
       "  </thead>\n",
       "  <tbody>\n",
       "    <tr>\n",
       "      <th>0</th>\n",
       "      <td>2022-02-01</td>\n",
       "      <td>-5.8</td>\n",
       "      <td>67</td>\n",
       "      <td>-11.0</td>\n",
       "      <td>-10.6</td>\n",
       "      <td>0.0</td>\n",
       "      <td>0.0</td>\n",
       "      <td>0.0</td>\n",
       "      <td>0</td>\n",
       "      <td>2</td>\n",
       "      <td>1</td>\n",
       "      <td>0</td>\n",
       "      <td>4</td>\n",
       "      <td>13.0</td>\n",
       "      <td>13.10</td>\n",
       "    </tr>\n",
       "    <tr>\n",
       "      <th>1</th>\n",
       "      <td>2022-02-01</td>\n",
       "      <td>-5.8</td>\n",
       "      <td>67</td>\n",
       "      <td>-11.0</td>\n",
       "      <td>-10.6</td>\n",
       "      <td>0.0</td>\n",
       "      <td>0.0</td>\n",
       "      <td>0.0</td>\n",
       "      <td>0</td>\n",
       "      <td>2</td>\n",
       "      <td>1</td>\n",
       "      <td>0</td>\n",
       "      <td>13</td>\n",
       "      <td>5.0</td>\n",
       "      <td>8.91</td>\n",
       "    </tr>\n",
       "    <tr>\n",
       "      <th>2</th>\n",
       "      <td>2022-02-01</td>\n",
       "      <td>-5.8</td>\n",
       "      <td>67</td>\n",
       "      <td>-11.0</td>\n",
       "      <td>-10.6</td>\n",
       "      <td>0.0</td>\n",
       "      <td>0.0</td>\n",
       "      <td>0.0</td>\n",
       "      <td>0</td>\n",
       "      <td>2</td>\n",
       "      <td>1</td>\n",
       "      <td>0</td>\n",
       "      <td>24</td>\n",
       "      <td>13.0</td>\n",
       "      <td>38.40</td>\n",
       "    </tr>\n",
       "    <tr>\n",
       "      <th>3</th>\n",
       "      <td>2022-02-01</td>\n",
       "      <td>-5.8</td>\n",
       "      <td>67</td>\n",
       "      <td>-11.0</td>\n",
       "      <td>-10.6</td>\n",
       "      <td>0.0</td>\n",
       "      <td>0.0</td>\n",
       "      <td>0.0</td>\n",
       "      <td>0</td>\n",
       "      <td>2</td>\n",
       "      <td>1</td>\n",
       "      <td>0</td>\n",
       "      <td>41</td>\n",
       "      <td>22.0</td>\n",
       "      <td>77.32</td>\n",
       "    </tr>\n",
       "    <tr>\n",
       "      <th>4</th>\n",
       "      <td>2022-02-01</td>\n",
       "      <td>-5.8</td>\n",
       "      <td>67</td>\n",
       "      <td>-11.0</td>\n",
       "      <td>-10.6</td>\n",
       "      <td>0.0</td>\n",
       "      <td>0.0</td>\n",
       "      <td>0.0</td>\n",
       "      <td>0</td>\n",
       "      <td>2</td>\n",
       "      <td>1</td>\n",
       "      <td>0</td>\n",
       "      <td>42</td>\n",
       "      <td>16.0</td>\n",
       "      <td>65.17</td>\n",
       "    </tr>\n",
       "  </tbody>\n",
       "</table>\n",
       "</div>"
      ],
      "text/plain": [
       "        time  temperature_2m (°C)  relativehumidity_2m (%)  dewpoint_2m (°C)  \\\n",
       "0 2022-02-01                 -5.8                       67             -11.0   \n",
       "1 2022-02-01                 -5.8                       67             -11.0   \n",
       "2 2022-02-01                 -5.8                       67             -11.0   \n",
       "3 2022-02-01                 -5.8                       67             -11.0   \n",
       "4 2022-02-01                 -5.8                       67             -11.0   \n",
       "\n",
       "   apparent_temperature (°C)  precipitation (mm)  rain (mm)  snowfall (cm)  \\\n",
       "0                      -10.6                 0.0        0.0            0.0   \n",
       "1                      -10.6                 0.0        0.0            0.0   \n",
       "2                      -10.6                 0.0        0.0            0.0   \n",
       "3                      -10.6                 0.0        0.0            0.0   \n",
       "4                      -10.6                 0.0        0.0            0.0   \n",
       "\n",
       "   cloudcover (%)  month  dayofweek  hour  DOLocationID  passenger_count  \\\n",
       "0               0      2          1     0             4             13.0   \n",
       "1               0      2          1     0            13              5.0   \n",
       "2               0      2          1     0            24             13.0   \n",
       "3               0      2          1     0            41             22.0   \n",
       "4               0      2          1     0            42             16.0   \n",
       "\n",
       "   trip_distance  \n",
       "0          13.10  \n",
       "1           8.91  \n",
       "2          38.40  \n",
       "3          77.32  \n",
       "4          65.17  "
      ]
     },
     "execution_count": 59,
     "metadata": {},
     "output_type": "execute_result"
    }
   ],
   "source": [
    "# first 5 rows \n",
    "merged_df.head(5)"
   ]
  },
  {
   "cell_type": "code",
   "execution_count": null,
   "id": "7f331570",
   "metadata": {},
   "outputs": [],
   "source": []
  },
  {
   "cell_type": "code",
   "execution_count": 60,
   "id": "3e53deba",
   "metadata": {},
   "outputs": [],
   "source": [
    "# saving merged data frame as a csv file\n",
    "merged_df.to_csv(\"taxi_weather_grouped.csv\")"
   ]
  },
  {
   "cell_type": "code",
   "execution_count": null,
   "id": "82ab8a52",
   "metadata": {},
   "outputs": [],
   "source": []
  },
  {
   "cell_type": "code",
   "execution_count": null,
   "id": "9bb4e36c",
   "metadata": {},
   "outputs": [],
   "source": []
  },
  {
   "cell_type": "code",
   "execution_count": null,
   "id": "ffc01153",
   "metadata": {},
   "outputs": [],
   "source": []
  },
  {
   "cell_type": "code",
   "execution_count": null,
   "id": "5133bceb",
   "metadata": {},
   "outputs": [],
   "source": []
  },
  {
   "cell_type": "code",
   "execution_count": null,
   "id": "96c803f1",
   "metadata": {},
   "outputs": [],
   "source": []
  },
  {
   "cell_type": "code",
   "execution_count": null,
   "id": "2d2f056a",
   "metadata": {},
   "outputs": [],
   "source": []
  },
  {
   "cell_type": "code",
   "execution_count": null,
   "id": "035e114b",
   "metadata": {},
   "outputs": [],
   "source": []
  },
  {
   "cell_type": "code",
   "execution_count": null,
   "id": "97399549",
   "metadata": {},
   "outputs": [],
   "source": []
  },
  {
   "cell_type": "code",
   "execution_count": null,
   "id": "bae44fc6",
   "metadata": {},
   "outputs": [],
   "source": []
  },
  {
   "cell_type": "code",
   "execution_count": null,
   "id": "c9f5fce1",
   "metadata": {},
   "outputs": [],
   "source": []
  },
  {
   "cell_type": "code",
   "execution_count": null,
   "id": "5f764d63",
   "metadata": {},
   "outputs": [],
   "source": []
  },
  {
   "cell_type": "code",
   "execution_count": null,
   "id": "e1cd88b4",
   "metadata": {},
   "outputs": [],
   "source": []
  },
  {
   "cell_type": "code",
   "execution_count": null,
   "id": "3219b9a7",
   "metadata": {},
   "outputs": [],
   "source": []
  },
  {
   "cell_type": "code",
   "execution_count": null,
   "id": "ab05d30a",
   "metadata": {},
   "outputs": [],
   "source": []
  },
  {
   "cell_type": "code",
   "execution_count": null,
   "id": "4746cb4c",
   "metadata": {},
   "outputs": [],
   "source": []
  },
  {
   "cell_type": "code",
   "execution_count": null,
   "id": "af2b30d9",
   "metadata": {},
   "outputs": [],
   "source": []
  }
 ],
 "metadata": {
  "kernelspec": {
   "display_name": "Python 3 (ipykernel)",
   "language": "python",
   "name": "python3"
  },
  "language_info": {
   "codemirror_mode": {
    "name": "ipython",
    "version": 3
   },
   "file_extension": ".py",
   "mimetype": "text/x-python",
   "name": "python",
   "nbconvert_exporter": "python",
   "pygments_lexer": "ipython3",
   "version": "3.9.13"
  }
 },
 "nbformat": 4,
 "nbformat_minor": 5
}
