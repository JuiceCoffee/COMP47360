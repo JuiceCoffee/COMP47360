{
 "cells": [
  {
   "cell_type": "markdown",
   "id": "6d2db09a",
   "metadata": {},
   "source": [
    "This code file is to select the useful columns from the raw poi-zone table and save them in a separate pickle file for later use. The useful columns are 'poi_id', 'longitude', 'latitude', and 'zone_id'."
   ]
  },
  {
   "cell_type": "code",
   "execution_count": 1,
   "id": "1e2faf3e",
   "metadata": {},
   "outputs": [],
   "source": [
    "import pandas as pd\n",
    "import pickle\n",
    "\n",
    "# set the working folder's path\n",
    "path = 'C:/Users/Administrator/practicumProject2/'"
   ]
  },
  {
   "cell_type": "code",
   "execution_count": 5,
   "id": "f4f80195",
   "metadata": {},
   "outputs": [
    {
     "name": "stdout",
     "output_type": "stream",
     "text": [
      "poi_id         int32\n",
      "latitude     float64\n",
      "zone_id        int32\n",
      "longitude    float64\n",
      "dtype: object\n"
     ]
    }
   ],
   "source": [
    "# load the poi_zone table \n",
    "columns_to_read = ['poi_id', 'longitude', 'latitude', 'zone_id']\n",
    "poi_zone = pd.read_csv(path + 'raw_poi_zone.csv', usecols=columns_to_read, encoding='utf-8')\n",
    "\n",
    "# adjust the type of some columns\n",
    "poi_zone['poi_id'] = poi_zone['poi_id'].astype('int')\n",
    "poi_zone['zone_id'] = poi_zone['zone_id'].astype('int')\n",
    "\n",
    "print(poi_zone.dtypes)"
   ]
  },
  {
   "cell_type": "code",
   "execution_count": 6,
   "id": "d5169504",
   "metadata": {},
   "outputs": [],
   "source": [
    "# save the adjusted poi-zone table in a pickle file\n",
    "with open(path+'poi_zone.pickle', 'wb') as file:\n",
    "    pickle.dump(poi_zone, file)"
   ]
  },
  {
   "cell_type": "code",
   "execution_count": null,
   "id": "306787a2",
   "metadata": {},
   "outputs": [],
   "source": []
  }
 ],
 "metadata": {
  "kernelspec": {
   "display_name": "Python 3 (ipykernel)",
   "language": "python",
   "name": "python3"
  },
  "language_info": {
   "codemirror_mode": {
    "name": "ipython",
    "version": 3
   },
   "file_extension": ".py",
   "mimetype": "text/x-python",
   "name": "python",
   "nbconvert_exporter": "python",
   "pygments_lexer": "ipython3",
   "version": "3.10.9"
  }
 },
 "nbformat": 4,
 "nbformat_minor": 5
}
